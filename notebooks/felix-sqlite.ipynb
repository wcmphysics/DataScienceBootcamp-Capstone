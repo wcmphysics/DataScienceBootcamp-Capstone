{
 "cells": [
  {
   "cell_type": "markdown",
   "metadata": {},
   "source": [
    "# Import the csv files and upload to GCP PostgreSQL server"
   ]
  },
  {
   "cell_type": "markdown",
   "metadata": {},
   "source": [
    "## Connect to the database and query\n",
    "\n",
    "Load libraries"
   ]
  },
  {
   "cell_type": "code",
   "execution_count": 8,
   "metadata": {},
   "outputs": [],
   "source": [
    "import pandas as pd\n",
    "import os\n",
    "from dotenv import load_dotenv\n",
    "from sqlalchemy import create_engine"
   ]
  },
  {
   "cell_type": "markdown",
   "metadata": {},
   "source": [
    "Create connection to database"
   ]
  },
  {
   "cell_type": "markdown",
   "metadata": {},
   "source": [
    "Try to write to postgresql"
   ]
  },
  {
   "cell_type": "code",
   "execution_count": 11,
   "metadata": {},
   "outputs": [],
   "source": [
    "load_dotenv(\"../.env\")\n",
    "DB_STRING = os.getenv('DB_STRING')\n",
    "\n",
    "db = create_engine(DB_STRING)"
   ]
  },
  {
   "cell_type": "markdown",
   "metadata": {},
   "source": [
    "Read the file and upload it to the SQL server"
   ]
  },
  {
   "cell_type": "code",
   "execution_count": 6,
   "metadata": {},
   "outputs": [],
   "source": [
    "filenames = os.listdir(\"../data/raw/data_Q1_2020/\")"
   ]
  },
  {
   "cell_type": "code",
   "execution_count": 14,
   "metadata": {},
   "outputs": [
    {
     "name": "stdout",
     "output_type": "stream",
     "text": [
      "Uploading file: 2020-02-12.csv\n",
      "Uploading file: 2020-02-06.csv\n",
      "Uploading file: 2020-02-07.csv\n",
      "Uploading file: 2020-02-13.csv\n",
      "Uploading file: 2020-02-05.csv\n",
      "Uploading file: 2020-02-11.csv\n",
      "Uploading file: 2020-02-10.csv\n",
      "Uploading file: 2020-02-04.csv\n",
      "Uploading file: 2020-02-28.csv\n",
      "Uploading file: 2020-02-14.csv\n",
      "Uploading file: 2020-02-15.csv\n",
      "Uploading file: 2020-02-01.csv\n",
      "Uploading file: 2020-02-29.csv\n",
      "Uploading file: 2020-02-17.csv\n",
      "Uploading file: 2020-02-03.csv\n",
      "Uploading file: 2020-02-02.csv\n",
      "Uploading file: 2020-02-16.csv\n",
      "Uploading file: 2020-01-08.csv\n",
      "Uploading file: 2020-01-20.csv\n",
      "Uploading file: 2020-03-19.csv\n",
      "Uploading file: 2020-03-25.csv\n",
      "Uploading file: 2020-03-31.csv\n",
      "Uploading file: 2020-03-30.csv\n",
      "Uploading file: 2020-03-24.csv\n",
      "Uploading file: 2020-03-18.csv\n",
      "Uploading file: 2020-01-21.csv\n",
      "Uploading file: 2020-01-09.csv\n",
      "Uploading file: 2020-01-23.csv\n",
      "Uploading file: 2020-03-26.csv\n",
      "Uploading file: 2020-03-27.csv\n",
      "Uploading file: 2020-01-22.csv\n",
      "Uploading file: 2020-01-26.csv\n",
      "Uploading file: 2020-03-23.csv\n",
      "Uploading file: 2020-03-22.csv\n",
      "Uploading file: 2020-01-27.csv\n",
      "Uploading file: 2020-01-25.csv\n",
      "Uploading file: 2020-01-31.csv\n",
      "Uploading file: 2020-01-19.csv\n",
      "Uploading file: 2020-03-20.csv\n",
      "Uploading file: 2020-03-08.csv\n",
      "Uploading file: 2020-03-09.csv\n",
      "Uploading file: 2020-03-21.csv\n"
     ]
    }
   ],
   "source": [
    "for file in filenames:\n",
    "    print(\"Uploading file:\", file)\n",
    "    df = pd.read_csv(\"../data/raw/data_Q1_2020/2020-01-01.csv\")\n",
    "    df.to_sql('2021', con=db, schema='public', index=False, if_exists='append')"
   ]
  },
  {
   "cell_type": "code",
   "execution_count": 12,
   "metadata": {},
   "outputs": [
    {
     "data": {
      "text/html": [
       "<div>\n",
       "<style scoped>\n",
       "    .dataframe tbody tr th:only-of-type {\n",
       "        vertical-align: middle;\n",
       "    }\n",
       "\n",
       "    .dataframe tbody tr th {\n",
       "        vertical-align: top;\n",
       "    }\n",
       "\n",
       "    .dataframe thead th {\n",
       "        text-align: right;\n",
       "    }\n",
       "</style>\n",
       "<table border=\"1\" class=\"dataframe\">\n",
       "  <thead>\n",
       "    <tr style=\"text-align: right;\">\n",
       "      <th></th>\n",
       "      <th>date</th>\n",
       "    </tr>\n",
       "  </thead>\n",
       "  <tbody>\n",
       "    <tr>\n",
       "      <th>0</th>\n",
       "      <td>2021-10-15</td>\n",
       "    </tr>\n",
       "    <tr>\n",
       "      <th>1</th>\n",
       "      <td>2021-10-12</td>\n",
       "    </tr>\n",
       "    <tr>\n",
       "      <th>2</th>\n",
       "      <td>2021-10-10</td>\n",
       "    </tr>\n",
       "    <tr>\n",
       "      <th>3</th>\n",
       "      <td>2021-10-08</td>\n",
       "    </tr>\n",
       "    <tr>\n",
       "      <th>4</th>\n",
       "      <td>2021-10-02</td>\n",
       "    </tr>\n",
       "    <tr>\n",
       "      <th>5</th>\n",
       "      <td>2021-10-14</td>\n",
       "    </tr>\n",
       "    <tr>\n",
       "      <th>6</th>\n",
       "      <td>2021-10-31</td>\n",
       "    </tr>\n",
       "    <tr>\n",
       "      <th>7</th>\n",
       "      <td>2021-10-06</td>\n",
       "    </tr>\n",
       "    <tr>\n",
       "      <th>8</th>\n",
       "      <td>2021-10-11</td>\n",
       "    </tr>\n",
       "    <tr>\n",
       "      <th>9</th>\n",
       "      <td>2021-10-03</td>\n",
       "    </tr>\n",
       "    <tr>\n",
       "      <th>10</th>\n",
       "      <td>2021-10-04</td>\n",
       "    </tr>\n",
       "    <tr>\n",
       "      <th>11</th>\n",
       "      <td>2021-10-13</td>\n",
       "    </tr>\n",
       "    <tr>\n",
       "      <th>12</th>\n",
       "      <td>2021-10-07</td>\n",
       "    </tr>\n",
       "    <tr>\n",
       "      <th>13</th>\n",
       "      <td>2021-10-01</td>\n",
       "    </tr>\n",
       "    <tr>\n",
       "      <th>14</th>\n",
       "      <td>2021-10-09</td>\n",
       "    </tr>\n",
       "    <tr>\n",
       "      <th>15</th>\n",
       "      <td>2021-10-05</td>\n",
       "    </tr>\n",
       "    <tr>\n",
       "      <th>16</th>\n",
       "      <td>2021-10-16</td>\n",
       "    </tr>\n",
       "  </tbody>\n",
       "</table>\n",
       "</div>"
      ],
      "text/plain": [
       "          date\n",
       "0   2021-10-15\n",
       "1   2021-10-12\n",
       "2   2021-10-10\n",
       "3   2021-10-08\n",
       "4   2021-10-02\n",
       "5   2021-10-14\n",
       "6   2021-10-31\n",
       "7   2021-10-06\n",
       "8   2021-10-11\n",
       "9   2021-10-03\n",
       "10  2021-10-04\n",
       "11  2021-10-13\n",
       "12  2021-10-07\n",
       "13  2021-10-01\n",
       "14  2021-10-09\n",
       "15  2021-10-05\n",
       "16  2021-10-16"
      ]
     },
     "execution_count": 12,
     "metadata": {},
     "output_type": "execute_result"
    }
   ],
   "source": [
    "df2 = pd.read_sql('SELECT DISTINCT date FROM public.\"2021\"', db)\n",
    "df2"
   ]
  },
  {
   "cell_type": "code",
   "execution_count": null,
   "metadata": {},
   "outputs": [],
   "source": []
  }
 ],
 "metadata": {
  "interpreter": {
   "hash": "154c2bf59eb31e71df54e9263924a6ea5cd0235545ed5cc0de50040e78b9c3e1"
  },
  "kernelspec": {
   "display_name": "Python 3.9.4 ('.venv': venv)",
   "language": "python",
   "name": "python3"
  },
  "language_info": {
   "codemirror_mode": {
    "name": "ipython",
    "version": 3
   },
   "file_extension": ".py",
   "mimetype": "text/x-python",
   "name": "python",
   "nbconvert_exporter": "python",
   "pygments_lexer": "ipython3",
   "version": "3.9.4"
  },
  "orig_nbformat": 4
 },
 "nbformat": 4,
 "nbformat_minor": 2
}
