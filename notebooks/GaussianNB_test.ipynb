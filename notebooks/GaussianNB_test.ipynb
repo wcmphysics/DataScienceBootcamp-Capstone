{
 "cells": [
  {
   "cell_type": "code",
   "execution_count": 1,
   "metadata": {},
   "outputs": [],
   "source": [
    "import pandas as pd\n",
    "import numpy as np\n",
    "import matplotlib.pyplot as plt\n",
    "import seaborn as sns\n",
    "\n",
    "from sklearn.model_selection import train_test_split\n",
    "from sklearn.preprocessing import MinMaxScaler\n",
    "from sklearn.naive_bayes import GaussianNB\n",
    "from sklearn.metrics import roc_auc_score, RocCurveDisplay, fbeta_score, accuracy_score, precision_score, recall_score, precision_recall_curve\n",
    "\n",
    "\n",
    "plt.style.use('seaborn')\n",
    "\n",
    "import os\n",
    "import sys\n",
    "sys.path.append(\"..\")\n",
    "from src.data.preprocessing import load_preprocess_data\n",
    "from src.features.feature_engineering import create_features, unwrap_smart_7\n",
    "\n"
   ]
  },
  {
   "cell_type": "code",
   "execution_count": 2,
   "metadata": {},
   "outputs": [
    {
     "name": "stderr",
     "output_type": "stream",
     "text": [
      "  0%|          | 0/608 [00:00<?, ?it/s]../src/features/feature_engineering.py:117: SettingWithCopyWarning: \n",
      "A value is trying to be set on a copy of a slice from a DataFrame\n",
      "\n",
      "See the caveats in the documentation: https://pandas.pydata.org/pandas-docs/stable/user_guide/indexing.html#returning-a-view-versus-a-copy\n",
      "  df.smart_7_mod[temp_data.index] = temp_data.smart_7_raw\n",
      "100%|██████████| 608/608 [00:13<00:00, 45.83it/s]\n",
      "100%|██████████| 608/608 [00:13<00:00, 44.98it/s]\n"
     ]
    }
   ],
   "source": [
    "# read data\n",
    "repo_path = os.getcwd() + \"/../\"\n",
    "df_source = load_preprocess_data(path=repo_path)\n",
    "df = create_features(df_source, interval=30, trigger_percentage=0.05)\n",
    "df = unwrap_smart_7(df)"
   ]
  },
  {
   "cell_type": "markdown",
   "metadata": {},
   "source": [
    "# Check Duplicates"
   ]
  },
  {
   "cell_type": "code",
   "execution_count": 4,
   "metadata": {},
   "outputs": [
    {
     "name": "stdout",
     "output_type": "stream",
     "text": [
      "Number of failed days: 610\n",
      "Number of unique serial number on the failed day: 608\n",
      "There 2 duplicates\n",
      "   duplicated serial numbers ['Z302SQFX', 'Z303VDR4']\n",
      "Number of rows before drop: 462966\n",
      "Number of rows after drop: 462964\n"
     ]
    }
   ],
   "source": [
    "serials_failed = df_source.query(\"failure == 1\")[\"serial_number\"].to_list()\n",
    "serials_failed_unique = set(serials_failed)\n",
    "print(\"Number of failed days:\", len(serials_failed))\n",
    "print(\"Number of unique serial number on the failed day:\", len(serials_failed_unique))\n",
    "tmp = serials_failed[:]\n",
    "for serial in serials_failed_unique:\n",
    "    tmp.remove(serial)\n",
    "\n",
    "if len(tmp) == 0:\n",
    "    print(\"There is no duplicate\")\n",
    "else:\n",
    "    print(f\"There {len(tmp)} duplicates\")\n",
    "    print(\"   duplicated serial numbers\",tmp)\n",
    "    df.drop(298155, inplace=True)\n",
    "    df.drop(309081, inplace=True)\n",
    "    df.reset_index(inplace=True)\n",
    "    print(\"Number of rows before drop:\", len(df_source))\n",
    "    print(\"Number of rows after drop:\", len(df))   "
   ]
  },
  {
   "cell_type": "code",
   "execution_count": 5,
   "metadata": {},
   "outputs": [
    {
     "data": {
      "text/html": [
       "<div>\n",
       "<style scoped>\n",
       "    .dataframe tbody tr th:only-of-type {\n",
       "        vertical-align: middle;\n",
       "    }\n",
       "\n",
       "    .dataframe tbody tr th {\n",
       "        vertical-align: top;\n",
       "    }\n",
       "\n",
       "    .dataframe thead th {\n",
       "        text-align: right;\n",
       "    }\n",
       "</style>\n",
       "<table border=\"1\" class=\"dataframe\">\n",
       "  <thead>\n",
       "    <tr style=\"text-align: right;\">\n",
       "      <th></th>\n",
       "      <th>date</th>\n",
       "      <th>serial_number</th>\n",
       "      <th>model</th>\n",
       "      <th>failure</th>\n",
       "      <th>smart_1_raw</th>\n",
       "      <th>smart_4_raw</th>\n",
       "      <th>smart_5_raw</th>\n",
       "      <th>smart_7_mod</th>\n",
       "      <th>smart_9_raw</th>\n",
       "      <th>smart_12_raw</th>\n",
       "      <th>...</th>\n",
       "      <th>smart_197_raw</th>\n",
       "      <th>smart_198_raw</th>\n",
       "      <th>smart_199_raw</th>\n",
       "      <th>smart_240_raw</th>\n",
       "      <th>smart_241_raw</th>\n",
       "      <th>smart_242_raw</th>\n",
       "      <th>date_failure</th>\n",
       "      <th>countdown</th>\n",
       "      <th>smart_999</th>\n",
       "      <th>failure_in_30_days</th>\n",
       "    </tr>\n",
       "  </thead>\n",
       "  <tbody>\n",
       "    <tr>\n",
       "      <th>0</th>\n",
       "      <td>2020-09-18</td>\n",
       "      <td>Z304JG86</td>\n",
       "      <td>ST4000DM000</td>\n",
       "      <td>0</td>\n",
       "      <td>93783288.0</td>\n",
       "      <td>13.0</td>\n",
       "      <td>0.0</td>\n",
       "      <td>1.208037e+09</td>\n",
       "      <td>42390.0</td>\n",
       "      <td>13.0</td>\n",
       "      <td>...</td>\n",
       "      <td>0.0</td>\n",
       "      <td>0.0</td>\n",
       "      <td>0.0</td>\n",
       "      <td>42329.0</td>\n",
       "      <td>5.519570e+10</td>\n",
       "      <td>2.709359e+11</td>\n",
       "      <td>2020-11-07</td>\n",
       "      <td>50</td>\n",
       "      <td>0</td>\n",
       "      <td>0</td>\n",
       "    </tr>\n",
       "    <tr>\n",
       "      <th>1</th>\n",
       "      <td>2020-09-18</td>\n",
       "      <td>S301GMGZ</td>\n",
       "      <td>ST4000DM000</td>\n",
       "      <td>0</td>\n",
       "      <td>55185864.0</td>\n",
       "      <td>13.0</td>\n",
       "      <td>0.0</td>\n",
       "      <td>1.584124e+09</td>\n",
       "      <td>42857.0</td>\n",
       "      <td>13.0</td>\n",
       "      <td>...</td>\n",
       "      <td>16.0</td>\n",
       "      <td>16.0</td>\n",
       "      <td>0.0</td>\n",
       "      <td>42778.0</td>\n",
       "      <td>5.982921e+10</td>\n",
       "      <td>2.557590e+11</td>\n",
       "      <td>2021-05-31</td>\n",
       "      <td>255</td>\n",
       "      <td>3</td>\n",
       "      <td>0</td>\n",
       "    </tr>\n",
       "    <tr>\n",
       "      <th>2</th>\n",
       "      <td>2020-09-18</td>\n",
       "      <td>S300YQTN</td>\n",
       "      <td>ST4000DM000</td>\n",
       "      <td>0</td>\n",
       "      <td>170426904.0</td>\n",
       "      <td>6.0</td>\n",
       "      <td>0.0</td>\n",
       "      <td>1.638586e+09</td>\n",
       "      <td>46828.0</td>\n",
       "      <td>6.0</td>\n",
       "      <td>...</td>\n",
       "      <td>16.0</td>\n",
       "      <td>16.0</td>\n",
       "      <td>0.0</td>\n",
       "      <td>46671.0</td>\n",
       "      <td>6.363719e+10</td>\n",
       "      <td>2.580255e+11</td>\n",
       "      <td>2021-05-28</td>\n",
       "      <td>252</td>\n",
       "      <td>0</td>\n",
       "      <td>0</td>\n",
       "    </tr>\n",
       "    <tr>\n",
       "      <th>3</th>\n",
       "      <td>2020-09-18</td>\n",
       "      <td>Z302T8AB</td>\n",
       "      <td>ST4000DM000</td>\n",
       "      <td>0</td>\n",
       "      <td>119029336.0</td>\n",
       "      <td>27.0</td>\n",
       "      <td>0.0</td>\n",
       "      <td>1.615135e+09</td>\n",
       "      <td>44034.0</td>\n",
       "      <td>27.0</td>\n",
       "      <td>...</td>\n",
       "      <td>0.0</td>\n",
       "      <td>0.0</td>\n",
       "      <td>0.0</td>\n",
       "      <td>43845.0</td>\n",
       "      <td>6.252935e+10</td>\n",
       "      <td>2.568232e+11</td>\n",
       "      <td>2020-12-04</td>\n",
       "      <td>77</td>\n",
       "      <td>0</td>\n",
       "      <td>0</td>\n",
       "    </tr>\n",
       "    <tr>\n",
       "      <th>4</th>\n",
       "      <td>2020-09-18</td>\n",
       "      <td>Z302SXFH</td>\n",
       "      <td>ST4000DM000</td>\n",
       "      <td>0</td>\n",
       "      <td>18778216.0</td>\n",
       "      <td>8.0</td>\n",
       "      <td>0.0</td>\n",
       "      <td>1.586665e+09</td>\n",
       "      <td>44474.0</td>\n",
       "      <td>8.0</td>\n",
       "      <td>...</td>\n",
       "      <td>0.0</td>\n",
       "      <td>0.0</td>\n",
       "      <td>57.0</td>\n",
       "      <td>44350.0</td>\n",
       "      <td>6.250835e+10</td>\n",
       "      <td>2.357636e+11</td>\n",
       "      <td>2020-09-22</td>\n",
       "      <td>4</td>\n",
       "      <td>0</td>\n",
       "      <td>1</td>\n",
       "    </tr>\n",
       "  </tbody>\n",
       "</table>\n",
       "<p>5 rows × 29 columns</p>\n",
       "</div>"
      ],
      "text/plain": [
       "        date serial_number        model  failure  smart_1_raw  smart_4_raw  \\\n",
       "0 2020-09-18      Z304JG86  ST4000DM000        0   93783288.0         13.0   \n",
       "1 2020-09-18      S301GMGZ  ST4000DM000        0   55185864.0         13.0   \n",
       "2 2020-09-18      S300YQTN  ST4000DM000        0  170426904.0          6.0   \n",
       "3 2020-09-18      Z302T8AB  ST4000DM000        0  119029336.0         27.0   \n",
       "4 2020-09-18      Z302SXFH  ST4000DM000        0   18778216.0          8.0   \n",
       "\n",
       "   smart_5_raw   smart_7_mod  smart_9_raw  smart_12_raw  ...  smart_197_raw  \\\n",
       "0          0.0  1.208037e+09      42390.0          13.0  ...            0.0   \n",
       "1          0.0  1.584124e+09      42857.0          13.0  ...           16.0   \n",
       "2          0.0  1.638586e+09      46828.0           6.0  ...           16.0   \n",
       "3          0.0  1.615135e+09      44034.0          27.0  ...            0.0   \n",
       "4          0.0  1.586665e+09      44474.0           8.0  ...            0.0   \n",
       "\n",
       "   smart_198_raw  smart_199_raw  smart_240_raw  smart_241_raw  smart_242_raw  \\\n",
       "0            0.0            0.0        42329.0   5.519570e+10   2.709359e+11   \n",
       "1           16.0            0.0        42778.0   5.982921e+10   2.557590e+11   \n",
       "2           16.0            0.0        46671.0   6.363719e+10   2.580255e+11   \n",
       "3            0.0            0.0        43845.0   6.252935e+10   2.568232e+11   \n",
       "4            0.0           57.0        44350.0   6.250835e+10   2.357636e+11   \n",
       "\n",
       "   date_failure  countdown  smart_999  failure_in_30_days  \n",
       "0    2020-11-07         50          0                   0  \n",
       "1    2021-05-31        255          3                   0  \n",
       "2    2021-05-28        252          0                   0  \n",
       "3    2020-12-04         77          0                   0  \n",
       "4    2020-09-22          4          0                   1  \n",
       "\n",
       "[5 rows x 29 columns]"
      ]
     },
     "execution_count": 5,
     "metadata": {},
     "output_type": "execute_result"
    }
   ],
   "source": [
    "# select features\n",
    "cols = ['date', 'serial_number', 'model', 'failure', 'smart_1_raw',\n",
    "       'smart_4_raw', 'smart_5_raw', 'smart_7_mod', 'smart_9_raw',\n",
    "       'smart_12_raw', 'smart_183_raw', 'smart_184_raw', 'smart_187_raw',\n",
    "       'smart_188_raw', 'smart_189_raw', 'smart_190_raw', 'smart_192_raw',\n",
    "       'smart_193_raw', 'smart_194_raw', 'smart_197_raw', 'smart_198_raw',\n",
    "       'smart_199_raw', 'smart_240_raw', 'smart_241_raw', 'smart_242_raw',\n",
    "       'date_failure', 'countdown','smart_999']\n",
    "df = df[pd.Index(cols)]\n",
    "\n",
    "# create target\n",
    "df['failure_in_30_days'] = df['countdown'].apply(lambda x : 1 if x <= 30 else 0)\n",
    "df.head(5)"
   ]
  },
  {
   "cell_type": "code",
   "execution_count": 6,
   "metadata": {},
   "outputs": [
    {
     "name": "stdout",
     "output_type": "stream",
     "text": [
      "number of unique disk in data: 608\n",
      "number of unique disk in train: 486\n",
      "number of unique disk in test: 122\n"
     ]
    }
   ],
   "source": [
    "# split data\n",
    "RSEED = 200\n",
    "serial_train, serial_test, dummy1, dummy2 = train_test_split(df['serial_number'].unique(), df['serial_number'].unique(), test_size=0.2, random_state=RSEED)\n",
    "df_train = df[df['serial_number'].isin(serial_train)]\n",
    "df_test = df[df['serial_number'].isin(serial_test)]\n",
    "\n",
    "print(\"number of unique disk in data:\", df[\"serial_number\"].nunique())\n",
    "print(\"number of unique disk in train:\", df_train[\"serial_number\"].nunique())\n",
    "print(\"number of unique disk in test:\", df_test[\"serial_number\"].nunique())"
   ]
  },
  {
   "cell_type": "code",
   "execution_count": 8,
   "metadata": {},
   "outputs": [],
   "source": [
    "# set X and y\n",
    "cols_feauture = [\n",
    "    'smart_1_raw', 'smart_4_raw', 'smart_5_raw', 'smart_7_mod', 'smart_9_raw',\n",
    "    'smart_12_raw', 'smart_183_raw', 'smart_184_raw', 'smart_187_raw',\n",
    "    'smart_188_raw', 'smart_189_raw', 'smart_190_raw', 'smart_192_raw',\n",
    "    'smart_193_raw', 'smart_194_raw', 'smart_197_raw', 'smart_198_raw',\n",
    "    'smart_199_raw', 'smart_240_raw', 'smart_241_raw', 'smart_242_raw',\n",
    "    'smart_999']\n",
    "\n",
    "X_train = df_train[cols_feauture]\n",
    "y_train = df_train['failure_in_30_days']\n",
    "\n",
    "X_test = df_test[cols_feauture]\n",
    "y_test = df_test['failure_in_30_days']"
   ]
  },
  {
   "cell_type": "code",
   "execution_count": 9,
   "metadata": {},
   "outputs": [
    {
     "data": {
      "text/html": [
       "<div>\n",
       "<style scoped>\n",
       "    .dataframe tbody tr th:only-of-type {\n",
       "        vertical-align: middle;\n",
       "    }\n",
       "\n",
       "    .dataframe tbody tr th {\n",
       "        vertical-align: top;\n",
       "    }\n",
       "\n",
       "    .dataframe thead th {\n",
       "        text-align: right;\n",
       "    }\n",
       "</style>\n",
       "<table border=\"1\" class=\"dataframe\">\n",
       "  <thead>\n",
       "    <tr style=\"text-align: right;\">\n",
       "      <th></th>\n",
       "      <th>smart_1_raw</th>\n",
       "      <th>smart_4_raw</th>\n",
       "      <th>smart_5_raw</th>\n",
       "      <th>smart_7_mod</th>\n",
       "      <th>smart_9_raw</th>\n",
       "      <th>smart_12_raw</th>\n",
       "      <th>smart_183_raw</th>\n",
       "      <th>smart_184_raw</th>\n",
       "      <th>smart_187_raw</th>\n",
       "      <th>smart_188_raw</th>\n",
       "      <th>...</th>\n",
       "      <th>smart_192_raw</th>\n",
       "      <th>smart_193_raw</th>\n",
       "      <th>smart_194_raw</th>\n",
       "      <th>smart_197_raw</th>\n",
       "      <th>smart_198_raw</th>\n",
       "      <th>smart_199_raw</th>\n",
       "      <th>smart_240_raw</th>\n",
       "      <th>smart_241_raw</th>\n",
       "      <th>smart_242_raw</th>\n",
       "      <th>smart_999</th>\n",
       "    </tr>\n",
       "  </thead>\n",
       "  <tbody>\n",
       "    <tr>\n",
       "      <th>count</th>\n",
       "      <td>373587.000000</td>\n",
       "      <td>373587.000000</td>\n",
       "      <td>373587.000000</td>\n",
       "      <td>373587.000000</td>\n",
       "      <td>373587.000000</td>\n",
       "      <td>373587.000000</td>\n",
       "      <td>373587.000000</td>\n",
       "      <td>373587.000000</td>\n",
       "      <td>373587.000000</td>\n",
       "      <td>373587.000000</td>\n",
       "      <td>...</td>\n",
       "      <td>373587.000000</td>\n",
       "      <td>373587.000000</td>\n",
       "      <td>373587.000000</td>\n",
       "      <td>373587.000000</td>\n",
       "      <td>373587.000000</td>\n",
       "      <td>373587.000000</td>\n",
       "      <td>373587.000000</td>\n",
       "      <td>373587.000000</td>\n",
       "      <td>373587.000000</td>\n",
       "      <td>373587.000000</td>\n",
       "    </tr>\n",
       "    <tr>\n",
       "      <th>mean</th>\n",
       "      <td>0.948190</td>\n",
       "      <td>0.392936</td>\n",
       "      <td>0.022483</td>\n",
       "      <td>0.427393</td>\n",
       "      <td>0.718505</td>\n",
       "      <td>0.389219</td>\n",
       "      <td>0.078963</td>\n",
       "      <td>0.002497</td>\n",
       "      <td>0.086983</td>\n",
       "      <td>0.004014</td>\n",
       "      <td>...</td>\n",
       "      <td>0.042922</td>\n",
       "      <td>0.582136</td>\n",
       "      <td>0.275498</td>\n",
       "      <td>0.039591</td>\n",
       "      <td>0.039591</td>\n",
       "      <td>0.006742</td>\n",
       "      <td>0.716863</td>\n",
       "      <td>0.804964</td>\n",
       "      <td>0.406216</td>\n",
       "      <td>0.062541</td>\n",
       "    </tr>\n",
       "    <tr>\n",
       "      <th>std</th>\n",
       "      <td>0.051992</td>\n",
       "      <td>0.112721</td>\n",
       "      <td>0.109289</td>\n",
       "      <td>0.043015</td>\n",
       "      <td>0.120044</td>\n",
       "      <td>0.114837</td>\n",
       "      <td>0.143712</td>\n",
       "      <td>0.036929</td>\n",
       "      <td>0.177273</td>\n",
       "      <td>0.041515</td>\n",
       "      <td>...</td>\n",
       "      <td>0.092940</td>\n",
       "      <td>0.136698</td>\n",
       "      <td>0.096927</td>\n",
       "      <td>0.108436</td>\n",
       "      <td>0.108436</td>\n",
       "      <td>0.066073</td>\n",
       "      <td>0.120699</td>\n",
       "      <td>0.101998</td>\n",
       "      <td>0.135322</td>\n",
       "      <td>0.172667</td>\n",
       "    </tr>\n",
       "    <tr>\n",
       "      <th>min</th>\n",
       "      <td>0.000000</td>\n",
       "      <td>0.000000</td>\n",
       "      <td>0.000000</td>\n",
       "      <td>0.000000</td>\n",
       "      <td>0.000000</td>\n",
       "      <td>0.000000</td>\n",
       "      <td>0.000000</td>\n",
       "      <td>0.000000</td>\n",
       "      <td>0.000000</td>\n",
       "      <td>0.000000</td>\n",
       "      <td>...</td>\n",
       "      <td>0.000000</td>\n",
       "      <td>0.000000</td>\n",
       "      <td>0.000000</td>\n",
       "      <td>0.000000</td>\n",
       "      <td>0.000000</td>\n",
       "      <td>0.000000</td>\n",
       "      <td>0.000000</td>\n",
       "      <td>0.000000</td>\n",
       "      <td>0.000000</td>\n",
       "      <td>0.000000</td>\n",
       "    </tr>\n",
       "    <tr>\n",
       "      <th>25%</th>\n",
       "      <td>0.928428</td>\n",
       "      <td>0.313298</td>\n",
       "      <td>0.000000</td>\n",
       "      <td>0.403520</td>\n",
       "      <td>0.632535</td>\n",
       "      <td>0.313724</td>\n",
       "      <td>0.000000</td>\n",
       "      <td>0.000000</td>\n",
       "      <td>0.000000</td>\n",
       "      <td>0.000000</td>\n",
       "      <td>...</td>\n",
       "      <td>0.000000</td>\n",
       "      <td>0.521479</td>\n",
       "      <td>0.202956</td>\n",
       "      <td>0.000000</td>\n",
       "      <td>0.000000</td>\n",
       "      <td>0.000000</td>\n",
       "      <td>0.630240</td>\n",
       "      <td>0.768417</td>\n",
       "      <td>0.298243</td>\n",
       "      <td>0.000000</td>\n",
       "    </tr>\n",
       "    <tr>\n",
       "      <th>50%</th>\n",
       "      <td>0.964129</td>\n",
       "      <td>0.385267</td>\n",
       "      <td>0.000000</td>\n",
       "      <td>0.428716</td>\n",
       "      <td>0.720894</td>\n",
       "      <td>0.385791</td>\n",
       "      <td>0.000000</td>\n",
       "      <td>0.000000</td>\n",
       "      <td>0.000000</td>\n",
       "      <td>0.000000</td>\n",
       "      <td>...</td>\n",
       "      <td>0.000000</td>\n",
       "      <td>0.572584</td>\n",
       "      <td>0.270698</td>\n",
       "      <td>0.000000</td>\n",
       "      <td>0.000000</td>\n",
       "      <td>0.000000</td>\n",
       "      <td>0.719115</td>\n",
       "      <td>0.822254</td>\n",
       "      <td>0.399058</td>\n",
       "      <td>0.000000</td>\n",
       "    </tr>\n",
       "    <tr>\n",
       "      <th>75%</th>\n",
       "      <td>0.985082</td>\n",
       "      <td>0.455361</td>\n",
       "      <td>0.000000</td>\n",
       "      <td>0.449706</td>\n",
       "      <td>0.808877</td>\n",
       "      <td>0.455980</td>\n",
       "      <td>0.166946</td>\n",
       "      <td>0.000000</td>\n",
       "      <td>0.000000</td>\n",
       "      <td>0.000000</td>\n",
       "      <td>...</td>\n",
       "      <td>0.000000</td>\n",
       "      <td>0.618604</td>\n",
       "      <td>0.349349</td>\n",
       "      <td>0.000000</td>\n",
       "      <td>0.000000</td>\n",
       "      <td>0.000000</td>\n",
       "      <td>0.807789</td>\n",
       "      <td>0.867832</td>\n",
       "      <td>0.499240</td>\n",
       "      <td>0.000000</td>\n",
       "    </tr>\n",
       "    <tr>\n",
       "      <th>max</th>\n",
       "      <td>1.000000</td>\n",
       "      <td>1.000000</td>\n",
       "      <td>1.000000</td>\n",
       "      <td>1.000000</td>\n",
       "      <td>1.000000</td>\n",
       "      <td>1.000000</td>\n",
       "      <td>1.000000</td>\n",
       "      <td>1.000000</td>\n",
       "      <td>1.000000</td>\n",
       "      <td>1.000000</td>\n",
       "      <td>...</td>\n",
       "      <td>1.000000</td>\n",
       "      <td>1.000000</td>\n",
       "      <td>1.000000</td>\n",
       "      <td>1.000000</td>\n",
       "      <td>1.000000</td>\n",
       "      <td>1.000000</td>\n",
       "      <td>1.000000</td>\n",
       "      <td>1.000000</td>\n",
       "      <td>1.000000</td>\n",
       "      <td>1.000000</td>\n",
       "    </tr>\n",
       "  </tbody>\n",
       "</table>\n",
       "<p>8 rows × 22 columns</p>\n",
       "</div>"
      ],
      "text/plain": [
       "         smart_1_raw    smart_4_raw    smart_5_raw    smart_7_mod  \\\n",
       "count  373587.000000  373587.000000  373587.000000  373587.000000   \n",
       "mean        0.948190       0.392936       0.022483       0.427393   \n",
       "std         0.051992       0.112721       0.109289       0.043015   \n",
       "min         0.000000       0.000000       0.000000       0.000000   \n",
       "25%         0.928428       0.313298       0.000000       0.403520   \n",
       "50%         0.964129       0.385267       0.000000       0.428716   \n",
       "75%         0.985082       0.455361       0.000000       0.449706   \n",
       "max         1.000000       1.000000       1.000000       1.000000   \n",
       "\n",
       "         smart_9_raw   smart_12_raw  smart_183_raw  smart_184_raw  \\\n",
       "count  373587.000000  373587.000000  373587.000000  373587.000000   \n",
       "mean        0.718505       0.389219       0.078963       0.002497   \n",
       "std         0.120044       0.114837       0.143712       0.036929   \n",
       "min         0.000000       0.000000       0.000000       0.000000   \n",
       "25%         0.632535       0.313724       0.000000       0.000000   \n",
       "50%         0.720894       0.385791       0.000000       0.000000   \n",
       "75%         0.808877       0.455980       0.166946       0.000000   \n",
       "max         1.000000       1.000000       1.000000       1.000000   \n",
       "\n",
       "       smart_187_raw  smart_188_raw  ...  smart_192_raw  smart_193_raw  \\\n",
       "count  373587.000000  373587.000000  ...  373587.000000  373587.000000   \n",
       "mean        0.086983       0.004014  ...       0.042922       0.582136   \n",
       "std         0.177273       0.041515  ...       0.092940       0.136698   \n",
       "min         0.000000       0.000000  ...       0.000000       0.000000   \n",
       "25%         0.000000       0.000000  ...       0.000000       0.521479   \n",
       "50%         0.000000       0.000000  ...       0.000000       0.572584   \n",
       "75%         0.000000       0.000000  ...       0.000000       0.618604   \n",
       "max         1.000000       1.000000  ...       1.000000       1.000000   \n",
       "\n",
       "       smart_194_raw  smart_197_raw  smart_198_raw  smart_199_raw  \\\n",
       "count  373587.000000  373587.000000  373587.000000  373587.000000   \n",
       "mean        0.275498       0.039591       0.039591       0.006742   \n",
       "std         0.096927       0.108436       0.108436       0.066073   \n",
       "min         0.000000       0.000000       0.000000       0.000000   \n",
       "25%         0.202956       0.000000       0.000000       0.000000   \n",
       "50%         0.270698       0.000000       0.000000       0.000000   \n",
       "75%         0.349349       0.000000       0.000000       0.000000   \n",
       "max         1.000000       1.000000       1.000000       1.000000   \n",
       "\n",
       "       smart_240_raw  smart_241_raw  smart_242_raw      smart_999  \n",
       "count  373587.000000  373587.000000  373587.000000  373587.000000  \n",
       "mean        0.716863       0.804964       0.406216       0.062541  \n",
       "std         0.120699       0.101998       0.135322       0.172667  \n",
       "min         0.000000       0.000000       0.000000       0.000000  \n",
       "25%         0.630240       0.768417       0.298243       0.000000  \n",
       "50%         0.719115       0.822254       0.399058       0.000000  \n",
       "75%         0.807789       0.867832       0.499240       0.000000  \n",
       "max         1.000000       1.000000       1.000000       1.000000  \n",
       "\n",
       "[8 rows x 22 columns]"
      ]
     },
     "execution_count": 9,
     "metadata": {},
     "output_type": "execute_result"
    }
   ],
   "source": [
    "# log \n",
    "X_train_log = X_train.apply(lambda x : np.log10(x+1))\n",
    "X_test_log = X_test.apply(lambda x : np.log10(x+1))\n",
    "\n",
    "# scale\n",
    "scaler = MinMaxScaler()\n",
    "scaler.fit(X_train_log)\n",
    "\n",
    "X_train_log_scaled = pd.DataFrame(scaler.transform(X_train_log), columns=X_train_log.columns)\n",
    "X_test_log_scaled = pd.DataFrame(scaler.transform(X_test_log), columns=X_test_log.columns)\n",
    "X_train_log_scaled.describe()"
   ]
  },
  {
   "cell_type": "code",
   "execution_count": 10,
   "metadata": {},
   "outputs": [],
   "source": [
    "def show_metrics(y_train, y_train_pred, y_test, y_test_pred, digit=20):\n",
    "    for data in [\"train\", \"test\"]:\n",
    "        print(\"=======================================\")\n",
    "        print(f\"# For {data} data:\")\n",
    "        if data == \"train\":\n",
    "            y_true = y_train\n",
    "            y_pred = y_train_pred\n",
    "        else:\n",
    "            y_true = y_test\n",
    "            y_pred = y_test_pred\n",
    "        f2 = fbeta_score(y_true, y_pred, beta=2)\n",
    "        pre = precision_score(y_true, y_pred)\n",
    "        rec = recall_score(y_true, y_pred)\n",
    "        acc = accuracy_score(y_true, y_pred)\n",
    "        print(\"  f2-score  :\", (f2*100).round(digit), \"%\")\n",
    "        print(\"  precision :\", (pre*100).round(digit), \"%\")\n",
    "        print(\"  recall    :\", (rec*100).round(digit), \"%\")\n",
    "        print(\"  accuracy  :\", (acc*100).round(digit), \"%\")\n",
    "\n",
    "    \n"
   ]
  },
  {
   "cell_type": "markdown",
   "metadata": {},
   "source": [
    "# Log and Scaled"
   ]
  },
  {
   "cell_type": "markdown",
   "metadata": {},
   "source": [
    "\n",
    "    use all raw feature and smart999\n",
    "    =======================================\n",
    "    # For train data:\n",
    "    f2-score  : 37.69595509967098 %\n",
    "    precision : 18.095039018952065 %\n",
    "    recall    : 51.69530887134231 %\n",
    "    accuracy  : 88.6117557623793 %\n",
    "    =======================================\n",
    "    # For test data:\n",
    "    f2-score  : 35.347534583722314 %\n",
    "    precision : 19.65086105213494 %\n",
    "    recall    : 44.16755037115588 %\n",
    "    accuracy  : 90.02204146480638 %\n",
    "    ROC AUC: 84.19235169117827 %"
   ]
  },
  {
   "cell_type": "code",
   "execution_count": 11,
   "metadata": {},
   "outputs": [
    {
     "name": "stdout",
     "output_type": "stream",
     "text": [
      "=======================================\n",
      "# For train data:\n",
      "  f2-score  : 37.76670523990322 %\n",
      "  precision : 17.836897852255017 %\n",
      "  recall    : 52.40528166677726 %\n",
      "  accuracy  : 88.34167141790266 %\n",
      "=======================================\n",
      "# For test data:\n",
      "  f2-score  : 35.33932471023014 %\n",
      "  precision : 19.291609353507567 %\n",
      "  recall    : 44.61823966065748 %\n",
      "  accuracy  : 89.78484397551942 %\n",
      "ROC AUC: 84.34487969646408 %\n"
     ]
    },
    {
     "data": {
      "text/plain": [
       "<sklearn.metrics._plot.roc_curve.RocCurveDisplay at 0x17fa1ffd0>"
      ]
     },
     "execution_count": 11,
     "metadata": {},
     "output_type": "execute_result"
    },
    {
     "data": {
      "image/png": "[encoded data removed]",
      "text/plain": [
       "<Figure size 576x396 with 1 Axes>"
      ]
     },
     "metadata": {},
     "output_type": "display_data"
    },
    {
     "data": {
      "image/png": "[encoded data removed]",
      "text/plain": [
       "<Figure size 576x396 with 1 Axes>"
      ]
     },
     "metadata": {},
     "output_type": "display_data"
    }
   ],
   "source": [
    "# prediction\n",
    "model_log_scaled = GaussianNB()\n",
    "model_log_scaled.fit(X_train_log_scaled, y_train)\n",
    "y_train_pred = model_log_scaled.predict(X_train_log_scaled)\n",
    "y_test_pred = model_log_scaled.predict(X_test_log_scaled)\n",
    "\n",
    "# evaluations\n",
    "show_metrics(y_train, y_train_pred, y_test, y_test_pred)\n",
    "\n",
    "ras = roc_auc_score(y_train, model_log_scaled.predict_proba(X_train_log_scaled)[:,1])\n",
    "print(f'ROC AUC: {ras*100} %')\n",
    "\n",
    "RocCurveDisplay.from_estimator(model_log_scaled, X_train_log_scaled, y_train)\n",
    "RocCurveDisplay.from_estimator(model_log_scaled, X_test_log_scaled, y_test)"
   ]
  },
  {
   "cell_type": "code",
   "execution_count": 12,
   "metadata": {},
   "outputs": [
    {
     "data": {
      "image/png": "[encoded data removed]",
      "text/plain": [
       "<Figure size 576x396 with 1 Axes>"
      ]
     },
     "metadata": {},
     "output_type": "display_data"
    }
   ],
   "source": [
    "y_proba = model_log_scaled.predict_proba(X_test_log_scaled)[:,1]\n",
    "\n",
    "pre, rec, thresholds = precision_recall_curve(y_test, y_proba)\n",
    "f2 = (5)*(pre*rec)/(4*pre + rec)\n",
    "\n",
    "plt.plot(thresholds, pre[1:],'r-',label = 'Precision Model')\n",
    "plt.plot(thresholds, rec[1:],'b-',label = 'Recall Model')\n",
    "plt.plot(thresholds, f2[1:],'g-',label = 'f2 Model')\n",
    "\n",
    "plt.legend()\n",
    "plt.xlabel('Threshold')\n",
    "plt.ylabel('Metrics')\n",
    "plt.show()"
   ]
  },
  {
   "cell_type": "markdown",
   "metadata": {},
   "source": [
    "# Log"
   ]
  },
  {
   "cell_type": "markdown",
   "metadata": {},
   "source": [
    "    use all raw smart and smart999\n",
    "    =======================================\n",
    "    # For train data:\n",
    "      f2-score  : 37.69595509967098 %\n",
    "      precision : 18.095039018952065 %\n",
    "      recall    : 51.69530887134231 %\n",
    "      accuracy  : 88.6117557623793 %\n",
    "    =======================================\n",
    "    # For test data:\n",
    "      f2-score  : 35.347534583722314 %\n",
    "      precision : 19.65086105213494 %\n",
    "      recall    : 44.16755037115588 %\n",
    "      accuracy  : 90.02204146480638 %\n",
    "    ROC AUC: 84.18953114684726 %\n"
   ]
  },
  {
   "cell_type": "code",
   "execution_count": 13,
   "metadata": {},
   "outputs": [
    {
     "name": "stdout",
     "output_type": "stream",
     "text": [
      "=======================================\n",
      "# For train data:\n",
      "  f2-score  : 37.76670523990322 %\n",
      "  precision : 17.836897852255017 %\n",
      "  recall    : 52.40528166677726 %\n",
      "  accuracy  : 88.34167141790266 %\n",
      "=======================================\n",
      "# For test data:\n",
      "  f2-score  : 35.33932471023014 %\n",
      "  precision : 19.291609353507567 %\n",
      "  recall    : 44.61823966065748 %\n",
      "  accuracy  : 89.78484397551942 %\n",
      "ROC AUC: 84.34185786380768 %\n"
     ]
    },
    {
     "data": {
      "text/plain": [
       "<sklearn.metrics._plot.roc_curve.RocCurveDisplay at 0x17ffbae80>"
      ]
     },
     "execution_count": 13,
     "metadata": {},
     "output_type": "execute_result"
    },
    {
     "data": {
      "image/png": "[encoded data removed]",
      "text/plain": [
       "<Figure size 576x396 with 1 Axes>"
      ]
     },
     "metadata": {},
     "output_type": "display_data"
    },
    {
     "data": {
      "image/png": "[encoded data removed]",
      "text/plain": [
       "<Figure size 576x396 with 1 Axes>"
      ]
     },
     "metadata": {},
     "output_type": "display_data"
    }
   ],
   "source": [
    "# prediction\n",
    "model_log = GaussianNB()\n",
    "model_log.fit(X_train_log, y_train)\n",
    "y_train_pred = model_log.predict(X_train_log)\n",
    "y_test_pred = model_log.predict(X_test_log)\n",
    "\n",
    "# evaluations\n",
    "show_metrics(y_train, y_train_pred, y_test, y_test_pred)\n",
    "\n",
    "ras = roc_auc_score(y_train, model_log.predict_proba(X_train_log)[:,1])\n",
    "print(f'ROC AUC: {ras*100} %')\n",
    "\n",
    "RocCurveDisplay.from_estimator(model_log, X_train_log, y_train)\n",
    "RocCurveDisplay.from_estimator(model_log, X_test_log, y_test)\n"
   ]
  },
  {
   "cell_type": "code",
   "execution_count": 14,
   "metadata": {},
   "outputs": [
    {
     "data": {
      "image/png": "[encoded data removed]",
      "text/plain": [
       "<Figure size 576x396 with 1 Axes>"
      ]
     },
     "metadata": {},
     "output_type": "display_data"
    }
   ],
   "source": [
    "y_proba = model_log.predict_proba(X_test_log)[:,1]\n",
    "\n",
    "pre, rec, thresholds = precision_recall_curve(y_test, y_proba)\n",
    "f2 = (5)*(pre*rec)/(4*pre + rec)\n",
    "\n",
    "plt.plot(thresholds, pre[1:],'r-',label = 'Precision Model')\n",
    "plt.plot(thresholds, rec[1:],'b-',label = 'Recall Model')\n",
    "plt.plot(thresholds, f2[1:],'g-',label = 'f2 Model')\n",
    "\n",
    "plt.legend()\n",
    "plt.xlabel('Threshold')\n",
    "plt.ylabel('Metrics')\n",
    "plt.show()"
   ]
  },
  {
   "cell_type": "code",
   "execution_count": 16,
   "metadata": {},
   "outputs": [
    {
     "data": {
      "text/plain": [
       "0         1.208037e+09\n",
       "2         1.638586e+09\n",
       "3         1.615135e+09\n",
       "4         1.586665e+09\n",
       "5         1.716256e+09\n",
       "              ...     \n",
       "462959    1.582269e+09\n",
       "462960    1.278042e+09\n",
       "462961    1.481866e+09\n",
       "462962    1.140796e+09\n",
       "462963    1.586655e+09\n",
       "Name: smart_7_mod, Length: 373587, dtype: float64"
      ]
     },
     "execution_count": 16,
     "metadata": {},
     "output_type": "execute_result"
    }
   ],
   "source": [
    "df_train.smart_7_mod"
   ]
  },
  {
   "cell_type": "code",
   "execution_count": 17,
   "metadata": {},
   "outputs": [
    {
     "data": {
      "text/plain": [
       "<AxesSubplot:xlabel='countdown', ylabel='smart_7_mod'>"
      ]
     },
     "execution_count": 17,
     "metadata": {},
     "output_type": "execute_result"
    },
    {
     "data": {
      "image/png": "[encoded data removed]",
      "text/plain": [
       "<Figure size 576x396 with 1 Axes>"
      ]
     },
     "metadata": {},
     "output_type": "display_data"
    }
   ],
   "source": [
    "serial = 'Z304JG86'\n",
    "sns.lineplot(data=df_train.query('serial_number == @serial'), x='countdown', y=\"smart_7_mod\")"
   ]
  },
  {
   "cell_type": "code",
   "execution_count": null,
   "metadata": {},
   "outputs": [
    {
     "data": {
      "text/plain": [
       "Index(['date', 'serial_number', 'model', 'failure', 'smart_1_normalized',\n",
       "       'smart_1_raw', 'smart_3_normalized', 'smart_4_raw',\n",
       "       'smart_5_normalized', 'smart_5_raw', 'smart_7_normalized',\n",
       "       'smart_7_raw', 'smart_9_normalized', 'smart_9_raw', 'smart_12_raw',\n",
       "       'smart_183_normalized', 'smart_183_raw', 'smart_184_normalized',\n",
       "       'smart_184_raw', 'smart_187_normalized', 'smart_187_raw',\n",
       "       'smart_188_normalized', 'smart_188_raw', 'smart_189_normalized',\n",
       "       'smart_189_raw', 'smart_190_normalized', 'smart_190_raw',\n",
       "       'smart_192_raw', 'smart_193_normalized', 'smart_193_raw',\n",
       "       'smart_194_normalized', 'smart_194_raw', 'smart_197_normalized',\n",
       "       'smart_197_raw', 'smart_198_normalized', 'smart_198_raw',\n",
       "       'smart_199_raw', 'smart_240_raw', 'smart_241_raw', 'smart_242_raw',\n",
       "       'date_failure', 'countdown'],\n",
       "      dtype='object')"
      ]
     },
     "execution_count": 20,
     "metadata": {},
     "output_type": "execute_result"
    }
   ],
   "source": []
  },
  {
   "cell_type": "code",
   "execution_count": null,
   "metadata": {},
   "outputs": [],
   "source": []
  }
 ],
 "metadata": {
  "interpreter": {
   "hash": "9b9d5440833ed335e3c19c91f1119a68ae0361108b34514e151e8a05b830b3b7"
  },
  "kernelspec": {
   "display_name": "Python 3.9.4 ('.venv': venv)",
   "language": "python",
   "name": "python3"
  },
  "language_info": {
   "codemirror_mode": {
    "name": "ipython",
    "version": 3
   },
   "file_extension": ".py",
   "mimetype": "text/x-python",
   "name": "python",
   "nbconvert_exporter": "python",
   "pygments_lexer": "ipython3",
   "version": "3.9.4"
  },
  "orig_nbformat": 4
 },
 "nbformat": 4,
 "nbformat_minor": 2
}
