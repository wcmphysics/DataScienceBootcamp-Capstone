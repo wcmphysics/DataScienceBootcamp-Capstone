{
 "cells": [
  {
   "cell_type": "code",
   "execution_count": null,
   "metadata": {},
   "outputs": [],
   "source": [
    "import pandas as pd\n",
    "import numpy as np\n",
    "\n",
    "from sklearn.model_selection import train_test_split\n",
    "from sklearn.naive_bayes import GaussianNB\n",
    "from sklearn.metrics import roc_auc_score, RocCurveDisplay\n",
    "\n",
    "\n"
   ]
  },
  {
   "cell_type": "code",
   "execution_count": null,
   "metadata": {},
   "outputs": [],
   "source": [
    "repo_path = os.getcwd() + \"/../\"\n",
    "df = load_preprocess_data(path=repo_path)\n",
    "df = create_features(df, interval=30, trigger_percentage=0.05)\n",
    "cols = df.columns.to_list()\n",
    "cols.remove(\"smart_999\")\n",
    "cols.append(\"smart_999_raw\")\n",
    "df.columns = pd.Index(cols)"
   ]
  }
 ],
 "metadata": {
  "language_info": {
   "name": "python"
  },
  "orig_nbformat": 4
 },
 "nbformat": 4,
 "nbformat_minor": 2
}
