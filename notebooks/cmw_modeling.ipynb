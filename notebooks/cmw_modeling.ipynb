{
 "cells": [
  {
   "cell_type": "markdown",
   "id": "f05d8d51",
   "metadata": {},
   "source": [
    "# Libraries and Data Import\n",
    "Also have a quick look at the data"
   ]
  },
  {
   "cell_type": "code",
   "execution_count": 32,
   "id": "fdf28a81-8405-4de6-82d3-de0842c6bd8d",
   "metadata": {},
   "outputs": [],
   "source": [
    "import pandas as pd\n",
    "import numpy as np\n",
    "import matplotlib.pyplot as plt\n",
    "import seaborn as sns\n",
    "repository_directory = \"../\"\n",
    "sns.set(rc={'figure.facecolor': \"white\"})"
   ]
  },
  {
   "cell_type": "code",
   "execution_count": 3,
   "id": "29f2bbf2",
   "metadata": {},
   "outputs": [],
   "source": [
    "from sklearn.metrics import roc_auc_score, roc_curve, auc, RocCurveDisplay, classification_report, confusion_matrix, ConfusionMatrixDisplay, fbeta_score, make_scorer\n",
    "from sklearn.model_selection import train_test_split\n",
    "from sklearn.linear_model import LogisticRegression\n",
    "from sklearn.preprocessing import StandardScaler, Normalizer\n",
    "from sklearn.svm import SVC\n",
    "from sklearn.linear_model import SGDClassifier\n",
    "from sklearn.neighbors import KNeighborsClassifier\n",
    "from sklearn.tree import DecisionTreeClassifier\n",
    "from sklearn.naive_bayes import GaussianNB\n",
    "from sklearn.ensemble import RandomForestClassifier\n",
    "from sklearn.naive_bayes import GaussianNB\n",
    "from xgboost import XGBClassifier\n",
    "from xgboost import plot_importance\n",
    "from sklearn.model_selection import GridSearchCV, cross_validate, cross_val_predict, cross_val_score\n",
    "\n",
    "#Decision tree, RFC, xgboost, other boost, ensemble mothod, NB\n"
   ]
  },
  {
   "cell_type": "markdown",
   "id": "7d7ec76e",
   "metadata": {},
   "source": [
    "# Data Import"
   ]
  },
  {
   "cell_type": "code",
   "execution_count": 86,
   "id": "1f89a5f9",
   "metadata": {},
   "outputs": [
    {
     "name": "stdout",
     "output_type": "stream",
     "text": [
      "Data is read from: ../data/ST4000DM000_processed_relevant\n"
     ]
    }
   ],
   "source": [
    "file_path = repository_directory + \"data/\" +\"ST4000DM000_processed_relevant\" \n",
    "print(\"Data is read from:\", file_path)\n",
    "df = pd.read_csv(file_path, parse_dates=[\"date\"])"
   ]
  },
  {
   "cell_type": "markdown",
   "id": "e43ca97b",
   "metadata": {},
   "source": [
    "# Some useful functions and lists"
   ]
  },
  {
   "cell_type": "code",
   "execution_count": 11,
   "id": "a2c4da08",
   "metadata": {},
   "outputs": [],
   "source": [
    "# specify commonly used column names\n",
    "column_name_all = df.columns\n",
    "column_name_basic, column_name_smart = column_name_all[:5], column_name_all[5:]\n",
    "column_name_smart_raw = pd.Index([c for c in column_name_smart if \"raw\" in c ])\n",
    "column_name_smart_normalized = pd.Index([c for c in column_name_smart if \"normalized\" in c ])\n",
    "\n",
    "# collections of important smart parameters from different sources\n",
    "key_smart_backblaze = [5, 187, 188, 197, 198] # https://www.backblaze.com/blog/what-smart-stats-indicate-hard-drive-failures/\n",
    "key_smart_wiki = [5, 10, 184, 187, 188, 196, 197, 198, 201] # https://en.wikipedia.org/wiki/S.M.A.R.T.\n",
    "key_smart_ai_paper = [3, 5, 7, 187, 188, 190, 197, 198] # https://www.sciencedirect.com/science/article/pii/S2666827021000219\n",
    "key_smart_power_on_time = [9]\n",
    "key_smart_group = [5, 183, 184, 187]\n",
    "\n",
    "def smart2meaningful(col):\n",
    "    \"\"\"smart to meaningful names\n",
    "    see wiki for more info: https://en.wikipedia.org/wiki/S.M.A.R.T.\n",
    "\n",
    "    Args:\n",
    "        col (panda.Index): name of columns returned from a dataframe\n",
    "\n",
    "    Returns:\n",
    "        panda.Index: a column with more meaningful names\n",
    "    \"\"\"\n",
    "    dict_smart = {3   : \"spin_up_time\",\n",
    "                  5   : \"reallocated_sector_count\", # or \"bad-sector count\" \n",
    "                  7   : \"seek_error_rate\", # or \"reading-head seek-error rate\", vendor-dependent\n",
    "                  9   : \"power_on_time\", \n",
    "                  10  : \"spin_retry_count\",\n",
    "                  183 : \"downshift_error_count\", #  another possible meaning is: Runtime Bad Block\n",
    "                  184 : \"end_to_end_error\", # vendor-dependent\n",
    "                  187 : \"reported_uncorrectable_error\",\n",
    "                  188 : \"command_timeout_count\",\n",
    "                  190 : \"temperature_special\", # vendor-dependent\n",
    "                  194 : \"temperature\",\n",
    "                  196 : \"reallocation_event_count\",\n",
    "                  197 : \"current_pending_sector_count\", # or \"unusable sector count\"\n",
    "                  198 : \"uncorrectable_sector_count\", \n",
    "                  201 : \"software_read_error_count\", \n",
    "                  231 : \"expected_life_left\"\n",
    "    }\n",
    "    col_modified = []\n",
    "    for name in list(col):\n",
    "        if \"smart_\" in name:\n",
    "            number = int(name.split(\"smart_\")[1].split(\"_\")[0])\n",
    "            if number in list(dict_smart.keys()):\n",
    "                col_modified.append(name.replace(\"smart_\" + str(number), dict_smart[number]))\n",
    "            else:\n",
    "                col_modified.append(name)\n",
    "        else:\n",
    "            col_modified.append(name)\n",
    "    return pd.Index(col_modified)\n",
    "\n",
    "# change the smart name into meaningful names for a dataframe\n",
    "# this should be applied only after you perform all operations on columns\n",
    "def smart2meaningful_for_dataframe(df):\n",
    "    df.columns = smart2meaningful(df.columns)\n",
    "    return df\n",
    "\n",
    "# drop all smart columns except those specified by smart_to_keep\n",
    "def keep_some_smart_column_for_dataframe(df, smart_to_keep=[], raw_or_normalized=\"raw\"):\n",
    "    cols = df.columns\n",
    "    cols_nonsmart = [col for col in cols if not \"smart_\" in col]\n",
    "    #cols_smart = [col for col in cols if \"smart_\" in col]\n",
    "    #s = set(cols_smart)\n",
    "    cols_smart = [\"smart_\" + str(i) + \"_\" + raw_or_normalized for i in smart_to_keep]\n",
    "    return df[cols_nonsmart + cols_smart]\n",
    "\n",
    "def change_feature_dtype_for_dataframe(df, feature_to_change=[]):\n",
    "    col = df.columns\n",
    "    for feature in feature_to_change:\n",
    "        if not feature in col:\n",
    "            print(\"### Error!\")\n",
    "            print(f\"### The feature '{feature}' is not found in the dataframe '{df}'!\")\n",
    "            print(\"### Partially modified dataframe is returned!\")\n",
    "            return df\n",
    "        if feature == \"failure\":\n",
    "            df.astype({feature : \"int64\"})\n",
    "        elif feature == \"date\":\n",
    "            df[feature] = pd.to_datetime(df[feature], format='%Y-%m-%d')\n",
    "    return df\n",
    "\n",
    "# create features for a dataframe\n",
    "def create_features_for_dataframe(df, features_to_create=[], drop=False):\n",
    "    feature_to_drop = []\n",
    "    col = df.columns\n",
    "    for feature in features_to_create:\n",
    "        if feature == \"capacity_gb\":\n",
    "            features_needed = [\"capacity_bytes\"]\n",
    "            for feature_needed in features_needed:\n",
    "                if not feature_needed in col:\n",
    "                    print(\"### Error!\")\n",
    "                    print(f\"### Cannot create '{feature}' because the required feature '{feature_needed}' is not found in the dataframe '{df}'!\")\n",
    "                    print(\"### Partially modified dataframe is returned!\")\n",
    "                    return df\n",
    "            gb2byte = 1024**3\n",
    "            df[feature] = df[features_needed[0]].apply(lambda x : int(x)/gb2byte)\n",
    "            feature_to_drop.append(*features_needed)\n",
    "        #elif feature == \"power_on_time_day\":\n",
    "        #    df[feature] = df[\"power_on_time\"].apply(lambda x : x/24)\n",
    "        #    feature_to_drop.append(\"power_on_time\")\n",
    "    if drop:\n",
    "        df.drop(list(set(feature_to_drop)), axis=1, inplace=True)\n",
    "    return df"
   ]
  },
  {
   "cell_type": "markdown",
   "id": "9fc5bb3e",
   "metadata": {},
   "source": [
    "Limit ourselves to some columns only:"
   ]
  },
  {
   "cell_type": "code",
   "execution_count": 12,
   "id": "2ff2c234",
   "metadata": {},
   "outputs": [
    {
     "name": "stdout",
     "output_type": "stream",
     "text": [
      "Columns chosen for the dataframe:\n",
      " Index(['date', 'serial_number', 'model', 'failure', 'date_failure',\n",
      "       'smart_5_raw', 'smart_183_raw', 'smart_184_raw', 'smart_187_raw'],\n",
      "      dtype='object')\n"
     ]
    },
    {
     "data": {
      "text/html": [
       "<div>\n",
       "<style scoped>\n",
       "    .dataframe tbody tr th:only-of-type {\n",
       "        vertical-align: middle;\n",
       "    }\n",
       "\n",
       "    .dataframe tbody tr th {\n",
       "        vertical-align: top;\n",
       "    }\n",
       "\n",
       "    .dataframe thead th {\n",
       "        text-align: right;\n",
       "    }\n",
       "</style>\n",
       "<table border=\"1\" class=\"dataframe\">\n",
       "  <thead>\n",
       "    <tr style=\"text-align: right;\">\n",
       "      <th></th>\n",
       "      <th>date</th>\n",
       "      <th>serial_number</th>\n",
       "      <th>model</th>\n",
       "      <th>failure</th>\n",
       "      <th>date_failure</th>\n",
       "      <th>countdown</th>\n",
       "      <th>smart_5_raw</th>\n",
       "      <th>smart_183_raw</th>\n",
       "      <th>smart_184_raw</th>\n",
       "      <th>smart_187_raw</th>\n",
       "    </tr>\n",
       "  </thead>\n",
       "  <tbody>\n",
       "    <tr>\n",
       "      <th>0</th>\n",
       "      <td>2020-09-15</td>\n",
       "      <td>Z304KBK4</td>\n",
       "      <td>ST4000DM000</td>\n",
       "      <td>0</td>\n",
       "      <td>2021-12-16</td>\n",
       "      <td>457.0</td>\n",
       "      <td>0.0</td>\n",
       "      <td>0.0</td>\n",
       "      <td>0.0</td>\n",
       "      <td>0.0</td>\n",
       "    </tr>\n",
       "    <tr>\n",
       "      <th>1</th>\n",
       "      <td>2020-09-15</td>\n",
       "      <td>Z304JGH0</td>\n",
       "      <td>ST4000DM000</td>\n",
       "      <td>0</td>\n",
       "      <td>2021-01-14</td>\n",
       "      <td>121.0</td>\n",
       "      <td>0.0</td>\n",
       "      <td>0.0</td>\n",
       "      <td>0.0</td>\n",
       "      <td>0.0</td>\n",
       "    </tr>\n",
       "    <tr>\n",
       "      <th>2</th>\n",
       "      <td>2020-09-15</td>\n",
       "      <td>Z302SYHL</td>\n",
       "      <td>ST4000DM000</td>\n",
       "      <td>0</td>\n",
       "      <td>2021-05-22</td>\n",
       "      <td>249.0</td>\n",
       "      <td>0.0</td>\n",
       "      <td>4.0</td>\n",
       "      <td>0.0</td>\n",
       "      <td>33.0</td>\n",
       "    </tr>\n",
       "  </tbody>\n",
       "</table>\n",
       "</div>"
      ],
      "text/plain": [
       "        date serial_number        model  failure date_failure  countdown  \\\n",
       "0 2020-09-15      Z304KBK4  ST4000DM000        0   2021-12-16      457.0   \n",
       "1 2020-09-15      Z304JGH0  ST4000DM000        0   2021-01-14      121.0   \n",
       "2 2020-09-15      Z302SYHL  ST4000DM000        0   2021-05-22      249.0   \n",
       "\n",
       "   smart_5_raw  smart_183_raw  smart_184_raw  smart_187_raw  \n",
       "0          0.0            0.0            0.0            0.0  \n",
       "1          0.0            0.0            0.0            0.0  \n",
       "2          0.0            4.0            0.0           33.0  "
      ]
     },
     "execution_count": 12,
     "metadata": {},
     "output_type": "execute_result"
    }
   ],
   "source": [
    "# choose smart and set up the column name \n",
    "key_smart = [5, 183, 184, 187]\n",
    "column_name = pd.Index(list(column_name_basic) + [\"smart_\" + str(i) + \"_\" + \"raw\" for i in key_smart])\n",
    "print(\"Columns chosen for the dataframe:\\n\", column_name)\n",
    "\n",
    "df = keep_some_smart_column_for_dataframe(df, smart_to_keep=key_smart, raw_or_normalized=\"raw\")\n",
    "df.head(3)"
   ]
  },
  {
   "cell_type": "markdown",
   "id": "6ce68e11",
   "metadata": {},
   "source": [
    "Set up the classification column (1 for failure in 30 days and 0 for failure beyond 30 days):"
   ]
  },
  {
   "cell_type": "code",
   "execution_count": 17,
   "id": "7849e1d5",
   "metadata": {},
   "outputs": [
    {
     "data": {
      "text/html": [
       "<div>\n",
       "<style scoped>\n",
       "    .dataframe tbody tr th:only-of-type {\n",
       "        vertical-align: middle;\n",
       "    }\n",
       "\n",
       "    .dataframe tbody tr th {\n",
       "        vertical-align: top;\n",
       "    }\n",
       "\n",
       "    .dataframe thead th {\n",
       "        text-align: right;\n",
       "    }\n",
       "</style>\n",
       "<table border=\"1\" class=\"dataframe\">\n",
       "  <thead>\n",
       "    <tr style=\"text-align: right;\">\n",
       "      <th></th>\n",
       "      <th>date</th>\n",
       "      <th>serial_number</th>\n",
       "      <th>model</th>\n",
       "      <th>failure</th>\n",
       "      <th>date_failure</th>\n",
       "      <th>countdown</th>\n",
       "      <th>smart_5_raw</th>\n",
       "      <th>smart_183_raw</th>\n",
       "      <th>smart_184_raw</th>\n",
       "      <th>smart_187_raw</th>\n",
       "      <th>failure_in_30_days</th>\n",
       "    </tr>\n",
       "  </thead>\n",
       "  <tbody>\n",
       "    <tr>\n",
       "      <th>0</th>\n",
       "      <td>2020-09-15</td>\n",
       "      <td>Z304KBK4</td>\n",
       "      <td>ST4000DM000</td>\n",
       "      <td>0</td>\n",
       "      <td>2021-12-16</td>\n",
       "      <td>457.0</td>\n",
       "      <td>0.0</td>\n",
       "      <td>0.0</td>\n",
       "      <td>0.0</td>\n",
       "      <td>0.0</td>\n",
       "      <td>0</td>\n",
       "    </tr>\n",
       "    <tr>\n",
       "      <th>1</th>\n",
       "      <td>2020-09-15</td>\n",
       "      <td>Z304JGH0</td>\n",
       "      <td>ST4000DM000</td>\n",
       "      <td>0</td>\n",
       "      <td>2021-01-14</td>\n",
       "      <td>121.0</td>\n",
       "      <td>0.0</td>\n",
       "      <td>0.0</td>\n",
       "      <td>0.0</td>\n",
       "      <td>0.0</td>\n",
       "      <td>0</td>\n",
       "    </tr>\n",
       "    <tr>\n",
       "      <th>2</th>\n",
       "      <td>2020-09-15</td>\n",
       "      <td>Z302SYHL</td>\n",
       "      <td>ST4000DM000</td>\n",
       "      <td>0</td>\n",
       "      <td>2021-05-22</td>\n",
       "      <td>249.0</td>\n",
       "      <td>0.0</td>\n",
       "      <td>4.0</td>\n",
       "      <td>0.0</td>\n",
       "      <td>33.0</td>\n",
       "      <td>0</td>\n",
       "    </tr>\n",
       "  </tbody>\n",
       "</table>\n",
       "</div>"
      ],
      "text/plain": [
       "        date serial_number        model  failure date_failure  countdown  \\\n",
       "0 2020-09-15      Z304KBK4  ST4000DM000        0   2021-12-16      457.0   \n",
       "1 2020-09-15      Z304JGH0  ST4000DM000        0   2021-01-14      121.0   \n",
       "2 2020-09-15      Z302SYHL  ST4000DM000        0   2021-05-22      249.0   \n",
       "\n",
       "   smart_5_raw  smart_183_raw  smart_184_raw  smart_187_raw  \\\n",
       "0          0.0            0.0            0.0            0.0   \n",
       "1          0.0            0.0            0.0            0.0   \n",
       "2          0.0            4.0            0.0           33.0   \n",
       "\n",
       "   failure_in_30_days  \n",
       "0                   0  \n",
       "1                   0  \n",
       "2                   0  "
      ]
     },
     "execution_count": 17,
     "metadata": {},
     "output_type": "execute_result"
    }
   ],
   "source": [
    "days_before_failure = 30\n",
    "def get_classification(countdown, days=days_before_failure):\n",
    "    if countdown <= days:\n",
    "        return 1\n",
    "    return 0\n",
    "\n",
    "df[\"failure_in_30_days\"] = df[\"countdown\"].apply(get_classification)\n",
    "df.head(3)"
   ]
  },
  {
   "cell_type": "markdown",
   "id": "c7a16934",
   "metadata": {},
   "source": [
    "## Train-Test Split\n",
    "\n",
    "We will split the data according to serial numbers"
   ]
  },
  {
   "cell_type": "code",
   "execution_count": 28,
   "id": "5f71fd9d",
   "metadata": {},
   "outputs": [
    {
     "name": "stdout",
     "output_type": "stream",
     "text": [
      "number of unique disk in data: 608\n",
      "number of unique disk in train: 486\n",
      "number of unique disk in test: 122\n",
      "number of days for failed/healthy drive in train: 488 / 194235\n",
      "number of days for failed/healthy drive in train: 122 / 47025\n"
     ]
    }
   ],
   "source": [
    "RSEED = 200\n",
    "serial_number_train, serial_number_test, dummy_train, dummy_test = train_test_split(df[\"serial_number\"].unique(), df[\"serial_number\"].unique(), test_size=0.2, random_state=RSEED)\n",
    "serial_number_train = pd.Series(serial_number_train)\n",
    "serial_number_test = pd.Series(serial_number_test)\n",
    "print(\"number of unique disk in data:\", df[\"serial_number\"].nunique())\n",
    "print(\"number of unique disk in train:\", df_train[\"serial_number\"].nunique())\n",
    "print(\"number of unique disk in test:\", df_test[\"serial_number\"].nunique())\n",
    "\n",
    "\n",
    "df_train = df[ df[\"serial_number\"].isin(serial_number_train)]\n",
    "y_train = df_train[\"failure_in_30_days\"]\n",
    "X_train = df_train.drop([\"failure_in_30_days\", \"countdown\"], axis=1)\n",
    "\n",
    "df_test = df[ df[\"serial_number\"].isin(serial_number_test)]\n",
    "y_test = df_test[\"failure_in_30_days\"]\n",
    "X_test = df_test.drop([\"failure_in_30_days\", \"countdown\"], axis=1)\n",
    "\n",
    "print(\"number of days for failed/healthy drive in train:\", df_train.query(\"failure == 1\")[\"failure\"].count(), \"/\",df_train.query(\"failure == False\")[\"failure\"].count())\n",
    "print(\"number of days for failed/healthy drive in train:\", df_test.query(\"failure == 1\")[\"failure\"].count(), \"/\",df_test.query(\"failure == 0\")[\"failure\"].count())\n",
    "\n"
   ]
  },
  {
   "cell_type": "code",
   "execution_count": 39,
   "id": "b00b3489",
   "metadata": {},
   "outputs": [
    {
     "data": {
      "text/html": [
       "<div>\n",
       "<style scoped>\n",
       "    .dataframe tbody tr th:only-of-type {\n",
       "        vertical-align: middle;\n",
       "    }\n",
       "\n",
       "    .dataframe tbody tr th {\n",
       "        vertical-align: top;\n",
       "    }\n",
       "\n",
       "    .dataframe thead th {\n",
       "        text-align: right;\n",
       "    }\n",
       "</style>\n",
       "<table border=\"1\" class=\"dataframe\">\n",
       "  <thead>\n",
       "    <tr style=\"text-align: right;\">\n",
       "      <th></th>\n",
       "      <th>date</th>\n",
       "      <th>serial_number</th>\n",
       "      <th>model</th>\n",
       "      <th>failure</th>\n",
       "      <th>date_failure</th>\n",
       "      <th>countdown</th>\n",
       "      <th>smart_5_raw</th>\n",
       "      <th>smart_183_raw</th>\n",
       "      <th>smart_184_raw</th>\n",
       "      <th>smart_187_raw</th>\n",
       "      <th>failure_in_30_days</th>\n",
       "    </tr>\n",
       "  </thead>\n",
       "  <tbody>\n",
       "    <tr>\n",
       "      <th>0</th>\n",
       "      <td>2020-09-15</td>\n",
       "      <td>Z304KBK4</td>\n",
       "      <td>ST4000DM000</td>\n",
       "      <td>0</td>\n",
       "      <td>2021-12-16</td>\n",
       "      <td>457.0</td>\n",
       "      <td>0.0</td>\n",
       "      <td>0.0</td>\n",
       "      <td>0.0</td>\n",
       "      <td>0.0</td>\n",
       "      <td>0</td>\n",
       "    </tr>\n",
       "    <tr>\n",
       "      <th>2</th>\n",
       "      <td>2020-09-15</td>\n",
       "      <td>Z302SYHL</td>\n",
       "      <td>ST4000DM000</td>\n",
       "      <td>0</td>\n",
       "      <td>2021-05-22</td>\n",
       "      <td>249.0</td>\n",
       "      <td>0.0</td>\n",
       "      <td>4.0</td>\n",
       "      <td>0.0</td>\n",
       "      <td>33.0</td>\n",
       "      <td>0</td>\n",
       "    </tr>\n",
       "    <tr>\n",
       "      <th>3</th>\n",
       "      <td>2020-09-15</td>\n",
       "      <td>S3010L7K</td>\n",
       "      <td>ST4000DM000</td>\n",
       "      <td>0</td>\n",
       "      <td>2020-12-11</td>\n",
       "      <td>87.0</td>\n",
       "      <td>0.0</td>\n",
       "      <td>2.0</td>\n",
       "      <td>0.0</td>\n",
       "      <td>0.0</td>\n",
       "      <td>0</td>\n",
       "    </tr>\n",
       "  </tbody>\n",
       "</table>\n",
       "</div>"
      ],
      "text/plain": [
       "        date serial_number        model  failure date_failure  countdown  \\\n",
       "0 2020-09-15      Z304KBK4  ST4000DM000        0   2021-12-16      457.0   \n",
       "2 2020-09-15      Z302SYHL  ST4000DM000        0   2021-05-22      249.0   \n",
       "3 2020-09-15      S3010L7K  ST4000DM000        0   2020-12-11       87.0   \n",
       "\n",
       "   smart_5_raw  smart_183_raw  smart_184_raw  smart_187_raw  \\\n",
       "0          0.0            0.0            0.0            0.0   \n",
       "2          0.0            4.0            0.0           33.0   \n",
       "3          0.0            2.0            0.0            0.0   \n",
       "\n",
       "   failure_in_30_days  \n",
       "0                   0  \n",
       "2                   0  \n",
       "3                   0  "
      ]
     },
     "execution_count": 39,
     "metadata": {},
     "output_type": "execute_result"
    }
   ],
   "source": [
    "df_train.head(3)"
   ]
  },
  {
   "cell_type": "markdown",
   "id": "1c2f9f56",
   "metadata": {},
   "source": [
    "Plot smart states vs countdown, using mean:"
   ]
  },
  {
   "cell_type": "code",
   "execution_count": 48,
   "id": "e153cde5",
   "metadata": {},
   "outputs": [
    {
     "data": {
      "image/png": "[encoded data removed]",
      "text/plain": [
       "<Figure size 720x720 with 4 Axes>"
      ]
     },
     "metadata": {},
     "output_type": "display_data"
    }
   ],
   "source": [
    "fig, axes = plt.subplots(4,1,figsize=(10, 10))\n",
    "fig.suptitle(\"Smart vs Mean\")\n",
    "\n",
    "\n",
    "for i, col in enumerate([name for name in df_train.columns if \"smart\" in name]):\n",
    "    sns.lineplot(data=df_train, x=\"countdown\", y=col, estimator=\"mean\", ax=axes[i])\n",
    "    number = col.split(\"smart_\")[1].split(\"_\")[0]\n",
    "    axes[i].set_title(f\"smart {number} - Mean\")\n",
    "    axes[i].set_ylabel(f\"smart {number} raw\")\n",
    "fig.tight_layout()\n",
    "\n",
    "plt.show()\n"
   ]
  },
  {
   "cell_type": "markdown",
   "id": "52fd1a12",
   "metadata": {},
   "source": [
    "Plot smart states vs countdown, using medain:"
   ]
  },
  {
   "cell_type": "code",
   "execution_count": 50,
   "id": "3cce4e85",
   "metadata": {},
   "outputs": [
    {
     "data": {
      "image/png": "[encoded data removed]",
      "text/plain": [
       "<Figure size 720x720 with 4 Axes>"
      ]
     },
     "metadata": {},
     "output_type": "display_data"
    }
   ],
   "source": [
    "fig, axes = plt.subplots(4,1,figsize=(10, 10))\n",
    "fig.suptitle(\"Smart vs Median\")\n",
    "\n",
    "\n",
    "for i, col in enumerate([name for name in df_train.columns if \"smart\" in name]):\n",
    "    sns.lineplot(data=df_train, x=\"countdown\", y=col, estimator=np.median, ax=axes[i])\n",
    "    number = col.split(\"smart_\")[1].split(\"_\")[0]\n",
    "    axes[i].set_title(f\"smart {number} - Mean\")\n",
    "    axes[i].set_ylabel(f\"smart {number} raw\")\n",
    "fig.tight_layout()\n",
    "\n",
    "plt.show()"
   ]
  },
  {
   "cell_type": "markdown",
   "id": "37884a30",
   "metadata": {},
   "source": [
    "## Baseline Model"
   ]
  },
  {
   "cell_type": "code",
   "execution_count": 52,
   "id": "8d4d568c",
   "metadata": {},
   "outputs": [],
   "source": [
    "def baseline_failure_prediction(features, min_conditions=3):\n",
    "    s5r = features[\"smart_5_raw\"]\n",
    "    s183r = features[\"smart_183_raw\"]\n",
    "    s184r = features[\"smart_184_raw\"]\n",
    "    s187r = features[\"smart_187_raw\"]\n",
    "    #if s5r >= 1.0 and s183r >= 5 and s184r >= 1 and s187r >= 20:\n",
    "    if sum([s5r >= 1.0, s183r >= 1, s184r >= 1, s187r >= 2]) >= min_conditions:\n",
    "        return 1\n",
    "    return 0\n"
   ]
  },
  {
   "cell_type": "markdown",
   "id": "21755258",
   "metadata": {},
   "source": [
    "make predictions on train and test data using the baseline model:"
   ]
  },
  {
   "cell_type": "code",
   "execution_count": 54,
   "id": "9413cccf",
   "metadata": {},
   "outputs": [],
   "source": [
    "y_train_pred = X_train.apply(baseline_failure_prediction, axis=1)\n",
    "y_test_pred = X_test.apply(baseline_failure_prediction, axis=1)"
   ]
  },
  {
   "cell_type": "markdown",
   "id": "7d4f249f",
   "metadata": {},
   "source": [
    "Check duplicates:"
   ]
  },
  {
   "cell_type": "code",
   "execution_count": 88,
   "id": "979c058d",
   "metadata": {},
   "outputs": [
    {
     "name": "stdout",
     "output_type": "stream",
     "text": [
      "duplicated serial numbers ['Z302SQFX', 'Z303VDR4']\n"
     ]
    },
    {
     "data": {
      "text/html": [
       "<div>\n",
       "<style scoped>\n",
       "    .dataframe tbody tr th:only-of-type {\n",
       "        vertical-align: middle;\n",
       "    }\n",
       "\n",
       "    .dataframe tbody tr th {\n",
       "        vertical-align: top;\n",
       "    }\n",
       "\n",
       "    .dataframe thead th {\n",
       "        text-align: right;\n",
       "    }\n",
       "</style>\n",
       "<table border=\"1\" class=\"dataframe\">\n",
       "  <thead>\n",
       "    <tr style=\"text-align: right;\">\n",
       "      <th></th>\n",
       "      <th>date</th>\n",
       "      <th>serial_number</th>\n",
       "      <th>model</th>\n",
       "      <th>failure</th>\n",
       "      <th>smart_1_normalized</th>\n",
       "      <th>smart_1_raw</th>\n",
       "      <th>smart_3_normalized</th>\n",
       "      <th>smart_4_raw</th>\n",
       "      <th>smart_5_normalized</th>\n",
       "      <th>smart_5_raw</th>\n",
       "      <th>...</th>\n",
       "      <th>smart_197_normalized</th>\n",
       "      <th>smart_197_raw</th>\n",
       "      <th>smart_198_normalized</th>\n",
       "      <th>smart_198_raw</th>\n",
       "      <th>smart_199_raw</th>\n",
       "      <th>smart_240_raw</th>\n",
       "      <th>smart_241_raw</th>\n",
       "      <th>smart_242_raw</th>\n",
       "      <th>date_failure</th>\n",
       "      <th>countdown</th>\n",
       "    </tr>\n",
       "  </thead>\n",
       "  <tbody>\n",
       "    <tr>\n",
       "      <th>43567</th>\n",
       "      <td>2021-10-11</td>\n",
       "      <td>Z302SQFX</td>\n",
       "      <td>ST4000DM000</td>\n",
       "      <td>1</td>\n",
       "      <td>111.0</td>\n",
       "      <td>32839264.0</td>\n",
       "      <td>92.0</td>\n",
       "      <td>9.0</td>\n",
       "      <td>100.0</td>\n",
       "      <td>184.0</td>\n",
       "      <td>...</td>\n",
       "      <td>99.0</td>\n",
       "      <td>232.0</td>\n",
       "      <td>99.0</td>\n",
       "      <td>232.0</td>\n",
       "      <td>0.0</td>\n",
       "      <td>53663.0</td>\n",
       "      <td>6.820128e+10</td>\n",
       "      <td>2.930498e+11</td>\n",
       "      <td>2021-10-11</td>\n",
       "      <td>0.0</td>\n",
       "    </tr>\n",
       "    <tr>\n",
       "      <th>43656</th>\n",
       "      <td>2021-10-11</td>\n",
       "      <td>Z302SQFX</td>\n",
       "      <td>ST4000DM000</td>\n",
       "      <td>1</td>\n",
       "      <td>111.0</td>\n",
       "      <td>32839264.0</td>\n",
       "      <td>92.0</td>\n",
       "      <td>9.0</td>\n",
       "      <td>100.0</td>\n",
       "      <td>184.0</td>\n",
       "      <td>...</td>\n",
       "      <td>99.0</td>\n",
       "      <td>232.0</td>\n",
       "      <td>99.0</td>\n",
       "      <td>232.0</td>\n",
       "      <td>0.0</td>\n",
       "      <td>53663.0</td>\n",
       "      <td>6.820128e+10</td>\n",
       "      <td>2.930498e+11</td>\n",
       "      <td>2021-10-11</td>\n",
       "      <td>0.0</td>\n",
       "    </tr>\n",
       "  </tbody>\n",
       "</table>\n",
       "<p>2 rows × 42 columns</p>\n",
       "</div>"
      ],
      "text/plain": [
       "            date serial_number        model  failure  smart_1_normalized  \\\n",
       "43567 2021-10-11      Z302SQFX  ST4000DM000        1               111.0   \n",
       "43656 2021-10-11      Z302SQFX  ST4000DM000        1               111.0   \n",
       "\n",
       "       smart_1_raw  smart_3_normalized  smart_4_raw  smart_5_normalized  \\\n",
       "43567   32839264.0                92.0          9.0               100.0   \n",
       "43656   32839264.0                92.0          9.0               100.0   \n",
       "\n",
       "       smart_5_raw  ...  smart_197_normalized  smart_197_raw  \\\n",
       "43567        184.0  ...                  99.0          232.0   \n",
       "43656        184.0  ...                  99.0          232.0   \n",
       "\n",
       "       smart_198_normalized  smart_198_raw  smart_199_raw  smart_240_raw  \\\n",
       "43567                  99.0          232.0            0.0        53663.0   \n",
       "43656                  99.0          232.0            0.0        53663.0   \n",
       "\n",
       "       smart_241_raw  smart_242_raw  date_failure  countdown  \n",
       "43567   6.820128e+10   2.930498e+11    2021-10-11        0.0  \n",
       "43656   6.820128e+10   2.930498e+11    2021-10-11        0.0  \n",
       "\n",
       "[2 rows x 42 columns]"
      ]
     },
     "execution_count": 88,
     "metadata": {},
     "output_type": "execute_result"
    }
   ],
   "source": [
    "a = X_train.query(\"failure == 1\")[\"serial_number\"].to_list()\n",
    "len(a)\n",
    "a_set = set(a)\n",
    "len(a_set)\n",
    "a_dup=[]\n",
    "for serial in a_set:\n",
    "    a.remove(serial)\n",
    "print(\"duplicated serial numbers\",a)\n",
    "\n",
    "X_train.query(\"serial_number == 'Z302SQFX' and failure == 1\")\n",
    "df.query(\"serial_number == 'Z302SQFX' and failure == 1\")\n",
    "    "
   ]
  },
  {
   "cell_type": "code",
   "execution_count": 73,
   "id": "d9b49678",
   "metadata": {},
   "outputs": [
    {
     "data": {
      "text/html": [
       "<div>\n",
       "<style scoped>\n",
       "    .dataframe tbody tr th:only-of-type {\n",
       "        vertical-align: middle;\n",
       "    }\n",
       "\n",
       "    .dataframe tbody tr th {\n",
       "        vertical-align: top;\n",
       "    }\n",
       "\n",
       "    .dataframe thead th {\n",
       "        text-align: right;\n",
       "    }\n",
       "</style>\n",
       "<table border=\"1\" class=\"dataframe\">\n",
       "  <thead>\n",
       "    <tr style=\"text-align: right;\">\n",
       "      <th></th>\n",
       "      <th>date</th>\n",
       "      <th>serial_number</th>\n",
       "      <th>model</th>\n",
       "      <th>failure</th>\n",
       "      <th>date_failure</th>\n",
       "      <th>countdown</th>\n",
       "      <th>smart_5_raw</th>\n",
       "      <th>smart_183_raw</th>\n",
       "      <th>smart_184_raw</th>\n",
       "      <th>smart_187_raw</th>\n",
       "      <th>failure_in_30_days</th>\n",
       "    </tr>\n",
       "  </thead>\n",
       "  <tbody>\n",
       "    <tr>\n",
       "      <th>311</th>\n",
       "      <td>2020-09-01</td>\n",
       "      <td>S301GMXN</td>\n",
       "      <td>ST4000DM000</td>\n",
       "      <td>0</td>\n",
       "      <td>2021-07-12</td>\n",
       "      <td>314.0</td>\n",
       "      <td>0.0</td>\n",
       "      <td>0.0</td>\n",
       "      <td>0.0</td>\n",
       "      <td>0.0</td>\n",
       "      <td>0</td>\n",
       "    </tr>\n",
       "    <tr>\n",
       "      <th>432</th>\n",
       "      <td>2020-09-01</td>\n",
       "      <td>Z304JGH0</td>\n",
       "      <td>ST4000DM000</td>\n",
       "      <td>0</td>\n",
       "      <td>2021-01-14</td>\n",
       "      <td>135.0</td>\n",
       "      <td>0.0</td>\n",
       "      <td>0.0</td>\n",
       "      <td>0.0</td>\n",
       "      <td>0.0</td>\n",
       "      <td>0</td>\n",
       "    </tr>\n",
       "    <tr>\n",
       "      <th>436</th>\n",
       "      <td>2020-09-01</td>\n",
       "      <td>Z304KBK4</td>\n",
       "      <td>ST4000DM000</td>\n",
       "      <td>0</td>\n",
       "      <td>2021-12-16</td>\n",
       "      <td>471.0</td>\n",
       "      <td>0.0</td>\n",
       "      <td>0.0</td>\n",
       "      <td>0.0</td>\n",
       "      <td>0.0</td>\n",
       "      <td>0</td>\n",
       "    </tr>\n",
       "    <tr>\n",
       "      <th>439</th>\n",
       "      <td>2020-09-01</td>\n",
       "      <td>Z302AYQQ</td>\n",
       "      <td>ST4000DM000</td>\n",
       "      <td>0</td>\n",
       "      <td>2021-10-30</td>\n",
       "      <td>424.0</td>\n",
       "      <td>0.0</td>\n",
       "      <td>0.0</td>\n",
       "      <td>0.0</td>\n",
       "      <td>0.0</td>\n",
       "      <td>0</td>\n",
       "    </tr>\n",
       "    <tr>\n",
       "      <th>440</th>\n",
       "      <td>2020-09-01</td>\n",
       "      <td>Z302SYHL</td>\n",
       "      <td>ST4000DM000</td>\n",
       "      <td>0</td>\n",
       "      <td>2021-05-22</td>\n",
       "      <td>263.0</td>\n",
       "      <td>0.0</td>\n",
       "      <td>4.0</td>\n",
       "      <td>0.0</td>\n",
       "      <td>33.0</td>\n",
       "      <td>0</td>\n",
       "    </tr>\n",
       "    <tr>\n",
       "      <th>...</th>\n",
       "      <td>...</td>\n",
       "      <td>...</td>\n",
       "      <td>...</td>\n",
       "      <td>...</td>\n",
       "      <td>...</td>\n",
       "      <td>...</td>\n",
       "      <td>...</td>\n",
       "      <td>...</td>\n",
       "      <td>...</td>\n",
       "      <td>...</td>\n",
       "      <td>...</td>\n",
       "    </tr>\n",
       "    <tr>\n",
       "      <th>241865</th>\n",
       "      <td>2020-09-15</td>\n",
       "      <td>Z304KCF4</td>\n",
       "      <td>ST4000DM000</td>\n",
       "      <td>0</td>\n",
       "      <td>2021-05-04</td>\n",
       "      <td>231.0</td>\n",
       "      <td>0.0</td>\n",
       "      <td>0.0</td>\n",
       "      <td>0.0</td>\n",
       "      <td>3.0</td>\n",
       "      <td>0</td>\n",
       "    </tr>\n",
       "    <tr>\n",
       "      <th>241866</th>\n",
       "      <td>2020-09-15</td>\n",
       "      <td>Z304JWK4</td>\n",
       "      <td>ST4000DM000</td>\n",
       "      <td>0</td>\n",
       "      <td>2021-02-07</td>\n",
       "      <td>145.0</td>\n",
       "      <td>0.0</td>\n",
       "      <td>0.0</td>\n",
       "      <td>0.0</td>\n",
       "      <td>0.0</td>\n",
       "      <td>0</td>\n",
       "    </tr>\n",
       "    <tr>\n",
       "      <th>241867</th>\n",
       "      <td>2020-09-15</td>\n",
       "      <td>Z304JW0E</td>\n",
       "      <td>ST4000DM000</td>\n",
       "      <td>0</td>\n",
       "      <td>2021-03-19</td>\n",
       "      <td>185.0</td>\n",
       "      <td>0.0</td>\n",
       "      <td>0.0</td>\n",
       "      <td>0.0</td>\n",
       "      <td>0.0</td>\n",
       "      <td>0</td>\n",
       "    </tr>\n",
       "    <tr>\n",
       "      <th>241868</th>\n",
       "      <td>2020-09-15</td>\n",
       "      <td>Z302SW72</td>\n",
       "      <td>ST4000DM000</td>\n",
       "      <td>0</td>\n",
       "      <td>2021-10-31</td>\n",
       "      <td>411.0</td>\n",
       "      <td>0.0</td>\n",
       "      <td>0.0</td>\n",
       "      <td>0.0</td>\n",
       "      <td>0.0</td>\n",
       "      <td>0</td>\n",
       "    </tr>\n",
       "    <tr>\n",
       "      <th>241869</th>\n",
       "      <td>2020-09-15</td>\n",
       "      <td>Z304JW0M</td>\n",
       "      <td>ST4000DM000</td>\n",
       "      <td>0</td>\n",
       "      <td>2021-06-09</td>\n",
       "      <td>267.0</td>\n",
       "      <td>176.0</td>\n",
       "      <td>2.0</td>\n",
       "      <td>0.0</td>\n",
       "      <td>54.0</td>\n",
       "      <td>0</td>\n",
       "    </tr>\n",
       "  </tbody>\n",
       "</table>\n",
       "<p>241262 rows × 11 columns</p>\n",
       "</div>"
      ],
      "text/plain": [
       "             date serial_number        model  failure date_failure  countdown  \\\n",
       "311    2020-09-01      S301GMXN  ST4000DM000        0   2021-07-12      314.0   \n",
       "432    2020-09-01      Z304JGH0  ST4000DM000        0   2021-01-14      135.0   \n",
       "436    2020-09-01      Z304KBK4  ST4000DM000        0   2021-12-16      471.0   \n",
       "439    2020-09-01      Z302AYQQ  ST4000DM000        0   2021-10-30      424.0   \n",
       "440    2020-09-01      Z302SYHL  ST4000DM000        0   2021-05-22      263.0   \n",
       "...           ...           ...          ...      ...          ...        ...   \n",
       "241865 2020-09-15      Z304KCF4  ST4000DM000        0   2021-05-04      231.0   \n",
       "241866 2020-09-15      Z304JWK4  ST4000DM000        0   2021-02-07      145.0   \n",
       "241867 2020-09-15      Z304JW0E  ST4000DM000        0   2021-03-19      185.0   \n",
       "241868 2020-09-15      Z302SW72  ST4000DM000        0   2021-10-31      411.0   \n",
       "241869 2020-09-15      Z304JW0M  ST4000DM000        0   2021-06-09      267.0   \n",
       "\n",
       "        smart_5_raw  smart_183_raw  smart_184_raw  smart_187_raw  \\\n",
       "311             0.0            0.0            0.0            0.0   \n",
       "432             0.0            0.0            0.0            0.0   \n",
       "436             0.0            0.0            0.0            0.0   \n",
       "439             0.0            0.0            0.0            0.0   \n",
       "440             0.0            4.0            0.0           33.0   \n",
       "...             ...            ...            ...            ...   \n",
       "241865          0.0            0.0            0.0            3.0   \n",
       "241866          0.0            0.0            0.0            0.0   \n",
       "241867          0.0            0.0            0.0            0.0   \n",
       "241868          0.0            0.0            0.0            0.0   \n",
       "241869        176.0            2.0            0.0           54.0   \n",
       "\n",
       "        failure_in_30_days  \n",
       "311                      0  \n",
       "432                      0  \n",
       "436                      0  \n",
       "439                      0  \n",
       "440                      0  \n",
       "...                    ...  \n",
       "241865                   0  \n",
       "241866                   0  \n",
       "241867                   0  \n",
       "241868                   0  \n",
       "241869                   0  \n",
       "\n",
       "[241262 rows x 11 columns]"
      ]
     },
     "execution_count": 73,
     "metadata": {},
     "output_type": "execute_result"
    }
   ],
   "source": [
    "df[ df.duplicated(subset=\"serial_number\") ]\n",
    "#df.duplicated(subset=\"serial_number\").value_counts()"
   ]
  },
  {
   "cell_type": "markdown",
   "id": "ada20aab",
   "metadata": {},
   "source": [
    "print out confusion matrix, classification reports, and ROC-AUC score:"
   ]
  },
  {
   "cell_type": "code",
   "execution_count": 58,
   "id": "3e4baa28",
   "metadata": {},
   "outputs": [
    {
     "name": "stdout",
     "output_type": "stream",
     "text": [
      "# Confusion matrix for train data(log10 scale):\n"
     ]
    },
    {
     "data": {
      "image/png": "[encoded data removed]",
      "text/plain": [
       "<Figure size 432x288 with 2 Axes>"
      ]
     },
     "metadata": {},
     "output_type": "display_data"
    }
   ],
   "source": [
    "print(\"# Confusion matrix for train data(log10 scale):\")\n",
    "ax1 = sns.heatmap(np.log10(confusion_matrix(y_train, y_train_pred)), annot=True)"
   ]
  },
  {
   "cell_type": "code",
   "execution_count": 61,
   "id": "babf85e9",
   "metadata": {},
   "outputs": [
    {
     "name": "stdout",
     "output_type": "stream",
     "text": [
      "# Confusion matrix for train data(log10 scale):\n"
     ]
    },
    {
     "data": {
      "text/plain": [
       "Text(30.5, 0.5, 'Truth')"
      ]
     },
     "execution_count": 61,
     "metadata": {},
     "output_type": "execute_result"
    },
    {
     "data": {
      "image/png": "[encoded data removed]",
      "text/plain": [
       "<Figure size 432x288 with 2 Axes>"
      ]
     },
     "metadata": {},
     "output_type": "display_data"
    }
   ],
   "source": [
    "print(\"# Confusion matrix for train data(log10 scale):\")\n",
    "ax1 = sns.heatmap(confusion_matrix(y_train, y_train_pred), annot=True)\n",
    "ax1.set_xlabel(\"Prediction\")\n",
    "ax1.set_ylabel(\"Truth\")"
   ]
  },
  {
   "cell_type": "code",
   "execution_count": null,
   "id": "69a4e697",
   "metadata": {},
   "outputs": [
    {
     "name": "stdout",
     "output_type": "stream",
     "text": [
      "# Confusion matrix for test data(log10 scale):\n"
     ]
    },
    {
     "data": {
      "image/png": "[encoded data removed]",
      "text/plain": [
       "<Figure size 432x288 with 2 Axes>"
      ]
     },
     "metadata": {},
     "output_type": "display_data"
    }
   ],
   "source": [
    "print(\"# Confusion matrix for test data(log10 scale):\")\n",
    "ax2 = sns.heatmap(np.log10(confusion_matrix(y_test_c, y_test_c_pred)), annot=True)"
   ]
  },
  {
   "cell_type": "code",
   "execution_count": 19,
   "id": "e8758343",
   "metadata": {},
   "outputs": [
    {
     "name": "stdout",
     "output_type": "stream",
     "text": [
      "classification report for train data:\n",
      "              precision    recall  f1-score   support\n",
      "\n",
      "       False       0.96      0.54      0.69    180121\n",
      "        True       0.11      0.69      0.19     14602\n",
      "\n",
      "    accuracy                           0.55    194723\n",
      "   macro avg       0.53      0.62      0.44    194723\n",
      "weighted avg       0.89      0.55      0.65    194723\n",
      "\n",
      "classification report for test data:\n",
      "              precision    recall  f1-score   support\n",
      "\n",
      "       False       0.96      0.48      0.64     43382\n",
      "        True       0.11      0.75      0.19      3765\n",
      "\n",
      "    accuracy                           0.50     47147\n",
      "   macro avg       0.53      0.61      0.42     47147\n",
      "weighted avg       0.89      0.50      0.60     47147\n",
      "\n"
     ]
    }
   ],
   "source": [
    "print(\"classification report for train data:\")\n",
    "print(classification_report(y_train_c, y_train_c_pred))\n",
    "print(\"classification report for test data:\")\n",
    "print(classification_report(y_test_c, y_test_c_pred))\n"
   ]
  },
  {
   "cell_type": "code",
   "execution_count": 40,
   "id": "a15b9300",
   "metadata": {},
   "outputs": [
    {
     "name": "stdout",
     "output_type": "stream",
     "text": [
      "roc auc score for train: 0.6155\n",
      "roc auc score for test: 0.6145\n",
      "f2 score: 0.3488\n"
     ]
    }
   ],
   "source": [
    "print(\"roc auc score for train:\", roc_auc_score(y_train_c, y_train_c_pred).round(4))\n",
    "print(\"roc auc score for test:\", roc_auc_score(y_test_c, y_test_c_pred).round(4))\n",
    "print(\"f2 score:\", fbeta_score(y_test_c, y_test_c_pred, beta=2).round(4))\n"
   ]
  },
  {
   "cell_type": "code",
   "execution_count": 41,
   "id": "0c2b683b",
   "metadata": {},
   "outputs": [
    {
     "name": "stderr",
     "output_type": "stream",
     "text": [
      "/Users/cmw/hdd-anomaly-detection/.venv/lib/python3.9/site-packages/sklearn/model_selection/_validation.py:372: FitFailedWarning: \n",
      "5 fits failed out of a total of 5.\n",
      "The score on these train-test partitions for these parameters will be set to nan.\n",
      "If these failures are not expected, you can try to debug them by setting error_score='raise'.\n",
      "\n",
      "Below are more details about the failures:\n",
      "--------------------------------------------------------------------------------\n",
      "5 fits failed with the following error:\n",
      "Traceback (most recent call last):\n",
      "  File \"/Users/cmw/hdd-anomaly-detection/.venv/lib/python3.9/site-packages/sklearn/model_selection/_validation.py\", line 680, in _fit_and_score\n",
      "    estimator.fit(X_train, y_train, **fit_params)\n",
      "  File \"/Users/cmw/hdd-anomaly-detection/.venv/lib/python3.9/site-packages/sklearn/linear_model/_logistic.py\", line 1508, in fit\n",
      "    X, y = self._validate_data(\n",
      "  File \"/Users/cmw/hdd-anomaly-detection/.venv/lib/python3.9/site-packages/sklearn/base.py\", line 581, in _validate_data\n",
      "    X, y = check_X_y(X, y, **check_params)\n",
      "  File \"/Users/cmw/hdd-anomaly-detection/.venv/lib/python3.9/site-packages/sklearn/utils/validation.py\", line 964, in check_X_y\n",
      "    X = check_array(\n",
      "  File \"/Users/cmw/hdd-anomaly-detection/.venv/lib/python3.9/site-packages/sklearn/utils/validation.py\", line 746, in check_array\n",
      "    array = np.asarray(array, order=order, dtype=dtype)\n",
      "  File \"/Users/cmw/hdd-anomaly-detection/.venv/lib/python3.9/site-packages/pandas/core/generic.py\", line 1993, in __array__\n",
      "    return np.asarray(self._values, dtype=dtype)\n",
      "TypeError: float() argument must be a string or a number, not 'Timestamp'\n",
      "\n",
      "  warnings.warn(some_fits_failed_message, FitFailedWarning)\n"
     ]
    },
    {
     "name": "stdout",
     "output_type": "stream",
     "text": [
      "LogisticRegression()\n",
      "Accuracy  (mean, std): [nan, nan]\n",
      "Recall    (mean, std): [nan, nan]\n",
      "Precision (mean, std): [nan, nan]\n",
      "Fbeta     (mean, std): [nan, nan]\n",
      "----------------------------------------\n"
     ]
    },
    {
     "name": "stderr",
     "output_type": "stream",
     "text": [
      "/Users/cmw/hdd-anomaly-detection/.venv/lib/python3.9/site-packages/sklearn/model_selection/_validation.py:372: FitFailedWarning: \n",
      "5 fits failed out of a total of 5.\n",
      "The score on these train-test partitions for these parameters will be set to nan.\n",
      "If these failures are not expected, you can try to debug them by setting error_score='raise'.\n",
      "\n",
      "Below are more details about the failures:\n",
      "--------------------------------------------------------------------------------\n",
      "5 fits failed with the following error:\n",
      "Traceback (most recent call last):\n",
      "  File \"/Users/cmw/hdd-anomaly-detection/.venv/lib/python3.9/site-packages/sklearn/model_selection/_validation.py\", line 680, in _fit_and_score\n",
      "    estimator.fit(X_train, y_train, **fit_params)\n",
      "  File \"/Users/cmw/hdd-anomaly-detection/.venv/lib/python3.9/site-packages/sklearn/neighbors/_classification.py\", line 198, in fit\n",
      "    return self._fit(X, y)\n",
      "  File \"/Users/cmw/hdd-anomaly-detection/.venv/lib/python3.9/site-packages/sklearn/neighbors/_base.py\", line 400, in _fit\n",
      "    X, y = self._validate_data(X, y, accept_sparse=\"csr\", multi_output=True)\n",
      "  File \"/Users/cmw/hdd-anomaly-detection/.venv/lib/python3.9/site-packages/sklearn/base.py\", line 581, in _validate_data\n",
      "    X, y = check_X_y(X, y, **check_params)\n",
      "  File \"/Users/cmw/hdd-anomaly-detection/.venv/lib/python3.9/site-packages/sklearn/utils/validation.py\", line 964, in check_X_y\n",
      "    X = check_array(\n",
      "  File \"/Users/cmw/hdd-anomaly-detection/.venv/lib/python3.9/site-packages/sklearn/utils/validation.py\", line 746, in check_array\n",
      "    array = np.asarray(array, order=order, dtype=dtype)\n",
      "  File \"/Users/cmw/hdd-anomaly-detection/.venv/lib/python3.9/site-packages/pandas/core/generic.py\", line 1993, in __array__\n",
      "    return np.asarray(self._values, dtype=dtype)\n",
      "TypeError: float() argument must be a string or a number, not 'Timestamp'\n",
      "\n",
      "  warnings.warn(some_fits_failed_message, FitFailedWarning)\n"
     ]
    },
    {
     "name": "stdout",
     "output_type": "stream",
     "text": [
      "KNeighborsClassifier()\n",
      "Accuracy  (mean, std): [nan, nan]\n",
      "Recall    (mean, std): [nan, nan]\n",
      "Precision (mean, std): [nan, nan]\n",
      "Fbeta     (mean, std): [nan, nan]\n",
      "----------------------------------------\n"
     ]
    },
    {
     "name": "stderr",
     "output_type": "stream",
     "text": [
      "/Users/cmw/hdd-anomaly-detection/.venv/lib/python3.9/site-packages/sklearn/model_selection/_validation.py:372: FitFailedWarning: \n",
      "5 fits failed out of a total of 5.\n",
      "The score on these train-test partitions for these parameters will be set to nan.\n",
      "If these failures are not expected, you can try to debug them by setting error_score='raise'.\n",
      "\n",
      "Below are more details about the failures:\n",
      "--------------------------------------------------------------------------------\n",
      "5 fits failed with the following error:\n",
      "Traceback (most recent call last):\n",
      "  File \"/Users/cmw/hdd-anomaly-detection/.venv/lib/python3.9/site-packages/sklearn/model_selection/_validation.py\", line 680, in _fit_and_score\n",
      "    estimator.fit(X_train, y_train, **fit_params)\n",
      "  File \"/Users/cmw/hdd-anomaly-detection/.venv/lib/python3.9/site-packages/sklearn/svm/_base.py\", line 190, in fit\n",
      "    X, y = self._validate_data(\n",
      "  File \"/Users/cmw/hdd-anomaly-detection/.venv/lib/python3.9/site-packages/sklearn/base.py\", line 581, in _validate_data\n",
      "    X, y = check_X_y(X, y, **check_params)\n",
      "  File \"/Users/cmw/hdd-anomaly-detection/.venv/lib/python3.9/site-packages/sklearn/utils/validation.py\", line 964, in check_X_y\n",
      "    X = check_array(\n",
      "  File \"/Users/cmw/hdd-anomaly-detection/.venv/lib/python3.9/site-packages/sklearn/utils/validation.py\", line 746, in check_array\n",
      "    array = np.asarray(array, order=order, dtype=dtype)\n",
      "  File \"/Users/cmw/hdd-anomaly-detection/.venv/lib/python3.9/site-packages/pandas/core/generic.py\", line 1993, in __array__\n",
      "    return np.asarray(self._values, dtype=dtype)\n",
      "TypeError: float() argument must be a string or a number, not 'Timestamp'\n",
      "\n",
      "  warnings.warn(some_fits_failed_message, FitFailedWarning)\n"
     ]
    },
    {
     "name": "stdout",
     "output_type": "stream",
     "text": [
      "SVC()\n",
      "Accuracy  (mean, std): [nan, nan]\n",
      "Recall    (mean, std): [nan, nan]\n",
      "Precision (mean, std): [nan, nan]\n",
      "Fbeta     (mean, std): [nan, nan]\n",
      "----------------------------------------\n",
      "DecisionTreeClassifier(random_state=200)\n",
      "Accuracy  (mean, std): [nan, nan]\n",
      "Recall    (mean, std): [nan, nan]\n",
      "Precision (mean, std): [nan, nan]\n",
      "Fbeta     (mean, std): [nan, nan]\n",
      "----------------------------------------\n"
     ]
    },
    {
     "name": "stderr",
     "output_type": "stream",
     "text": [
      "/Users/cmw/hdd-anomaly-detection/.venv/lib/python3.9/site-packages/sklearn/model_selection/_validation.py:372: FitFailedWarning: \n",
      "5 fits failed out of a total of 5.\n",
      "The score on these train-test partitions for these parameters will be set to nan.\n",
      "If these failures are not expected, you can try to debug them by setting error_score='raise'.\n",
      "\n",
      "Below are more details about the failures:\n",
      "--------------------------------------------------------------------------------\n",
      "5 fits failed with the following error:\n",
      "Traceback (most recent call last):\n",
      "  File \"/Users/cmw/hdd-anomaly-detection/.venv/lib/python3.9/site-packages/sklearn/model_selection/_validation.py\", line 680, in _fit_and_score\n",
      "    estimator.fit(X_train, y_train, **fit_params)\n",
      "  File \"/Users/cmw/hdd-anomaly-detection/.venv/lib/python3.9/site-packages/sklearn/tree/_classes.py\", line 937, in fit\n",
      "    super().fit(\n",
      "  File \"/Users/cmw/hdd-anomaly-detection/.venv/lib/python3.9/site-packages/sklearn/tree/_classes.py\", line 165, in fit\n",
      "    X, y = self._validate_data(\n",
      "  File \"/Users/cmw/hdd-anomaly-detection/.venv/lib/python3.9/site-packages/sklearn/base.py\", line 578, in _validate_data\n",
      "    X = check_array(X, **check_X_params)\n",
      "  File \"/Users/cmw/hdd-anomaly-detection/.venv/lib/python3.9/site-packages/sklearn/utils/validation.py\", line 746, in check_array\n",
      "    array = np.asarray(array, order=order, dtype=dtype)\n",
      "  File \"/Users/cmw/hdd-anomaly-detection/.venv/lib/python3.9/site-packages/pandas/core/generic.py\", line 1993, in __array__\n",
      "    return np.asarray(self._values, dtype=dtype)\n",
      "TypeError: float() argument must be a string or a number, not 'Timestamp'\n",
      "\n",
      "  warnings.warn(some_fits_failed_message, FitFailedWarning)\n"
     ]
    }
   ],
   "source": [
    "ftwo_scorer = make_scorer(fbeta_score, beta=2)\n",
    "\n",
    "\n",
    "\n",
    "# Define fbeta score with higher weighted recall\n",
    "ftwo_scorer = make_scorer(fbeta_score, beta=2)\n",
    "\n",
    "# Define dictionary with several interesting metrics\n",
    "scorer_dict = {\"ftwo_scorer\": make_scorer(fbeta_score, beta=0.5), \"accuracy\": \"accuracy\", \"precision\": \"precision\", \"recall\": \"recall\"}\n",
    "\n",
    "def model_evaluation(clf, scoring, X_train, y_train):\n",
    "    \n",
    "    results = {}\n",
    "    scores = cross_validate(clf, X_train, y_train, scoring=scoring, cv=5, n_jobs=-1)\n",
    "    results = {key: [value.mean().round(4), value.std().round(4)] for key, value in scores.items()}\n",
    "    \n",
    "    del results['fit_time']\n",
    "    del results['score_time']\n",
    "    \n",
    "    return results\n",
    "\n",
    "\n",
    "\n",
    "#Test different types of models\n",
    "list_of_clf = [LogisticRegression(), KNeighborsClassifier(), SVC(), DecisionTreeClassifier(random_state=RSEED)]\n",
    "for clf in list_of_clf:\n",
    "    results = model_evaluation(clf, scorer_dict, X_train, y_train_c)\n",
    "    print(clf)\n",
    "    print(\"Accuracy  (mean, std):\", results[\"test_accuracy\"])\n",
    "    print(\"Recall    (mean, std):\", results[\"test_recall\"])\n",
    "    print(\"Precision (mean, std):\", results[\"test_precision\"])\n",
    "    print(\"Fbeta     (mean, std):\", results[\"test_ftwo_scorer\"])\n",
    "    print(\"----\"*10)"
   ]
  },
  {
   "cell_type": "markdown",
   "id": "ca604fa0",
   "metadata": {},
   "source": [
    "# Logistic Regression"
   ]
  },
  {
   "cell_type": "markdown",
   "id": "8f390a63",
   "metadata": {},
   "source": [
    "We could observe the data and decide which scaler to use:"
   ]
  },
  {
   "cell_type": "code",
   "execution_count": 24,
   "id": "16044325",
   "metadata": {},
   "outputs": [
    {
     "data": {
      "text/html": [
       "<div>\n",
       "<style scoped>\n",
       "    .dataframe tbody tr th:only-of-type {\n",
       "        vertical-align: middle;\n",
       "    }\n",
       "\n",
       "    .dataframe tbody tr th {\n",
       "        vertical-align: top;\n",
       "    }\n",
       "\n",
       "    .dataframe thead th {\n",
       "        text-align: right;\n",
       "    }\n",
       "</style>\n",
       "<table border=\"1\" class=\"dataframe\">\n",
       "  <thead>\n",
       "    <tr style=\"text-align: right;\">\n",
       "      <th></th>\n",
       "      <th>date</th>\n",
       "      <th>serial_number</th>\n",
       "      <th>model</th>\n",
       "      <th>failure</th>\n",
       "      <th>date_failure</th>\n",
       "      <th>countdown</th>\n",
       "      <th>smart_5_raw</th>\n",
       "      <th>smart_183_raw</th>\n",
       "      <th>smart_184_raw</th>\n",
       "      <th>smart_187_raw</th>\n",
       "    </tr>\n",
       "  </thead>\n",
       "  <tbody>\n",
       "    <tr>\n",
       "      <th>0</th>\n",
       "      <td>2020-09-15</td>\n",
       "      <td>Z304KBK4</td>\n",
       "      <td>ST4000DM000</td>\n",
       "      <td>0</td>\n",
       "      <td>2021-12-16</td>\n",
       "      <td>457.0</td>\n",
       "      <td>0.0</td>\n",
       "      <td>0.0</td>\n",
       "      <td>0.0</td>\n",
       "      <td>0.0</td>\n",
       "    </tr>\n",
       "    <tr>\n",
       "      <th>2</th>\n",
       "      <td>2020-09-15</td>\n",
       "      <td>Z302SYHL</td>\n",
       "      <td>ST4000DM000</td>\n",
       "      <td>0</td>\n",
       "      <td>2021-05-22</td>\n",
       "      <td>249.0</td>\n",
       "      <td>0.0</td>\n",
       "      <td>4.0</td>\n",
       "      <td>0.0</td>\n",
       "      <td>33.0</td>\n",
       "    </tr>\n",
       "    <tr>\n",
       "      <th>3</th>\n",
       "      <td>2020-09-15</td>\n",
       "      <td>S3010L7K</td>\n",
       "      <td>ST4000DM000</td>\n",
       "      <td>0</td>\n",
       "      <td>2020-12-11</td>\n",
       "      <td>87.0</td>\n",
       "      <td>0.0</td>\n",
       "      <td>2.0</td>\n",
       "      <td>0.0</td>\n",
       "      <td>0.0</td>\n",
       "    </tr>\n",
       "  </tbody>\n",
       "</table>\n",
       "</div>"
      ],
      "text/plain": [
       "        date serial_number        model  failure date_failure  countdown  \\\n",
       "0 2020-09-15      Z304KBK4  ST4000DM000        0   2021-12-16      457.0   \n",
       "2 2020-09-15      Z302SYHL  ST4000DM000        0   2021-05-22      249.0   \n",
       "3 2020-09-15      S3010L7K  ST4000DM000        0   2020-12-11       87.0   \n",
       "\n",
       "   smart_5_raw  smart_183_raw  smart_184_raw  smart_187_raw  \n",
       "0          0.0            0.0            0.0            0.0  \n",
       "2          0.0            4.0            0.0           33.0  \n",
       "3          0.0            2.0            0.0            0.0  "
      ]
     },
     "execution_count": 24,
     "metadata": {},
     "output_type": "execute_result"
    }
   ],
   "source": [
    "df_train.head(3)"
   ]
  },
  {
   "cell_type": "code",
   "execution_count": 25,
   "id": "764c34e1",
   "metadata": {},
   "outputs": [
    {
     "data": {
      "text/html": [
       "<div>\n",
       "<style scoped>\n",
       "    .dataframe tbody tr th:only-of-type {\n",
       "        vertical-align: middle;\n",
       "    }\n",
       "\n",
       "    .dataframe tbody tr th {\n",
       "        vertical-align: top;\n",
       "    }\n",
       "\n",
       "    .dataframe thead th {\n",
       "        text-align: right;\n",
       "    }\n",
       "</style>\n",
       "<table border=\"1\" class=\"dataframe\">\n",
       "  <thead>\n",
       "    <tr style=\"text-align: right;\">\n",
       "      <th></th>\n",
       "      <th>count</th>\n",
       "      <th>mean</th>\n",
       "      <th>std</th>\n",
       "      <th>min</th>\n",
       "      <th>25%</th>\n",
       "      <th>50%</th>\n",
       "      <th>75%</th>\n",
       "      <th>max</th>\n",
       "    </tr>\n",
       "  </thead>\n",
       "  <tbody>\n",
       "    <tr>\n",
       "      <th>failure</th>\n",
       "      <td>194723.0</td>\n",
       "      <td>0.002506</td>\n",
       "      <td>0.049999</td>\n",
       "      <td>0.0</td>\n",
       "      <td>0.0</td>\n",
       "      <td>0.0</td>\n",
       "      <td>0.0</td>\n",
       "      <td>1.0</td>\n",
       "    </tr>\n",
       "    <tr>\n",
       "      <th>countdown</th>\n",
       "      <td>194723.0</td>\n",
       "      <td>257.649425</td>\n",
       "      <td>176.142010</td>\n",
       "      <td>0.0</td>\n",
       "      <td>108.0</td>\n",
       "      <td>232.0</td>\n",
       "      <td>387.0</td>\n",
       "      <td>730.0</td>\n",
       "    </tr>\n",
       "    <tr>\n",
       "      <th>smart_5_raw</th>\n",
       "      <td>194723.0</td>\n",
       "      <td>242.197830</td>\n",
       "      <td>2826.184588</td>\n",
       "      <td>0.0</td>\n",
       "      <td>0.0</td>\n",
       "      <td>0.0</td>\n",
       "      <td>0.0</td>\n",
       "      <td>65064.0</td>\n",
       "    </tr>\n",
       "    <tr>\n",
       "      <th>smart_183_raw</th>\n",
       "      <td>194723.0</td>\n",
       "      <td>4.816303</td>\n",
       "      <td>30.303931</td>\n",
       "      <td>0.0</td>\n",
       "      <td>0.0</td>\n",
       "      <td>0.0</td>\n",
       "      <td>2.0</td>\n",
       "      <td>720.0</td>\n",
       "    </tr>\n",
       "    <tr>\n",
       "      <th>smart_184_raw</th>\n",
       "      <td>194723.0</td>\n",
       "      <td>0.259810</td>\n",
       "      <td>5.536955</td>\n",
       "      <td>0.0</td>\n",
       "      <td>0.0</td>\n",
       "      <td>0.0</td>\n",
       "      <td>0.0</td>\n",
       "      <td>256.0</td>\n",
       "    </tr>\n",
       "    <tr>\n",
       "      <th>smart_187_raw</th>\n",
       "      <td>194723.0</td>\n",
       "      <td>8.622392</td>\n",
       "      <td>35.054139</td>\n",
       "      <td>0.0</td>\n",
       "      <td>0.0</td>\n",
       "      <td>0.0</td>\n",
       "      <td>3.0</td>\n",
       "      <td>940.0</td>\n",
       "    </tr>\n",
       "  </tbody>\n",
       "</table>\n",
       "</div>"
      ],
      "text/plain": [
       "                  count        mean          std  min    25%    50%    75%  \\\n",
       "failure        194723.0    0.002506     0.049999  0.0    0.0    0.0    0.0   \n",
       "countdown      194723.0  257.649425   176.142010  0.0  108.0  232.0  387.0   \n",
       "smart_5_raw    194723.0  242.197830  2826.184588  0.0    0.0    0.0    0.0   \n",
       "smart_183_raw  194723.0    4.816303    30.303931  0.0    0.0    0.0    2.0   \n",
       "smart_184_raw  194723.0    0.259810     5.536955  0.0    0.0    0.0    0.0   \n",
       "smart_187_raw  194723.0    8.622392    35.054139  0.0    0.0    0.0    3.0   \n",
       "\n",
       "                   max  \n",
       "failure            1.0  \n",
       "countdown        730.0  \n",
       "smart_5_raw    65064.0  \n",
       "smart_183_raw    720.0  \n",
       "smart_184_raw    256.0  \n",
       "smart_187_raw    940.0  "
      ]
     },
     "execution_count": 25,
     "metadata": {},
     "output_type": "execute_result"
    }
   ],
   "source": [
    "df_train.describe().T"
   ]
  },
  {
   "cell_type": "markdown",
   "id": "d88c41d1",
   "metadata": {},
   "source": [
    "It looks like a log transformation would be nice for all of the smart features."
   ]
  },
  {
   "cell_type": "code",
   "execution_count": 26,
   "id": "ae191053",
   "metadata": {},
   "outputs": [
    {
     "ename": "NameError",
     "evalue": "name 'df_d_train' is not defined",
     "output_type": "error",
     "traceback": [
      "\u001b[0;31m---------------------------------------------------------------------------\u001b[0m",
      "\u001b[0;31mNameError\u001b[0m                                 Traceback (most recent call last)",
      "\u001b[1;32m/Users/cmw/hdd-anomaly-detection/notebooks/cmw_modeling.ipynb Cell 35'\u001b[0m in \u001b[0;36m<cell line: 1>\u001b[0;34m()\u001b[0m\n\u001b[0;32m----> <a href='vscode-notebook-cell:/Users/cmw/hdd-anomaly-detection/notebooks/cmw_modeling.ipynb#ch0000094?line=0'>1</a>\u001b[0m X_train_lr \u001b[39m=\u001b[39m df_d_train\u001b[39m.\u001b[39miloc[:, \u001b[39m6\u001b[39m:]\u001b[39m.\u001b[39mapply(\u001b[39mlambda\u001b[39;00m x : np\u001b[39m.\u001b[39mlog10(x\u001b[39m+\u001b[39m\u001b[39m1\u001b[39m))\n\u001b[1;32m      <a href='vscode-notebook-cell:/Users/cmw/hdd-anomaly-detection/notebooks/cmw_modeling.ipynb#ch0000094?line=1'>2</a>\u001b[0m y_train_lr \u001b[39m=\u001b[39m df_d_train[\u001b[39m\"\u001b[39m\u001b[39mcountdown\u001b[39m\u001b[39m\"\u001b[39m]\n\u001b[1;32m      <a href='vscode-notebook-cell:/Users/cmw/hdd-anomaly-detection/notebooks/cmw_modeling.ipynb#ch0000094?line=2'>3</a>\u001b[0m y_train_lr_c \u001b[39m=\u001b[39m y_train_lr\u001b[39m.\u001b[39mapply(\u001b[39mlambda\u001b[39;00m x : \u001b[39mTrue\u001b[39;00m \u001b[39mif\u001b[39;00m x \u001b[39m<\u001b[39m\u001b[39m=\u001b[39m days_before_failure \u001b[39melse\u001b[39;00m \u001b[39mFalse\u001b[39;00m)\n",
      "\u001b[0;31mNameError\u001b[0m: name 'df_d_train' is not defined"
     ]
    }
   ],
   "source": [
    "X_train_lr = df_d_train.iloc[:, 6:].apply(lambda x : np.log10(x+1))\n",
    "y_train_lr = df_d_train[\"countdown\"]\n",
    "y_train_lr_c = y_train_lr.apply(lambda x : True if x <= days_before_failure else False)\n",
    "X_test_lr = df_d_test.iloc[:, 6:].apply(lambda x : np.log10(x+1))\n",
    "y_test_lr = df_d_test[\"countdown\"]\n",
    "y_test_lr_c = y_test_lr.apply(lambda x : True if x <= days_before_failure else False)\n"
   ]
  },
  {
   "cell_type": "markdown",
   "id": "5f1b48ea",
   "metadata": {},
   "source": [
    "Now we can have a look at the distribution again at the transformed data"
   ]
  },
  {
   "cell_type": "code",
   "execution_count": null,
   "id": "7b243fb9",
   "metadata": {},
   "outputs": [
    {
     "data": {
      "text/html": [
       "<div>\n",
       "<style scoped>\n",
       "    .dataframe tbody tr th:only-of-type {\n",
       "        vertical-align: middle;\n",
       "    }\n",
       "\n",
       "    .dataframe tbody tr th {\n",
       "        vertical-align: top;\n",
       "    }\n",
       "\n",
       "    .dataframe thead th {\n",
       "        text-align: right;\n",
       "    }\n",
       "</style>\n",
       "<table border=\"1\" class=\"dataframe\">\n",
       "  <thead>\n",
       "    <tr style=\"text-align: right;\">\n",
       "      <th></th>\n",
       "      <th>count</th>\n",
       "      <th>mean</th>\n",
       "      <th>std</th>\n",
       "      <th>min</th>\n",
       "      <th>25%</th>\n",
       "      <th>50%</th>\n",
       "      <th>75%</th>\n",
       "      <th>max</th>\n",
       "    </tr>\n",
       "  </thead>\n",
       "  <tbody>\n",
       "    <tr>\n",
       "      <th>smart_5_raw</th>\n",
       "      <td>194723.0</td>\n",
       "      <td>0.152176</td>\n",
       "      <td>0.641353</td>\n",
       "      <td>0.0</td>\n",
       "      <td>0.0</td>\n",
       "      <td>0.0</td>\n",
       "      <td>0.000000</td>\n",
       "      <td>4.813347</td>\n",
       "    </tr>\n",
       "    <tr>\n",
       "      <th>smart_183_raw</th>\n",
       "      <td>194723.0</td>\n",
       "      <td>0.267655</td>\n",
       "      <td>0.439204</td>\n",
       "      <td>0.0</td>\n",
       "      <td>0.0</td>\n",
       "      <td>0.0</td>\n",
       "      <td>0.477121</td>\n",
       "      <td>2.857935</td>\n",
       "    </tr>\n",
       "    <tr>\n",
       "      <th>smart_184_raw</th>\n",
       "      <td>194723.0</td>\n",
       "      <td>0.009223</td>\n",
       "      <td>0.112938</td>\n",
       "      <td>0.0</td>\n",
       "      <td>0.0</td>\n",
       "      <td>0.0</td>\n",
       "      <td>0.000000</td>\n",
       "      <td>2.409933</td>\n",
       "    </tr>\n",
       "    <tr>\n",
       "      <th>smart_187_raw</th>\n",
       "      <td>194723.0</td>\n",
       "      <td>0.370079</td>\n",
       "      <td>0.584697</td>\n",
       "      <td>0.0</td>\n",
       "      <td>0.0</td>\n",
       "      <td>0.0</td>\n",
       "      <td>0.602060</td>\n",
       "      <td>2.973590</td>\n",
       "    </tr>\n",
       "  </tbody>\n",
       "</table>\n",
       "</div>"
      ],
      "text/plain": [
       "                  count      mean       std  min  25%  50%       75%       max\n",
       "smart_5_raw    194723.0  0.152176  0.641353  0.0  0.0  0.0  0.000000  4.813347\n",
       "smart_183_raw  194723.0  0.267655  0.439204  0.0  0.0  0.0  0.477121  2.857935\n",
       "smart_184_raw  194723.0  0.009223  0.112938  0.0  0.0  0.0  0.000000  2.409933\n",
       "smart_187_raw  194723.0  0.370079  0.584697  0.0  0.0  0.0  0.602060  2.973590"
      ]
     },
     "execution_count": 276,
     "metadata": {},
     "output_type": "execute_result"
    }
   ],
   "source": [
    "X_train_lr.describe().T"
   ]
  },
  {
   "cell_type": "markdown",
   "id": "644f8259",
   "metadata": {},
   "source": [
    "Perform scaling with Normalizer"
   ]
  },
  {
   "cell_type": "code",
   "execution_count": null,
   "id": "86a2cafa",
   "metadata": {},
   "outputs": [],
   "source": [
    "scaler_lr = Normalizer()\n",
    "X_train_lr = scaler_lr.fit_transform(X_train_lr)\n",
    "X_test_lr = scaler_lr.transform(X_test_lr)"
   ]
  },
  {
   "cell_type": "markdown",
   "id": "6f957382",
   "metadata": {},
   "source": [
    "Instanciate logistic regression and do predictions for train and test data"
   ]
  },
  {
   "cell_type": "code",
   "execution_count": null,
   "id": "ad484631",
   "metadata": {},
   "outputs": [],
   "source": [
    "model_lr = LogisticRegression()\n",
    "model_lr.fit(X_train_lr, y_train_lr_c)\n",
    "y_train_lr_c_pred = model_lr.predict(X_train_lr)\n",
    "y_test_lr_c_pred = model_lr.predict(X_test_lr)"
   ]
  },
  {
   "cell_type": "code",
   "execution_count": null,
   "id": "abfa76f2",
   "metadata": {},
   "outputs": [
    {
     "data": {
      "text/plain": [
       "False    194723\n",
       "dtype: int64"
      ]
     },
     "execution_count": 285,
     "metadata": {},
     "output_type": "execute_result"
    }
   ],
   "source": [
    "type(y_train_lr_c_pred)\n",
    "a = pd.Series(y_train_lr_c_pred)\n",
    "a.value_counts()"
   ]
  },
  {
   "cell_type": "code",
   "execution_count": null,
   "id": "ec304c07",
   "metadata": {},
   "outputs": [
    {
     "name": "stdout",
     "output_type": "stream",
     "text": [
      "# Confusion matrix for train data(log10 scale):\n"
     ]
    },
    {
     "name": "stderr",
     "output_type": "stream",
     "text": [
      "/var/folders/4f/mz1b5sg57p7324fdvfrshs1c0000gn/T/ipykernel_43198/1227641618.py:2: RuntimeWarning: divide by zero encountered in log10\n",
      "  ax1 = sns.heatmap(np.log10(confusion_matrix(y_train_lr_c, y_train_lr_c_pred)), annot=True)\n"
     ]
    },
    {
     "data": {
      "image/png": "[encoded data removed]",
      "text/plain": [
       "<Figure size 432x288 with 2 Axes>"
      ]
     },
     "metadata": {},
     "output_type": "display_data"
    }
   ],
   "source": [
    "print(\"# Confusion matrix for train data(log10 scale):\")\n",
    "ax1 = sns.heatmap(np.log10(confusion_matrix(y_train_lr_c, y_train_lr_c_pred)), annot=True)"
   ]
  },
  {
   "cell_type": "code",
   "execution_count": null,
   "id": "99df2983",
   "metadata": {},
   "outputs": [
    {
     "name": "stdout",
     "output_type": "stream",
     "text": [
      "classification report for train data:\n",
      "              precision    recall  f1-score   support\n",
      "\n",
      "       False       0.93      1.00      0.96    180121\n",
      "        True       0.00      0.00      0.00     14602\n",
      "\n",
      "    accuracy                           0.93    194723\n",
      "   macro avg       0.46      0.50      0.48    194723\n",
      "weighted avg       0.86      0.93      0.89    194723\n",
      "\n",
      "classification report for test data:\n",
      "              precision    recall  f1-score   support\n",
      "\n",
      "       False       0.92      1.00      0.96     43382\n",
      "        True       0.00      0.00      0.00      3765\n",
      "\n",
      "    accuracy                           0.92     47147\n",
      "   macro avg       0.46      0.50      0.48     47147\n",
      "weighted avg       0.85      0.92      0.88     47147\n",
      "\n"
     ]
    },
    {
     "name": "stderr",
     "output_type": "stream",
     "text": [
      "/Users/cmw/hdd-anomaly-detection/.venv/lib/python3.9/site-packages/sklearn/metrics/_classification.py:1318: UndefinedMetricWarning: Precision and F-score are ill-defined and being set to 0.0 in labels with no predicted samples. Use `zero_division` parameter to control this behavior.\n",
      "  _warn_prf(average, modifier, msg_start, len(result))\n",
      "/Users/cmw/hdd-anomaly-detection/.venv/lib/python3.9/site-packages/sklearn/metrics/_classification.py:1318: UndefinedMetricWarning: Precision and F-score are ill-defined and being set to 0.0 in labels with no predicted samples. Use `zero_division` parameter to control this behavior.\n",
      "  _warn_prf(average, modifier, msg_start, len(result))\n",
      "/Users/cmw/hdd-anomaly-detection/.venv/lib/python3.9/site-packages/sklearn/metrics/_classification.py:1318: UndefinedMetricWarning: Precision and F-score are ill-defined and being set to 0.0 in labels with no predicted samples. Use `zero_division` parameter to control this behavior.\n",
      "  _warn_prf(average, modifier, msg_start, len(result))\n",
      "/Users/cmw/hdd-anomaly-detection/.venv/lib/python3.9/site-packages/sklearn/metrics/_classification.py:1318: UndefinedMetricWarning: Precision and F-score are ill-defined and being set to 0.0 in labels with no predicted samples. Use `zero_division` parameter to control this behavior.\n",
      "  _warn_prf(average, modifier, msg_start, len(result))\n",
      "/Users/cmw/hdd-anomaly-detection/.venv/lib/python3.9/site-packages/sklearn/metrics/_classification.py:1318: UndefinedMetricWarning: Precision and F-score are ill-defined and being set to 0.0 in labels with no predicted samples. Use `zero_division` parameter to control this behavior.\n",
      "  _warn_prf(average, modifier, msg_start, len(result))\n",
      "/Users/cmw/hdd-anomaly-detection/.venv/lib/python3.9/site-packages/sklearn/metrics/_classification.py:1318: UndefinedMetricWarning: Precision and F-score are ill-defined and being set to 0.0 in labels with no predicted samples. Use `zero_division` parameter to control this behavior.\n",
      "  _warn_prf(average, modifier, msg_start, len(result))\n"
     ]
    }
   ],
   "source": [
    "print(\"classification report for train data:\")\n",
    "print(classification_report(y_train_lr_c, y_train_lr_c_pred))\n",
    "print(\"classification report for test data:\")\n",
    "print(classification_report(y_test_lr_c, y_test_lr_c_pred))"
   ]
  },
  {
   "cell_type": "code",
   "execution_count": null,
   "id": "77f5edfa",
   "metadata": {},
   "outputs": [],
   "source": []
  },
  {
   "cell_type": "code",
   "execution_count": null,
   "id": "ff5d82c3",
   "metadata": {},
   "outputs": [
    {
     "data": {
      "text/plain": [
       "array([2, 1, 0])"
      ]
     },
     "execution_count": 126,
     "metadata": {},
     "output_type": "execute_result"
    }
   ],
   "source": []
  }
 ],
 "metadata": {
  "kernelspec": {
   "display_name": "Python 3 (ipykernel)",
   "language": "python",
   "name": "python3"
  },
  "language_info": {
   "codemirror_mode": {
    "name": "ipython",
    "version": 3
   },
   "file_extension": ".py",
   "mimetype": "text/x-python",
   "name": "python",
   "nbconvert_exporter": "python",
   "pygments_lexer": "ipython3",
   "version": "3.9.4"
  }
 },
 "nbformat": 4,
 "nbformat_minor": 5
}
