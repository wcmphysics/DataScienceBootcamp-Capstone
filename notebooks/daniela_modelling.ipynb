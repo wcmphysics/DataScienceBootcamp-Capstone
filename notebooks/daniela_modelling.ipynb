{
 "cells": [
  {
   "cell_type": "markdown",
   "metadata": {},
   "source": [
    "## Modeling (Baseline Model and Model Training)\n",
    "\n",
    "After having done the initial EDA in the previous notebook, we move now to the part of modeling. As already stated in the EDA notebook, due to the huge amount of data and the various hdd models, we start by working on a model solely for the Seagate ST4000DM000.\n",
    "\n",
    "While our code is aimed to allow reproducibility for any other hard drive model, this model is the focus of this notebook.\n",
    "\n",
    "Before we start training machine learning algorithm, we construct our baseline model, which we derive based on the important features derived in the last notebook.\n",
    "\n",
    "After this we try some standard classification and regression models. First solely on the features deemed important for the baseline model and then extent/create new features.\n",
    "\n",
    "We also use MLFlow to track our \"experiments\" and use this function to track our baseline model, as well as the machine learning models which are trained after this.\n",
    "\n",
    "As usual we start by importing relevant libraries."
   ]
  },
  {
   "cell_type": "code",
   "execution_count": 98,
   "metadata": {},
   "outputs": [],
   "source": [
    "# import libraries\n",
    "import pandas as pd\n",
    "import numpy as np\n",
    "import seaborn as sns\n",
    "import matplotlib.pyplot as plt\n",
    "import os\n",
    "import sys\n",
    "import mlflow\n",
    "\n",
    "# define the sys.path for importing the load_preprocess_data function\n",
    "sys.path.append(\"..\")\n",
    "\n",
    "# import our function for pre-processing the raw data for the selected hard drive\n",
    "from src.data.preprocessing import load_preprocess_data\n",
    "from src.data.preprocessing import train_test_splitter\n",
    "\n",
    "from datetime import datetime\n",
    "from sklearn.model_selection import train_test_split\n",
    "from sklearn.metrics import roc_auc_score, precision_score, recall_score, accuracy_score, confusion_matrix, f1_score, fbeta_score\n",
    "from sklearn.tree import DecisionTreeClassifier, DecisionTreeRegressor\n",
    "from sklearn.tree import plot_tree\n",
    "from sklearn.ensemble import RandomForestClassifier, RandomForestRegressor\n",
    "\n",
    "from sklearn.decomposition import PCA\n",
    "from sklearn.manifold import TSNE\n",
    "from sklearn.preprocessing import StandardScaler, MinMaxScaler\n",
    "\n",
    "from sklearn.linear_model import LogisticRegression\n",
    "from sklearn.model_selection import GridSearchCV, RandomizedSearchCV\n",
    "\n",
    "from xgboost import XGBClassifier\n",
    "\n",
    "import warnings\n",
    "warnings.filterwarnings('ignore')\n",
    "\n",
    "# set the plotting styel for the notebook\n",
    "plt.style.use('seaborn-white')\n",
    "# sns.set(rc={'axes.facecolor':'#fae5d2', 'figure.facecolor':'white'})\n",
    "\n",
    "# define the random seed for modelling and train-test split\n",
    "RSEED = 42"
   ]
  },
  {
   "cell_type": "code",
   "execution_count": 5,
   "metadata": {},
   "outputs": [],
   "source": [
    "# # Setup MLFlow\n",
    "# EXPERIMENT_NAME = \"guardians_of_the_memory_daniela\"\n",
    "# TRACKING_URI = open(\"../.mlflow_uri\").read().strip()"
   ]
  },
  {
   "cell_type": "code",
   "execution_count": 99,
   "metadata": {},
   "outputs": [
    {
     "data": {
      "text/plain": [
       "(462966, 42)"
      ]
     },
     "execution_count": 99,
     "metadata": {},
     "output_type": "execute_result"
    }
   ],
   "source": [
    "# use the load_preprocess_data function to pre-process the raw data and load it into a pandas data frame\n",
    "repo_path = os.getcwd()+\"/../\"\n",
    "df = load_preprocess_data(path=repo_path)\n",
    "df.shape"
   ]
  },
  {
   "cell_type": "code",
   "execution_count": 100,
   "metadata": {},
   "outputs": [],
   "source": [
    "def classification_target(cols):\n",
    "    classification = cols[0]\n",
    "    if classification <= 30:\n",
    "        return 1\n",
    "    if classification > 30:\n",
    "        return 0\n",
    "\n",
    "df['fail_30'] = df[['countdown']].apply(classification_target, axis=1)"
   ]
  },
  {
   "cell_type": "markdown",
   "metadata": {},
   "source": [
    "## Baseline Model\n",
    "\n",
    "Based on the information derived out of the EDA, we focus on the smart features 5, 183, 184 and 187 for our baseline model and leave aside other features. We especially try not to focus on time/age related features such as feature 9, 240, 241, 242, etc. in order to try to spot other \"technical indications\" of a failure.\n",
    "\n",
    "We calculate the median of those features a certain time span before the drives fail. This median serves than as the threshold four our baseline model. However, due to slightly different behavior of the features before failing, we predict that if two (out of the four) features are above the threshold the drive will fail in the given time window.\n",
    "\n",
    "Before we construct the baseline model we look again shortly into these 4 features."
   ]
  },
  {
   "cell_type": "code",
   "execution_count": 101,
   "metadata": {},
   "outputs": [],
   "source": [
    "# create a helper column containing the features we want to use for plotting\n",
    "columns = []\n",
    "\n",
    "for col in df.columns:\n",
    "    if '5' in col or '183' in col or '184' in col or '187' in col:\n",
    "        if 'raw' in col:\n",
    "            columns.append(col)"
   ]
  },
  {
   "cell_type": "code",
   "execution_count": 102,
   "metadata": {},
   "outputs": [
    {
     "data": {
      "text/html": [
       "<div>\n",
       "<style scoped>\n",
       "    .dataframe tbody tr th:only-of-type {\n",
       "        vertical-align: middle;\n",
       "    }\n",
       "\n",
       "    .dataframe tbody tr th {\n",
       "        vertical-align: top;\n",
       "    }\n",
       "\n",
       "    .dataframe thead th {\n",
       "        text-align: right;\n",
       "    }\n",
       "</style>\n",
       "<table border=\"1\" class=\"dataframe\">\n",
       "  <thead>\n",
       "    <tr style=\"text-align: right;\">\n",
       "      <th></th>\n",
       "      <th>count</th>\n",
       "      <th>mean</th>\n",
       "      <th>std</th>\n",
       "      <th>min</th>\n",
       "      <th>25%</th>\n",
       "      <th>50%</th>\n",
       "      <th>75%</th>\n",
       "      <th>max</th>\n",
       "    </tr>\n",
       "  </thead>\n",
       "  <tbody>\n",
       "    <tr>\n",
       "      <th>smart_5_raw</th>\n",
       "      <td>462966.0</td>\n",
       "      <td>126.252813</td>\n",
       "      <td>1918.915422</td>\n",
       "      <td>0.0</td>\n",
       "      <td>0.0</td>\n",
       "      <td>0.0</td>\n",
       "      <td>0.0</td>\n",
       "      <td>65488.0</td>\n",
       "    </tr>\n",
       "    <tr>\n",
       "      <th>smart_183_raw</th>\n",
       "      <td>462966.0</td>\n",
       "      <td>3.838230</td>\n",
       "      <td>29.389742</td>\n",
       "      <td>0.0</td>\n",
       "      <td>0.0</td>\n",
       "      <td>0.0</td>\n",
       "      <td>2.0</td>\n",
       "      <td>720.0</td>\n",
       "    </tr>\n",
       "    <tr>\n",
       "      <th>smart_184_raw</th>\n",
       "      <td>462966.0</td>\n",
       "      <td>0.148525</td>\n",
       "      <td>4.021683</td>\n",
       "      <td>0.0</td>\n",
       "      <td>0.0</td>\n",
       "      <td>0.0</td>\n",
       "      <td>0.0</td>\n",
       "      <td>340.0</td>\n",
       "    </tr>\n",
       "    <tr>\n",
       "      <th>smart_187_raw</th>\n",
       "      <td>462966.0</td>\n",
       "      <td>5.123342</td>\n",
       "      <td>25.932870</td>\n",
       "      <td>0.0</td>\n",
       "      <td>0.0</td>\n",
       "      <td>0.0</td>\n",
       "      <td>0.0</td>\n",
       "      <td>940.0</td>\n",
       "    </tr>\n",
       "  </tbody>\n",
       "</table>\n",
       "</div>"
      ],
      "text/plain": [
       "                  count        mean          std  min  25%  50%  75%      max\n",
       "smart_5_raw    462966.0  126.252813  1918.915422  0.0  0.0  0.0  0.0  65488.0\n",
       "smart_183_raw  462966.0    3.838230    29.389742  0.0  0.0  0.0  2.0    720.0\n",
       "smart_184_raw  462966.0    0.148525     4.021683  0.0  0.0  0.0  0.0    340.0\n",
       "smart_187_raw  462966.0    5.123342    25.932870  0.0  0.0  0.0  0.0    940.0"
      ]
     },
     "execution_count": 102,
     "metadata": {},
     "output_type": "execute_result"
    }
   ],
   "source": [
    "# call the descriptive statistics and transpose the data frame for readability\n",
    "df[columns].describe().T"
   ]
  },
  {
   "cell_type": "markdown",
   "metadata": {},
   "source": [
    "We can already see fro the descriptive statistic for these 4 features that the mean might not be the best indicator as the 25%, 50% and 75% are all 0. \n",
    "\n",
    "Thus, we next look into the median for these values when only taking the fail_30 into consideration."
   ]
  },
  {
   "cell_type": "code",
   "execution_count": 103,
   "metadata": {},
   "outputs": [
    {
     "data": {
      "text/html": [
       "<div>\n",
       "<style scoped>\n",
       "    .dataframe tbody tr th:only-of-type {\n",
       "        vertical-align: middle;\n",
       "    }\n",
       "\n",
       "    .dataframe tbody tr th {\n",
       "        vertical-align: top;\n",
       "    }\n",
       "\n",
       "    .dataframe thead th {\n",
       "        text-align: right;\n",
       "    }\n",
       "</style>\n",
       "<table border=\"1\" class=\"dataframe\">\n",
       "  <thead>\n",
       "    <tr style=\"text-align: right;\">\n",
       "      <th></th>\n",
       "      <th>count</th>\n",
       "      <th>mean</th>\n",
       "      <th>std</th>\n",
       "      <th>min</th>\n",
       "      <th>25%</th>\n",
       "      <th>50%</th>\n",
       "      <th>75%</th>\n",
       "      <th>max</th>\n",
       "    </tr>\n",
       "  </thead>\n",
       "  <tbody>\n",
       "    <tr>\n",
       "      <th>smart_5_raw</th>\n",
       "      <td>444121.0</td>\n",
       "      <td>102.880683</td>\n",
       "      <td>1732.393128</td>\n",
       "      <td>0.0</td>\n",
       "      <td>0.0</td>\n",
       "      <td>0.0</td>\n",
       "      <td>0.0</td>\n",
       "      <td>65064.0</td>\n",
       "    </tr>\n",
       "    <tr>\n",
       "      <th>smart_183_raw</th>\n",
       "      <td>444121.0</td>\n",
       "      <td>3.591753</td>\n",
       "      <td>28.318550</td>\n",
       "      <td>0.0</td>\n",
       "      <td>0.0</td>\n",
       "      <td>0.0</td>\n",
       "      <td>1.0</td>\n",
       "      <td>720.0</td>\n",
       "    </tr>\n",
       "    <tr>\n",
       "      <th>smart_184_raw</th>\n",
       "      <td>444121.0</td>\n",
       "      <td>0.070472</td>\n",
       "      <td>2.207922</td>\n",
       "      <td>0.0</td>\n",
       "      <td>0.0</td>\n",
       "      <td>0.0</td>\n",
       "      <td>0.0</td>\n",
       "      <td>180.0</td>\n",
       "    </tr>\n",
       "    <tr>\n",
       "      <th>smart_187_raw</th>\n",
       "      <td>444121.0</td>\n",
       "      <td>4.005969</td>\n",
       "      <td>20.882659</td>\n",
       "      <td>0.0</td>\n",
       "      <td>0.0</td>\n",
       "      <td>0.0</td>\n",
       "      <td>0.0</td>\n",
       "      <td>773.0</td>\n",
       "    </tr>\n",
       "  </tbody>\n",
       "</table>\n",
       "</div>"
      ],
      "text/plain": [
       "                  count        mean          std  min  25%  50%  75%      max\n",
       "smart_5_raw    444121.0  102.880683  1732.393128  0.0  0.0  0.0  0.0  65064.0\n",
       "smart_183_raw  444121.0    3.591753    28.318550  0.0  0.0  0.0  1.0    720.0\n",
       "smart_184_raw  444121.0    0.070472     2.207922  0.0  0.0  0.0  0.0    180.0\n",
       "smart_187_raw  444121.0    4.005969    20.882659  0.0  0.0  0.0  0.0    773.0"
      ]
     },
     "metadata": {},
     "output_type": "display_data"
    },
    {
     "data": {
      "text/html": [
       "<div>\n",
       "<style scoped>\n",
       "    .dataframe tbody tr th:only-of-type {\n",
       "        vertical-align: middle;\n",
       "    }\n",
       "\n",
       "    .dataframe tbody tr th {\n",
       "        vertical-align: top;\n",
       "    }\n",
       "\n",
       "    .dataframe thead th {\n",
       "        text-align: right;\n",
       "    }\n",
       "</style>\n",
       "<table border=\"1\" class=\"dataframe\">\n",
       "  <thead>\n",
       "    <tr style=\"text-align: right;\">\n",
       "      <th></th>\n",
       "      <th>count</th>\n",
       "      <th>mean</th>\n",
       "      <th>std</th>\n",
       "      <th>min</th>\n",
       "      <th>25%</th>\n",
       "      <th>50%</th>\n",
       "      <th>75%</th>\n",
       "      <th>max</th>\n",
       "    </tr>\n",
       "  </thead>\n",
       "  <tbody>\n",
       "    <tr>\n",
       "      <th>smart_5_raw</th>\n",
       "      <td>18845.0</td>\n",
       "      <td>677.064898</td>\n",
       "      <td>4406.507789</td>\n",
       "      <td>0.0</td>\n",
       "      <td>0.0</td>\n",
       "      <td>0.0</td>\n",
       "      <td>0.0</td>\n",
       "      <td>65488.0</td>\n",
       "    </tr>\n",
       "    <tr>\n",
       "      <th>smart_183_raw</th>\n",
       "      <td>18845.0</td>\n",
       "      <td>9.646962</td>\n",
       "      <td>47.807292</td>\n",
       "      <td>0.0</td>\n",
       "      <td>0.0</td>\n",
       "      <td>1.0</td>\n",
       "      <td>4.0</td>\n",
       "      <td>720.0</td>\n",
       "    </tr>\n",
       "    <tr>\n",
       "      <th>smart_184_raw</th>\n",
       "      <td>18845.0</td>\n",
       "      <td>1.988007</td>\n",
       "      <td>16.701659</td>\n",
       "      <td>0.0</td>\n",
       "      <td>0.0</td>\n",
       "      <td>0.0</td>\n",
       "      <td>0.0</td>\n",
       "      <td>340.0</td>\n",
       "    </tr>\n",
       "    <tr>\n",
       "      <th>smart_187_raw</th>\n",
       "      <td>18845.0</td>\n",
       "      <td>31.456514</td>\n",
       "      <td>74.309154</td>\n",
       "      <td>0.0</td>\n",
       "      <td>0.0</td>\n",
       "      <td>3.0</td>\n",
       "      <td>28.0</td>\n",
       "      <td>940.0</td>\n",
       "    </tr>\n",
       "  </tbody>\n",
       "</table>\n",
       "</div>"
      ],
      "text/plain": [
       "                 count        mean          std  min  25%  50%   75%      max\n",
       "smart_5_raw    18845.0  677.064898  4406.507789  0.0  0.0  0.0   0.0  65488.0\n",
       "smart_183_raw  18845.0    9.646962    47.807292  0.0  0.0  1.0   4.0    720.0\n",
       "smart_184_raw  18845.0    1.988007    16.701659  0.0  0.0  0.0   0.0    340.0\n",
       "smart_187_raw  18845.0   31.456514    74.309154  0.0  0.0  3.0  28.0    940.0"
      ]
     },
     "metadata": {},
     "output_type": "display_data"
    }
   ],
   "source": [
    "# call the descriptive statistics and transpose the data frame for readability split by fail_30\n",
    "display(df[df['fail_30'] == 0][columns].describe().T)\n",
    "display(df[df['fail_30'] == 1][columns].describe().T)"
   ]
  },
  {
   "cell_type": "code",
   "execution_count": 104,
   "metadata": {},
   "outputs": [],
   "source": [
    "plt.style.use('seaborn-white')\n",
    "\n",
    "color = '#f2aa80'\n",
    "color_threshold = '#595959'\n",
    "\n",
    "linewidth = 3\n",
    "linewidth_threshold = 2\n",
    "fontsize = 15"
   ]
  },
  {
   "cell_type": "code",
   "execution_count": 105,
   "metadata": {},
   "outputs": [
    {
     "data": {
      "image/png": "[encoded data removed]",
      "text/plain": [
       "<Figure size 864x864 with 4 Axes>"
      ]
     },
     "metadata": {},
     "output_type": "display_data"
    }
   ],
   "source": [
    "# set the time window (for classification task this is the respective cut off date)\n",
    "time_window = 30\n",
    "\n",
    "# plot the important features identified and indicate the time_window\n",
    "plt.figure(figsize=(12,12))\n",
    "for num, feat in enumerate(columns):\n",
    "    plt.subplot(4,1,num+1)\n",
    "    sns.lineplot(x=df.countdown, y=df[feat], color=color, linewidth=linewidth, estimator=np.median)\n",
    "    plt.axvline(x=time_window, c=color_threshold,linestyle='--', linewidth=linewidth_threshold)"
   ]
  },
  {
   "cell_type": "code",
   "execution_count": 106,
   "metadata": {},
   "outputs": [],
   "source": [
    "smart_features = ['smart_5_raw', 'smart_183_raw', 'smart_184_raw', 'smart_187_raw']\n",
    "feature_names = ['Reallocated Sectors Count', 'Runtime Bad Block', 'End-to-End error', 'Reported Uncorrectable Errors']\n",
    "serial_number_list = []\n",
    "\n",
    "df[smart_features] = np.log(df[smart_features]+1)\n",
    "df = df.query('countdown <= 500')"
   ]
  },
  {
   "cell_type": "code",
   "execution_count": 107,
   "metadata": {},
   "outputs": [],
   "source": [
    "# for feature in smart_features:\n",
    "#     g = sns.lineplot(x=df.countdown, y=df[feature], label=feature, ci=0, color='r')\n",
    "#     g.set_title('Important Smart Features - Development over Time', fontsize=18)\n",
    "#     g.set_ylabel('smart features', fontsize=13)\n",
    "#     g.set_xlabel('Days until drive failure', fontsize=13)\n",
    "#     g.set_xlim(-5)\n",
    "#     g.set_ylim(-0.1)\n",
    "#     g.legend()\n",
    "\n",
    "#     plt.savefig('../images/importantfeatures.png', bbox_inches = \"tight\")"
   ]
  },
  {
   "cell_type": "code",
   "execution_count": 108,
   "metadata": {},
   "outputs": [
    {
     "data": {
      "image/png": "[encoded data removed]",
      "text/plain": [
       "<Figure size 720x504 with 1 Axes>"
      ]
     },
     "metadata": {},
     "output_type": "display_data"
    }
   ],
   "source": [
    "plt.figure(figsize=(10, 7))\n",
    "\n",
    "g = sns.lineplot(x=df.countdown, y=df['smart_5_raw'], label='Reallocated sectors', color=color, ci=ci, linewidth=linewidth,  linestyle='-')\n",
    "g = sns.lineplot(x=df.countdown, y=df['smart_183_raw'], label='Runtime bad blocks', color=color, ci=ci,  linewidth=linewidth,  linestyle=':')\n",
    "g = sns.lineplot(x=df.countdown, y=df['smart_184_raw'], label='End-to-end errors', color=color, ci=ci, linewidth=linewidth,  linestyle=(0, (3, 1, 1, 1)))\n",
    "g = sns.lineplot(x=df.countdown, y=df['smart_187_raw'], label='Uncorrectable errors', color=color, ci=ci, linewidth=linewidth,  linestyle='--')\n",
    "#g.set_title('Important Smart Features - Development over Time', fontsize=20)\n",
    "g.set_ylabel('S.M.A.R.T. Features', fontsize=fontsize)\n",
    "g.set_xlabel('Days to Fail', fontsize=fontsize)\n",
    "g.set_xlim(0, 500)\n",
    "g.set_ylim(-0.1)\n",
    "g.legend(fontsize=fontsize)\n",
    "g.invert_xaxis()\n",
    "\n",
    "plt.savefig('../images/importantfeatures.png', bbox_inches = \"tight\")"
   ]
  },
  {
   "cell_type": "markdown",
   "metadata": {},
   "source": [
    "Let us look at some single examples"
   ]
  },
  {
   "cell_type": "code",
   "execution_count": 109,
   "metadata": {},
   "outputs": [
    {
     "data": {
      "text/plain": [
       "smart_5_raw      0.000000\n",
       "smart_183_raw    0.526589\n",
       "smart_184_raw    0.000000\n",
       "smart_187_raw    0.869742\n",
       "dtype: float64"
      ]
     },
     "execution_count": 109,
     "metadata": {},
     "output_type": "execute_result"
    }
   ],
   "source": [
    "# calculate the threshold based on the full data set\n",
    "threshold = df[df['fail_30'] == 1][smart_features].median()\n",
    "threshold = np.log(threshold+1)\n",
    "threshold"
   ]
  },
  {
   "cell_type": "code",
   "execution_count": 110,
   "metadata": {},
   "outputs": [
    {
     "data": {
      "image/png": "[encoded data removed]",
      "text/plain": [
       "<Figure size 432x288 with 1 Axes>"
      ]
     },
     "metadata": {},
     "output_type": "display_data"
    }
   ],
   "source": [
    "serial = df.sample(1)['serial_number'].to_list()[0]\n",
    "serial_number_list.append(serial)\n",
    "data = df[df['serial_number'] == 'S300ZAXR']\n",
    "\n",
    "# scaler = MinMaxScaler()\n",
    "# data[smart_features] = scaler.fit_transform(data[smart_features])\n",
    "\n",
    "data[smart_features] = np.log(data[smart_features]+1)\n",
    "\n",
    "# counter = 0\n",
    "\n",
    "# fig, ax = plt.subplots(2,2, figsize=(16,8))\n",
    "\n",
    "# for index, feature in enumerate(smart_features):\n",
    "#     sns.lineplot(x=data.countdown, y=data[feature], color=color, linewidth=linewidth, ax=ax[counter,(index % 2)])\n",
    "#     #ax[counter,(index % 2)].set_title(feature_names[index], fontsize=18)\n",
    "#     ax[counter,(index % 2)].set_ylabel(feature_names[index], fontsize=fontsize)\n",
    "#     ax[counter,(index % 2)].set_xlabel('Days until drive failure', fontsize=fontsize)\n",
    "#     ax[counter,(index % 2)].axhline(y=threshold[feature], c='#595959',linestyle='--', linewidth=2)\n",
    "#     ax[counter,(index % 2)].set_xlim(-25)\n",
    "#     ax[counter,(index % 2)].set_ylim(-1, 2)\n",
    "#     ax[counter,(index % 2)].invert_xaxis()\n",
    "\n",
    "#     if index == 1 or index == 3:\n",
    "#         counter += 1\n",
    "\n",
    "\n",
    "# plt.savefig('../images/baselinefeatures.png', bbox_inches = \"tight\")\n",
    "\n",
    "\n",
    "g = sns.lineplot(x=data.countdown, y=data['smart_5_raw'], label='Reallocated sectors', color=color, ci=ci, linewidth=linewidth,  linestyle='-')\n",
    "#g.axhline(y=threshold['smart_5_raw'], c=color_threshold,linestyle='-', linewidth=linewidth_threshold)\n",
    "\n",
    "g = sns.lineplot(x=data.countdown, y=data['smart_183_raw'], label='Runtime bad blocks', color=color, ci=ci,  linewidth=linewidth,  linestyle=':')\n",
    "#g.axhline(y=threshold['smart_183_raw'], c=color_threshold,linestyle=':', linewidth=linewidth_threshold)\n",
    "\n",
    "g = sns.lineplot(x=data.countdown, y=data['smart_184_raw'], label='End-to-end errors', color=color, ci=ci, linewidth=linewidth,  linestyle=(0, (3, 1, 1, 1)))\n",
    "#g.axhline(y=threshold['smart_184_raw'], c=color_threshold,linestyle=(0, (3, 1, 1, 1)), linewidth=linewidth_threshold)\n",
    "\n",
    "g = sns.lineplot(x=data.countdown, y=data['smart_187_raw'], label='Uncorrectable errors', color=color, ci=ci, linewidth=linewidth,  linestyle='--')\n",
    "#g.axhline(y=threshold['smart_187_raw'], c=color_threshold,linestyle='--', linewidth=linewidth_threshold)\n",
    "\n",
    "g.axhline(y=0.52, c=color_threshold, linestyle='--', linewidth=linewidth_threshold)\n",
    "\n",
    "# g.set_title('Important Smart Features - Development over Time', fontsize=20)\n",
    "g.set_ylabel('S.M.A.R.T. Features', fontsize=fontsize)\n",
    "g.set_xlabel('Days to Fail', fontsize=fontsize)\n",
    "g.set_xlim(0, 100)\n",
    "g.set_ylim(-0.1)\n",
    "g.legend(fontsize=fontsize)\n",
    "g.invert_xaxis()\n",
    "\n",
    "plt.savefig('../images/baselinefeatures.png', bbox_inches = \"tight\")"
   ]
  },
  {
   "cell_type": "markdown",
   "metadata": {},
   "source": [
    "Smart_183_raw and smart_187_raw seem to be very good indicators. smart_5_raw and smart_184_raw are also good indicators (check mean plots), but only for a small fraction of HDDs.\n",
    "\n",
    "Towards large values of days_to_fail, we observe some fluctuations. The come from the fact, that we have only very limited statistics available. The number of HDDs in the dataset decreases as a function of days_to_fail, since a rather constant fail rate \"takes them out day by day\". This can be seen in the following lineplot."
   ]
  },
  {
   "cell_type": "code",
   "execution_count": 111,
   "metadata": {},
   "outputs": [
    {
     "data": {
      "image/png": "[encoded data removed]",
      "text/plain": [
       "<Figure size 1152x576 with 1 Axes>"
      ]
     },
     "metadata": {},
     "output_type": "display_data"
    }
   ],
   "source": [
    "# plot the number of hdds drives over the countdown target\n",
    "plt.figure(figsize=(16,8))\n",
    "\n",
    "sns.lineplot(data=df.groupby(\"countdown\").count().date, color=color, linewidth=linewidth)\n",
    "\n",
    "plt.ylabel(\"number of HDDs\");"
   ]
  },
  {
   "cell_type": "markdown",
   "metadata": {},
   "source": [
    "### Train-Test Split\n",
    "\n",
    "For the first baseline model we take a generic train test split, where we only use stratify to assure that we are having the same proportion of failure and not failure data within both data sets."
   ]
  },
  {
   "cell_type": "code",
   "execution_count": 18,
   "metadata": {},
   "outputs": [
    {
     "name": "stdout",
     "output_type": "stream",
     "text": [
      "X_train: (222513, 4)\n",
      "X_test: (74171, 4)\n",
      "y_train: (222513,)\n",
      "y_test: (74171,)\n"
     ]
    }
   ],
   "source": [
    "# split the data into features and target\n",
    "X = df[columns]\n",
    "y = df.fail_30\n",
    "\n",
    "# split the data into train and test data\n",
    "X_train, X_test, y_train, y_test = train_test_split(X, y, random_state=RSEED, stratify=y)\n",
    "\n",
    "print(f'X_train: {X_train.shape}')\n",
    "print(f'X_test: {X_test.shape}')\n",
    "print(f'y_train: {y_train.shape}')\n",
    "print(f'y_test: {y_test.shape}')\n",
    "\n",
    "# set the data_split approach for MLFlow communication\n",
    "data_split = 'stratify on y'"
   ]
  },
  {
   "cell_type": "code",
   "execution_count": 19,
   "metadata": {},
   "outputs": [
    {
     "data": {
      "text/plain": [
       "smart_5_raw      0.000000\n",
       "smart_183_raw    0.693147\n",
       "smart_184_raw    0.000000\n",
       "smart_187_raw    1.386294\n",
       "dtype: float64"
      ]
     },
     "execution_count": 19,
     "metadata": {},
     "output_type": "execute_result"
    }
   ],
   "source": [
    "# calculate the threshold based on the train data set\n",
    "df_train = pd.concat([X_train, pd.Series(y_train, name='fail_30')], axis=1)\n",
    "threshold = df_train[df_train['fail_30'] == 1][columns].median()\n",
    "threshold"
   ]
  },
  {
   "cell_type": "code",
   "execution_count": 20,
   "metadata": {},
   "outputs": [],
   "source": [
    "# # set up MLFlow\n",
    "# mlflow.set_tracking_uri(TRACKING_URI)\n",
    "# mlflow.set_experiment(EXPERIMENT_NAME)\n",
    "\n",
    "# name = \"baseline_model\"\n",
    "\n",
    "# # activate MLFlow\n",
    "# mlflow.start_run(run_name=name)\n",
    "# run = mlflow.active_run()\n",
    "\n",
    "# # print run_id\n",
    "# print(\"Active run_id: {}\".format(run.info.run_id))"
   ]
  },
  {
   "cell_type": "code",
   "execution_count": 21,
   "metadata": {},
   "outputs": [],
   "source": [
    "# set threshold for the baseline model\n",
    "num_above_threshold = 2\n",
    "\n",
    "# use the thresholds to calculate the predicted values for the train and test set\n",
    "y_train_pred = (X_train > threshold).sum(axis=1) > (num_above_threshold-1)\n",
    "y_test_pred = (X_test > threshold).sum(axis=1) > (num_above_threshold-1)"
   ]
  },
  {
   "cell_type": "markdown",
   "metadata": {},
   "source": [
    "#### Baseline Model Performance\n",
    "\n",
    "With this we have now created our first baseline model and in the next part we use the specified metric to look into the model performance.\n",
    "\n",
    "While we decided on the F2 score (with a higher focus on precision), we still check the different metrics like accuracy, recall and precision, as well as the confusion matrix do understand model performance\n",
    "\n",
    "#### Splitting the data\n",
    "\n",
    "As we are working with sequential data another approach for the train test split is to divide the data alongside the serial_numbers. This way we can assure that we do not split the serial_numbers into the train and test split and does interrupt the sequential data.  \n",
    "\n",
    "##### Train Set Evaluation"
   ]
  },
  {
   "cell_type": "code",
   "execution_count": 22,
   "metadata": {},
   "outputs": [],
   "source": [
    "# create a helper column containing the features we want to use for plotting\n",
    "columns = ['serial_number']\n",
    "\n",
    "for col in df.columns:\n",
    "    if '5' in col or '183' in col or '184' in col or '187' in col:\n",
    "        if 'raw' in col:\n",
    "            columns.append(col)"
   ]
  },
  {
   "cell_type": "code",
   "execution_count": 23,
   "metadata": {},
   "outputs": [
    {
     "name": "stdout",
     "output_type": "stream",
     "text": [
      "X_train: (207998, 5)\n",
      "X_test: (88686, 5)\n",
      "y_train: (207998,)\n",
      "y_test: (88686,)\n"
     ]
    }
   ],
   "source": [
    "# split the data into features and target\n",
    "X = df[columns]\n",
    "y = df.fail_30\n",
    "\n",
    "# split the data into train and test data\n",
    "X_train, X_test, y_train, y_test = train_test_splitter(X, y, random_state=42)\n",
    "\n",
    "print(f'X_train: {X_train.shape}')\n",
    "print(f'X_test: {X_test.shape}')\n",
    "print(f'y_train: {y_train.shape}')\n",
    "print(f'y_test: {y_test.shape}')"
   ]
  },
  {
   "cell_type": "markdown",
   "metadata": {},
   "source": [
    "#### Setting up the MLFlow connection\n",
    "\n",
    "Next we again set up the MLFlow for the second baseline model. We use the same hyperparameter, but choose a different train test split, so we also track this with a separate parameter."
   ]
  },
  {
   "cell_type": "code",
   "execution_count": 24,
   "metadata": {},
   "outputs": [],
   "source": [
    "# # setting the MLFlow connection and experiment\n",
    "# mlflow.set_tracking_uri(TRACKING_URI)\n",
    "# mlflow.set_experiment(EXPERIMENT_NAME)\n",
    "\n",
    "# # define the run name \n",
    "# name = \"baseline_model\"\n",
    "\n",
    "# # start MLFlow \n",
    "# mlflow.start_run(run_name=name)\n",
    "# run = mlflow.active_run()\n",
    "\n",
    "# # print the run_id\n",
    "# print(\"Active run_id: {}\".format(run.info.run_id))"
   ]
  },
  {
   "cell_type": "markdown",
   "metadata": {},
   "source": [
    "#### Calculating the baseline model"
   ]
  },
  {
   "cell_type": "code",
   "execution_count": 25,
   "metadata": {},
   "outputs": [],
   "source": [
    "# set threshold for the baseline model\n",
    "num_above_threshold = 2\n",
    "\n",
    "# use the thresholds to calculate the predicted values for the train and test set\n",
    "y_train_pred = (X_train > threshold).sum(axis=1) > (num_above_threshold-1)\n",
    "y_test_pred = (X_test > threshold).sum(axis=1) > (num_above_threshold-1)"
   ]
  },
  {
   "cell_type": "markdown",
   "metadata": {},
   "source": [
    "#### Baseline Model Performance\n",
    "\n",
    "##### Train Set Evaluation"
   ]
  },
  {
   "cell_type": "code",
   "execution_count": 26,
   "metadata": {},
   "outputs": [
    {
     "name": "stdout",
     "output_type": "stream",
     "text": [
      "Train - F2 score : 0.33\n",
      "Train - ROC AUC  : 0.64\n",
      "Train - Recall   : 0.42\n",
      "Train - Accuracy : 0.84\n"
     ]
    },
    {
     "data": {
      "image/png": "[encoded data removed]",
      "text/plain": [
       "<Figure size 432x288 with 2 Axes>"
      ]
     },
     "metadata": {},
     "output_type": "display_data"
    }
   ],
   "source": [
    "# calculate the training values and save them in the respective variables\n",
    "fbeta_train = fbeta_score(y_train, y_train_pred, beta=2).round(2)\n",
    "auc_train = roc_auc_score(y_train, y_train_pred).round(2)\n",
    "recall_train = recall_score(y_train, y_train_pred).round(2)\n",
    "accuracy_train = accuracy_score(y_train, y_train_pred).round(2)\n",
    "\n",
    "# print the training scores\n",
    "print(\"Train - F2 score :\", fbeta_train)\n",
    "print(\"Train - ROC AUC  :\", auc_train)\n",
    "print(\"Train - Recall   :\", recall_train)\n",
    "print(\"Train - Accuracy :\", accuracy_train)\n",
    "\n",
    "# create the confusion matrix\n",
    "confusion_matrix(y_train, y_train_pred)\n",
    "\n",
    "# plot the confusion matrix using seaborn\n",
    "cm = confusion_matrix(y_train, y_train_pred)\n",
    "sns.heatmap(cm, annot=True, fmt='d', linewidths=.5);"
   ]
  },
  {
   "cell_type": "markdown",
   "metadata": {},
   "source": [
    "##### Test Set Evaluation"
   ]
  },
  {
   "cell_type": "code",
   "execution_count": 27,
   "metadata": {},
   "outputs": [
    {
     "name": "stdout",
     "output_type": "stream",
     "text": [
      "Test - F2 score : 0.29\n",
      "Test - ROC AUC  : 0.62\n",
      "Test - Recall   : 0.41\n",
      "Test - Accuracy   : 0.79\n"
     ]
    },
    {
     "data": {
      "image/png": "[encoded data removed]",
      "text/plain": [
       "<Figure size 432x288 with 2 Axes>"
      ]
     },
     "metadata": {},
     "output_type": "display_data"
    }
   ],
   "source": [
    "# calculate the test values and save them in the respective variables\n",
    "fbeta_test = fbeta_score(y_test, y_test_pred, beta=2).round(2)\n",
    "auc_test = roc_auc_score(y_test, y_test_pred).round(2)\n",
    "recall_test = recall_score(y_test, y_test_pred).round(2)\n",
    "accuracy_test = accuracy_score(y_test, y_test_pred).round(2)\n",
    "\n",
    "# print the test scores\n",
    "print(\"Test - F2 score :\", fbeta_test)\n",
    "print(\"Test - ROC AUC  :\", auc_test)\n",
    "print(\"Test - Recall   :\", recall_test)\n",
    "print(\"Test - Accuracy   :\", accuracy_test)\n",
    "\n",
    "# create the confusion matrix\n",
    "confusion_matrix(y_test, y_test_pred)\n",
    "\n",
    "# plot the confusion matrix using seaborn\n",
    "cm = confusion_matrix(y_test, y_test_pred)\n",
    "sns.heatmap(cm, annot=True, fmt='d', linewidths=.5);"
   ]
  },
  {
   "cell_type": "code",
   "execution_count": 115,
   "metadata": {},
   "outputs": [
    {
     "data": {
      "image/png": "[encoded data removed]",
      "text/plain": [
       "<Figure size 432x288 with 1 Axes>"
      ]
     },
     "metadata": {},
     "output_type": "display_data"
    }
   ],
   "source": [
    "from sklearn.metrics import roc_curve\n",
    "\n",
    "color_2 = '#327343'\n",
    "\n",
    "fpr, tpr, _ = roc_curve(y_test, y_test_pred)\n",
    "base = np.linspace(0,1,100)\n",
    "sns.lineplot(fpr, tpr, color=color, linewidth=linewidth,)\n",
    "sns.lineplot(base, base, color=color_2, linewidth=linewidth)\n",
    "plt.xlabel(\"False Positive Rate\")\n",
    "plt.ylabel(\"True Positive Rate\")\n",
    "plt.legend([\"Baseline Model\", \"No Failure\"]);"
   ]
  },
  {
   "cell_type": "markdown",
   "metadata": {},
   "source": [
    "#### Logging the baseline model performance on MLFlow"
   ]
  },
  {
   "cell_type": "code",
   "execution_count": 29,
   "metadata": {},
   "outputs": [],
   "source": [
    "# # Logging on MLFlow\n",
    "# params = {\n",
    "#       \"thresholds\": threshold,\n",
    "#       \"time_to_fail\": time_window,\n",
    "#       \"features_above_threshold\": num_above_threshold,\n",
    "#       \"data_split\": data_split\n",
    "#   }"
   ]
  },
  {
   "cell_type": "code",
   "execution_count": 30,
   "metadata": {},
   "outputs": [],
   "source": [
    "# #logging params to mlflow\n",
    "# mlflow.log_params(params)\n",
    "\n",
    "# #setting tags\n",
    "# mlflow.set_tag(\"running_from_jupyter\", \"True\")\n",
    "# mlflow.set_tag(\"model\", \"Baseline\")\n",
    "\n",
    "# #logging metrics\n",
    "# mlflow.log_metric(\"train_\" + \"f-2 score\", fbeta_train)\n",
    "# mlflow.log_metric(\"test_\" + \"f-2 score\", fbeta_test)\n",
    "\n",
    "# # logging the model to mlflow will not work without a AWS Connection setup.. too complex for now\n",
    "# # but possible if running mlflow locally\n",
    "# # mlflow.log_artifact(\"../models\")\n",
    "# # mlflow.sklearn.log_model(reg, \"model\")\n",
    "\n",
    "# mlflow.end_run()"
   ]
  },
  {
   "cell_type": "markdown",
   "metadata": {},
   "source": [
    "The two baseline models were used to identify if the split based on stratify is enough or if we can achieve higher results based on avoiding splits of the serial numbers. As both approaches deem the same result, we continue splitting the data solely on the 'stratify=y' approach."
   ]
  },
  {
   "cell_type": "markdown",
   "metadata": {},
   "source": [
    "## DecisionTreeClassifier\n",
    "\n",
    "After designing our baseline model, we train a model using similar features (5, 183, 184, 187) and feed a decision tree and a random forest with this data.\n",
    "\n",
    "Based on this outcome we look into other relevant columns, potential feature engineering, etc.\n",
    "\n",
    "While we already have a train test split in place that would fullfil the requirements, we create a new train test split using the normal stratify parameter."
   ]
  },
  {
   "cell_type": "code",
   "execution_count": 31,
   "metadata": {},
   "outputs": [
    {
     "name": "stdout",
     "output_type": "stream",
     "text": [
      "X_train: (207998, 4)\n",
      "X_test: (88686, 4)\n",
      "y_train: (207998,)\n",
      "y_test: (88686,)\n"
     ]
    }
   ],
   "source": [
    "# split the data into features and target\n",
    "X = df[columns]\n",
    "y = df.fail_30\n",
    "\n",
    "# split the data into train and test data\n",
    "X_train, X_test, y_train, y_test = train_test_splitter(X, y, random_state=42)\n",
    "\n",
    "X_train.drop('serial_number', axis=1, inplace=True)\n",
    "X_test.drop('serial_number', axis=1, inplace=True)\n",
    "\n",
    "print(f'X_train: {X_train.shape}')\n",
    "print(f'X_test: {X_test.shape}')\n",
    "print(f'y_train: {y_train.shape}')\n",
    "print(f'y_test: {y_test.shape}')"
   ]
  },
  {
   "cell_type": "code",
   "execution_count": 32,
   "metadata": {},
   "outputs": [
    {
     "data": {
      "text/plain": [
       "DecisionTreeClassifier(min_samples_leaf=20, random_state=42)"
      ]
     },
     "execution_count": 32,
     "metadata": {},
     "output_type": "execute_result"
    }
   ],
   "source": [
    "# instantiating the tree classifier and training it on the train data\n",
    "tree = DecisionTreeClassifier(min_samples_leaf=20, random_state=42)\n",
    "tree.fit(X_train, y_train)"
   ]
  },
  {
   "cell_type": "code",
   "execution_count": 33,
   "metadata": {},
   "outputs": [
    {
     "name": "stdout",
     "output_type": "stream",
     "text": [
      "Scores:\n",
      "-------------------------\n",
      "ROC-AUC : 0.5632\n",
      "Accuracy : 0.9116\n",
      "Recall   : 0.1642\n",
      "Precision: 0.2284\n",
      "F1 Score: 0.1910\n",
      "F2 Score : 0.1739\n"
     ]
    },
    {
     "data": {
      "image/png": "[encoded data removed]",
      "text/plain": [
       "<Figure size 432x288 with 2 Axes>"
      ]
     },
     "metadata": {},
     "output_type": "display_data"
    }
   ],
   "source": [
    "# create the predictions using the previously trained model\n",
    "y_test_pred = tree.predict(X_test)\n",
    "\n",
    "# calculate the different metrics for the model\n",
    "print('Scores:')\n",
    "print('-------------------------')\n",
    "print(\"ROC-AUC : {:.4f}\".format(roc_auc_score(y_test, y_test_pred)))\n",
    "print(\"Accuracy : {:.4f}\".format(accuracy_score(y_test, y_test_pred)))\n",
    "print(\"Recall   : {:.4f}\".format(recall_score(y_test, y_test_pred)))\n",
    "print(\"Precision: {:.4f}\".format(precision_score(y_test, y_test_pred)))\n",
    "print(\"F1 Score: {:.4f}\".format(f1_score(y_test, y_test_pred)))\n",
    "print(\"F2 Score : {:.4f}\".format(fbeta_score(y_test, y_test_pred, beta=2)))\n",
    "\n",
    "# create the confusion matrix\n",
    "confusion_matrix(y_test, y_test_pred)\n",
    "\n",
    "# plot the confusion matrix\n",
    "cm = confusion_matrix(y_test, y_test_pred)\n",
    "sns.heatmap(cm, annot=True, fmt='d', linewidths=.5);"
   ]
  },
  {
   "cell_type": "markdown",
   "metadata": {},
   "source": [
    "The simple decision tree with only the four features 5, 183,184, 187 without any additional hyperparameter tuning performs not as good as our baseline model. \n",
    "\n",
    "Still it might give valuable information to look into the feature importance, to understand which features had a higher relevance for splitting the nodes.\n",
    "\n",
    "### Feature Importance"
   ]
  },
  {
   "cell_type": "code",
   "execution_count": 34,
   "metadata": {},
   "outputs": [
    {
     "data": {
      "image/png": "[encoded data removed]",
      "text/plain": [
       "<Figure size 864x864 with 1 Axes>"
      ]
     },
     "metadata": {},
     "output_type": "display_data"
    }
   ],
   "source": [
    "# plot feature importance\n",
    "feature_importance = tree.feature_importances_\n",
    "\n",
    "# make importances relative to max importance\n",
    "feature_importance = 100.0 * (feature_importance / feature_importance.max())\n",
    "sorted_idx = np.argsort(feature_importance)\n",
    "pos = np.arange(sorted_idx.shape[0]) + .5\n",
    "\n",
    "plt.figure(figsize=(12,12))\n",
    "plt.barh(pos, feature_importance[sorted_idx], align='center')\n",
    "plt.yticks(pos, X_train.columns[sorted_idx])#boston.feature_names[sorted_idx])\n",
    "plt.xlabel('Relative Importance')\n",
    "plt.title('Variable Importance')\n",
    "plt.show()"
   ]
  },
  {
   "cell_type": "markdown",
   "metadata": {},
   "source": [
    "The simple tree puts the highest importance on the 187 feature. Let us look into the random forest to understand if the other classifier also puts the same importance on these four features."
   ]
  },
  {
   "cell_type": "markdown",
   "metadata": {},
   "source": [
    "## RandomForestClassifier\n",
    "\n",
    "Next we try a generic Random Forest Classifier and see how well this machine learning algorithm handles the data and see how well it performs in comparison to the baseline model and the single decision tree.\n",
    "\n",
    "As we already have a train test split created for the decision tree, we will use the same train test split and still limit ourselves to the four features selected (5, 183, 184, 187)."
   ]
  },
  {
   "cell_type": "code",
   "execution_count": 35,
   "metadata": {},
   "outputs": [
    {
     "data": {
      "text/html": [
       "<div>\n",
       "<style scoped>\n",
       "    .dataframe tbody tr th:only-of-type {\n",
       "        vertical-align: middle;\n",
       "    }\n",
       "\n",
       "    .dataframe tbody tr th {\n",
       "        vertical-align: top;\n",
       "    }\n",
       "\n",
       "    .dataframe thead th {\n",
       "        text-align: right;\n",
       "    }\n",
       "</style>\n",
       "<table border=\"1\" class=\"dataframe\">\n",
       "  <thead>\n",
       "    <tr style=\"text-align: right;\">\n",
       "      <th></th>\n",
       "      <th>smart_5_raw</th>\n",
       "      <th>smart_183_raw</th>\n",
       "      <th>smart_184_raw</th>\n",
       "      <th>smart_187_raw</th>\n",
       "    </tr>\n",
       "  </thead>\n",
       "  <tbody>\n",
       "    <tr>\n",
       "      <th>1</th>\n",
       "      <td>0.0</td>\n",
       "      <td>1.791759</td>\n",
       "      <td>0.0</td>\n",
       "      <td>1.791759</td>\n",
       "    </tr>\n",
       "    <tr>\n",
       "      <th>3</th>\n",
       "      <td>0.0</td>\n",
       "      <td>0.000000</td>\n",
       "      <td>0.0</td>\n",
       "      <td>0.000000</td>\n",
       "    </tr>\n",
       "    <tr>\n",
       "      <th>4</th>\n",
       "      <td>0.0</td>\n",
       "      <td>1.098612</td>\n",
       "      <td>0.0</td>\n",
       "      <td>0.000000</td>\n",
       "    </tr>\n",
       "    <tr>\n",
       "      <th>5</th>\n",
       "      <td>0.0</td>\n",
       "      <td>1.386294</td>\n",
       "      <td>0.0</td>\n",
       "      <td>2.708050</td>\n",
       "    </tr>\n",
       "    <tr>\n",
       "      <th>7</th>\n",
       "      <td>0.0</td>\n",
       "      <td>1.098612</td>\n",
       "      <td>0.0</td>\n",
       "      <td>2.564949</td>\n",
       "    </tr>\n",
       "  </tbody>\n",
       "</table>\n",
       "</div>"
      ],
      "text/plain": [
       "   smart_5_raw  smart_183_raw  smart_184_raw  smart_187_raw\n",
       "1          0.0       1.791759            0.0       1.791759\n",
       "3          0.0       0.000000            0.0       0.000000\n",
       "4          0.0       1.098612            0.0       0.000000\n",
       "5          0.0       1.386294            0.0       2.708050\n",
       "7          0.0       1.098612            0.0       2.564949"
      ]
     },
     "execution_count": 35,
     "metadata": {},
     "output_type": "execute_result"
    }
   ],
   "source": [
    "# check on the training data to make sure that we have the correct features selected\n",
    "X_train.head()"
   ]
  },
  {
   "cell_type": "code",
   "execution_count": 36,
   "metadata": {},
   "outputs": [
    {
     "name": "stdout",
     "output_type": "stream",
     "text": [
      "Scores:\n",
      "-------------------------\n",
      "ROC-AUC : 0.5741\n",
      "Accuracy : 0.8904\n",
      "Recall   : 0.2117\n",
      "Precision: 0.1845\n",
      "F1 Score: 0.1972\n",
      "F2 Score : 0.2056\n"
     ]
    },
    {
     "data": {
      "image/png": "[encoded data removed]",
      "text/plain": [
       "<Figure size 432x288 with 2 Axes>"
      ]
     },
     "metadata": {},
     "output_type": "display_data"
    }
   ],
   "source": [
    "from sklearn.ensemble import RandomForestClassifier\n",
    "\n",
    "# instantiate and train the model\n",
    "forest = RandomForestClassifier(random_state=42)\n",
    "forest.fit(X_train, y_train)\n",
    "\n",
    "# predict the target variable using the trained model\n",
    "y_test_pred = forest.predict(X_test)\n",
    "\n",
    "# calculate the different metrics for the model\n",
    "print('Scores:')\n",
    "print('-------------------------')\n",
    "print(\"ROC-AUC : {:.4f}\".format(roc_auc_score(y_test, y_test_pred)))\n",
    "print(\"Accuracy : {:.4f}\".format(accuracy_score(y_test, y_test_pred)))\n",
    "print(\"Recall   : {:.4f}\".format(recall_score(y_test, y_test_pred)))\n",
    "print(\"Precision: {:.4f}\".format(precision_score(y_test, y_test_pred)))\n",
    "print(\"F1 Score: {:.4f}\".format(f1_score(y_test, y_test_pred)))\n",
    "print(\"F2 Score : {:.4f}\".format(fbeta_score(y_test, y_test_pred, beta=2)))\n",
    "\n",
    "# create the confusion matrix\n",
    "confusion_matrix(y_test, y_test_pred)\n",
    "\n",
    "# plot the confusion matrix\n",
    "cm = confusion_matrix(y_test, y_test_pred)\n",
    "sns.heatmap(cm, annot=True, fmt='d', linewidths=.5);"
   ]
  },
  {
   "cell_type": "markdown",
   "metadata": {},
   "source": [
    "Next we look at the feature importance for the Random Forest Classifier.\n",
    "\n",
    "#### Feature Importance"
   ]
  },
  {
   "cell_type": "code",
   "execution_count": 37,
   "metadata": {},
   "outputs": [
    {
     "data": {
      "image/png": "[encoded data removed]",
      "text/plain": [
       "<Figure size 864x864 with 1 Axes>"
      ]
     },
     "metadata": {},
     "output_type": "display_data"
    }
   ],
   "source": [
    "# Plot feature importance\n",
    "feature_importance = forest.feature_importances_\n",
    "\n",
    "# make importances relative to max importance\n",
    "feature_importance = 100.0 * (feature_importance / feature_importance.max())\n",
    "sorted_idx = np.argsort(feature_importance)\n",
    "pos = np.arange(sorted_idx.shape[0]) + .5\n",
    "\n",
    "plt.figure(figsize=(12,12))\n",
    "plt.barh(pos, feature_importance[sorted_idx], align='center')\n",
    "plt.yticks(pos, X_train.columns[sorted_idx])#boston.feature_names[sorted_idx])\n",
    "plt.xlabel('Relative Importance')\n",
    "plt.title('Variable Importance')\n",
    "plt.show()"
   ]
  },
  {
   "cell_type": "markdown",
   "metadata": {},
   "source": [
    "## Upgrading our Tree Based Model - XGBoost"
   ]
  },
  {
   "cell_type": "code",
   "execution_count": 38,
   "metadata": {},
   "outputs": [
    {
     "data": {
      "text/html": [
       "<div>\n",
       "<style scoped>\n",
       "    .dataframe tbody tr th:only-of-type {\n",
       "        vertical-align: middle;\n",
       "    }\n",
       "\n",
       "    .dataframe tbody tr th {\n",
       "        vertical-align: top;\n",
       "    }\n",
       "\n",
       "    .dataframe thead th {\n",
       "        text-align: right;\n",
       "    }\n",
       "</style>\n",
       "<table border=\"1\" class=\"dataframe\">\n",
       "  <thead>\n",
       "    <tr style=\"text-align: right;\">\n",
       "      <th></th>\n",
       "      <th>smart_5_raw</th>\n",
       "      <th>smart_183_raw</th>\n",
       "      <th>smart_184_raw</th>\n",
       "      <th>smart_187_raw</th>\n",
       "    </tr>\n",
       "  </thead>\n",
       "  <tbody>\n",
       "    <tr>\n",
       "      <th>1</th>\n",
       "      <td>0.0</td>\n",
       "      <td>1.791759</td>\n",
       "      <td>0.0</td>\n",
       "      <td>1.791759</td>\n",
       "    </tr>\n",
       "    <tr>\n",
       "      <th>3</th>\n",
       "      <td>0.0</td>\n",
       "      <td>0.000000</td>\n",
       "      <td>0.0</td>\n",
       "      <td>0.000000</td>\n",
       "    </tr>\n",
       "    <tr>\n",
       "      <th>4</th>\n",
       "      <td>0.0</td>\n",
       "      <td>1.098612</td>\n",
       "      <td>0.0</td>\n",
       "      <td>0.000000</td>\n",
       "    </tr>\n",
       "    <tr>\n",
       "      <th>5</th>\n",
       "      <td>0.0</td>\n",
       "      <td>1.386294</td>\n",
       "      <td>0.0</td>\n",
       "      <td>2.708050</td>\n",
       "    </tr>\n",
       "    <tr>\n",
       "      <th>7</th>\n",
       "      <td>0.0</td>\n",
       "      <td>1.098612</td>\n",
       "      <td>0.0</td>\n",
       "      <td>2.564949</td>\n",
       "    </tr>\n",
       "  </tbody>\n",
       "</table>\n",
       "</div>"
      ],
      "text/plain": [
       "   smart_5_raw  smart_183_raw  smart_184_raw  smart_187_raw\n",
       "1          0.0       1.791759            0.0       1.791759\n",
       "3          0.0       0.000000            0.0       0.000000\n",
       "4          0.0       1.098612            0.0       0.000000\n",
       "5          0.0       1.386294            0.0       2.708050\n",
       "7          0.0       1.098612            0.0       2.564949"
      ]
     },
     "execution_count": 38,
     "metadata": {},
     "output_type": "execute_result"
    }
   ],
   "source": [
    "# check on the training data to make sure that we have the correct features selected\n",
    "X_train.head()"
   ]
  },
  {
   "cell_type": "code",
   "execution_count": 39,
   "metadata": {},
   "outputs": [
    {
     "name": "stdout",
     "output_type": "stream",
     "text": [
      "[10:37:19] WARNING: /private/var/folders/4y/dlsvl9zd1blcnj6j3_tsc0j00000gn/T/pip-install-yrved5qh/xgboost_b33a4a38e5e54893acac00c429e943b9/build/temp.macosx-12.1-arm64-3.9/xgboost/src/learner.cc:1115: Starting in XGBoost 1.3.0, the default evaluation metric used with the objective 'binary:logistic' was changed from 'error' to 'logloss'. Explicitly set eval_metric if you'd like to restore the old behavior.\n",
      "Scores:\n",
      "-------------------------\n",
      "ROC-AUC : 0.5696\n",
      "Accuracy : 0.9119\n",
      "Recall   : 0.1775\n",
      "Precision: 0.2399\n",
      "F2 Score : 0.1872\n"
     ]
    },
    {
     "data": {
      "image/png": "[encoded data removed]",
      "text/plain": [
       "<Figure size 432x288 with 2 Axes>"
      ]
     },
     "metadata": {},
     "output_type": "display_data"
    }
   ],
   "source": [
    "clf = XGBClassifier()\n",
    "clf.fit(X_train, y_train)\n",
    "\n",
    "# predict the target variable using the trained model\n",
    "y_test_pred = clf.predict(X_test)\n",
    "\n",
    "# calculate the different metrics for the model\n",
    "print('Scores:')\n",
    "print('-------------------------')\n",
    "print(\"ROC-AUC : {:.4f}\".format(roc_auc_score(y_test, y_test_pred)))\n",
    "print(\"Accuracy : {:.4f}\".format(accuracy_score(y_test, y_test_pred)))\n",
    "print(\"Recall   : {:.4f}\".format(recall_score(y_test, y_test_pred)))\n",
    "print(\"Precision: {:.4f}\".format(precision_score(y_test, y_test_pred)))\n",
    "print(\"F2 Score : {:.4f}\".format(fbeta_score(y_test, y_test_pred, beta=2)))\n",
    "\n",
    "# create the confusion matrix\n",
    "confusion_matrix(y_test, y_test_pred)\n",
    "\n",
    "# plot the confusion matrix\n",
    "cm = confusion_matrix(y_test, y_test_pred)\n",
    "sns.heatmap(cm, annot=True, fmt='d', linewidths=.5);"
   ]
  },
  {
   "cell_type": "markdown",
   "metadata": {},
   "source": [
    "While both models put the highest emphasize on the smart_187_raw feature. The second and third feature have a different order for the decision tree and random forest. Random Forest puts a higher importance on the smart_5_raw while in comparison treats the smart_183_raw as a more important feature.\n",
    "\n",
    "### Improving our models\n",
    "\n",
    "Next, we see if our decision tree classifier or random forest classifier performs better if we add additional features to it. As of know we have not used any time/age related features, but as they might be relevant for the failure, we use some of them within the next approach.\n",
    "\n",
    "First we select the 9th feature which is indicating the run-time of the hdd as well as the 240th feature."
   ]
  },
  {
   "cell_type": "code",
   "execution_count": 40,
   "metadata": {},
   "outputs": [],
   "source": [
    "# create a helper column containing the features we want to use for plotting\n",
    "columns = ['serial_number']\n",
    "\n",
    "for col in df.columns:\n",
    "    if '5' in col or '_9_' in col or '183' in col or '184' in col or '187' in col or '240' in col:\n",
    "        if 'raw' in col:\n",
    "            columns.append(col)"
   ]
  },
  {
   "cell_type": "code",
   "execution_count": 41,
   "metadata": {},
   "outputs": [
    {
     "name": "stdout",
     "output_type": "stream",
     "text": [
      "X_train: (207998, 6)\n",
      "X_test: (88686, 6)\n",
      "y_train: (207998,)\n",
      "y_test: (88686,)\n"
     ]
    }
   ],
   "source": [
    "# split the data into features and target\n",
    "X = df[columns]\n",
    "y = df.fail_30\n",
    "\n",
    "# split the data into train and test data\n",
    "X_train, X_test, y_train, y_test = train_test_splitter(X, y, random_state=42)\n",
    "\n",
    "X_train.drop('serial_number', axis=1, inplace=True)\n",
    "X_test.drop('serial_number', axis=1, inplace=True)\n",
    "\n",
    "print(f'X_train: {X_train.shape}')\n",
    "print(f'X_test: {X_test.shape}')\n",
    "print(f'y_train: {y_train.shape}')\n",
    "print(f'y_test: {y_test.shape}')"
   ]
  },
  {
   "cell_type": "markdown",
   "metadata": {},
   "source": [
    "As expected after the result, the model is placing a high importance on the added two features. Next we try to apply this same data set to the Random Forest Classifier and see what the outcome of this one is."
   ]
  },
  {
   "cell_type": "markdown",
   "metadata": {},
   "source": [
    "## RandomForest Upgraded"
   ]
  },
  {
   "cell_type": "code",
   "execution_count": 42,
   "metadata": {},
   "outputs": [],
   "source": [
    "# instantiate and train the model\n",
    "forest_check = RandomForestClassifier()\n",
    "forest_check.fit(X_train, y_train)\n",
    "\n",
    "# create the predictions using the previously trained model\n",
    "y_test_pred = forest_check.predict(X_test)"
   ]
  },
  {
   "cell_type": "code",
   "execution_count": 43,
   "metadata": {},
   "outputs": [
    {
     "name": "stdout",
     "output_type": "stream",
     "text": [
      "Scores:\n",
      "-------------------------\n",
      "ROC-AUC : 0.5873\n",
      "Accuracy : 0.8960\n",
      "Recall   : 0.2336\n",
      "Precision: 0.2121\n",
      "F1 Score: 0.2224\n",
      "F2 Score : 0.2290\n"
     ]
    },
    {
     "data": {
      "image/png": "[encoded data removed]",
      "text/plain": [
       "<Figure size 432x288 with 2 Axes>"
      ]
     },
     "metadata": {},
     "output_type": "display_data"
    }
   ],
   "source": [
    "# create the predictions using the previously trained model\n",
    "y_test_pred = forest_check.predict(X_test)\n",
    "\n",
    "# calculate the different metrics for the model\n",
    "print('Scores:')\n",
    "print('-------------------------')\n",
    "print(\"ROC-AUC : {:.4f}\".format(roc_auc_score(y_test, y_test_pred)))\n",
    "print(\"Accuracy : {:.4f}\".format(accuracy_score(y_test, y_test_pred)))\n",
    "print(\"Recall   : {:.4f}\".format(recall_score(y_test, y_test_pred)))\n",
    "print(\"Precision: {:.4f}\".format(precision_score(y_test, y_test_pred)))\n",
    "print(\"F1 Score: {:.4f}\".format(f1_score(y_test, y_test_pred)))\n",
    "print(\"F2 Score : {:.4f}\".format(fbeta_score(y_test, y_test_pred, beta=2)))\n",
    "\n",
    "# create the confusion matrix\n",
    "confusion_matrix(y_test, y_test_pred)\n",
    "\n",
    "# plot the confusion matrix\n",
    "cm = confusion_matrix(y_test, y_test_pred)\n",
    "sns.heatmap(cm, annot=True, fmt='d', linewidths=.5);"
   ]
  },
  {
   "cell_type": "code",
   "execution_count": 44,
   "metadata": {},
   "outputs": [
    {
     "name": "stdout",
     "output_type": "stream",
     "text": [
      "[10:37:44] WARNING: /private/var/folders/4y/dlsvl9zd1blcnj6j3_tsc0j00000gn/T/pip-install-yrved5qh/xgboost_b33a4a38e5e54893acac00c429e943b9/build/temp.macosx-12.1-arm64-3.9/xgboost/src/learner.cc:1115: Starting in XGBoost 1.3.0, the default evaluation metric used with the objective 'binary:logistic' was changed from 'error' to 'logloss'. Explicitly set eval_metric if you'd like to restore the old behavior.\n",
      "Scores:\n",
      "-------------------------\n",
      "ROC-AUC : 0.5859\n",
      "Accuracy : 0.9125\n",
      "Recall   : 0.2118\n",
      "Precision: 0.2648\n",
      "F2 Score : 0.2207\n"
     ]
    },
    {
     "data": {
      "image/png": "[encoded data removed]",
      "text/plain": [
       "<Figure size 432x288 with 2 Axes>"
      ]
     },
     "metadata": {},
     "output_type": "display_data"
    }
   ],
   "source": [
    "clf = XGBClassifier()\n",
    "clf.fit(X_train, y_train)\n",
    "\n",
    "# predict the target variable using the trained model\n",
    "y_test_pred = clf.predict(X_test)\n",
    "\n",
    "# calculate the different metrics for the model\n",
    "print('Scores:')\n",
    "print('-------------------------')\n",
    "print(\"ROC-AUC : {:.4f}\".format(roc_auc_score(y_test, y_test_pred)))\n",
    "print(\"Accuracy : {:.4f}\".format(accuracy_score(y_test, y_test_pred)))\n",
    "print(\"Recall   : {:.4f}\".format(recall_score(y_test, y_test_pred)))\n",
    "print(\"Precision: {:.4f}\".format(precision_score(y_test, y_test_pred)))\n",
    "print(\"F2 Score : {:.4f}\".format(fbeta_score(y_test, y_test_pred, beta=2)))\n",
    "\n",
    "# create the confusion matrix\n",
    "confusion_matrix(y_test, y_test_pred)\n",
    "\n",
    "# plot the confusion matrix\n",
    "cm = confusion_matrix(y_test, y_test_pred)\n",
    "sns.heatmap(cm, annot=True, fmt='d', linewidths=.5);"
   ]
  },
  {
   "cell_type": "markdown",
   "metadata": {},
   "source": [
    "As we can see adding the new features 9 and 240 already causes a significant improvement over the previously trained model using only 5, 183, 184, 187.\n",
    "\n",
    "Thus, as a next attempt for the classification task, we add all raw data into the classifier and see how well this improves the output and which features are deemed important. The additional features will both be tested on the Decision Tree as well as on the Random Forest Classifier."
   ]
  },
  {
   "cell_type": "code",
   "execution_count": 45,
   "metadata": {},
   "outputs": [],
   "source": [
    "# create a helper column containing the features we want to use for plotting\n",
    "raw_columns = ['serial_number']\n",
    "\n",
    "for col in df.columns:\n",
    "    if 'raw' in col:\n",
    "        raw_columns.append(col)"
   ]
  },
  {
   "cell_type": "code",
   "execution_count": 46,
   "metadata": {},
   "outputs": [
    {
     "name": "stdout",
     "output_type": "stream",
     "text": [
      "X_train: (207998, 21)\n",
      "X_test: (88686, 21)\n",
      "y_train: (207998,)\n",
      "y_test: (88686,)\n"
     ]
    }
   ],
   "source": [
    "# split the data into features and target\n",
    "X = df[raw_columns]\n",
    "y = df.fail_30\n",
    "\n",
    "# split the data into train and test data\n",
    "X_train, X_test, y_train, y_test = train_test_splitter(X, y, random_state=42)\n",
    "\n",
    "X_train.drop('serial_number', axis=1, inplace=True)\n",
    "X_test.drop('serial_number', axis=1, inplace=True)\n",
    "\n",
    "print(f'X_train: {X_train.shape}')\n",
    "print(f'X_test: {X_test.shape}')\n",
    "print(f'y_train: {y_train.shape}')\n",
    "print(f'y_test: {y_test.shape}')"
   ]
  },
  {
   "cell_type": "code",
   "execution_count": 47,
   "metadata": {},
   "outputs": [
    {
     "name": "stdout",
     "output_type": "stream",
     "text": [
      "Scores:\n",
      "-------------------------\n",
      "ROC-AUC : 0.6342\n",
      "Accuracy : 0.9120\n",
      "Recall   : 0.3159\n",
      "Precision: 0.3110\n",
      "F1 Score: 0.3135\n",
      "F2 Score : 0.3149\n"
     ]
    },
    {
     "data": {
      "image/png": "[encoded data removed]",
      "text/plain": [
       "<Figure size 432x288 with 2 Axes>"
      ]
     },
     "metadata": {},
     "output_type": "display_data"
    }
   ],
   "source": [
    "# instantiate and train the model\n",
    "forest_check = RandomForestClassifier()\n",
    "forest_check.fit(X_train, y_train)\n",
    "\n",
    "# create the predictions using the previously trained model\n",
    "y_test_pred = forest_check.predict(X_test)\n",
    "\n",
    "# calculate the different metrics for the model\n",
    "print('Scores:')\n",
    "print('-------------------------')\n",
    "print(\"ROC-AUC : {:.4f}\".format(roc_auc_score(y_test, y_test_pred)))\n",
    "print(\"Accuracy : {:.4f}\".format(accuracy_score(y_test, y_test_pred)))\n",
    "print(\"Recall   : {:.4f}\".format(recall_score(y_test, y_test_pred)))\n",
    "print(\"Precision: {:.4f}\".format(precision_score(y_test, y_test_pred)))\n",
    "print(\"F1 Score: {:.4f}\".format(f1_score(y_test, y_test_pred)))\n",
    "print(\"F2 Score : {:.4f}\".format(fbeta_score(y_test, y_test_pred, beta=2)))\n",
    "\n",
    "# create the confusion matrix\n",
    "confusion_matrix(y_test, y_test_pred)\n",
    "\n",
    "# plot the confusion matrix\n",
    "cm = confusion_matrix(y_test, y_test_pred)\n",
    "sns.heatmap(cm, annot=True, fmt='d', linewidths=.5);"
   ]
  },
  {
   "cell_type": "code",
   "execution_count": 48,
   "metadata": {},
   "outputs": [
    {
     "name": "stdout",
     "output_type": "stream",
     "text": [
      "[10:38:26] WARNING: /private/var/folders/4y/dlsvl9zd1blcnj6j3_tsc0j00000gn/T/pip-install-yrved5qh/xgboost_b33a4a38e5e54893acac00c429e943b9/build/temp.macosx-12.1-arm64-3.9/xgboost/src/learner.cc:1115: Starting in XGBoost 1.3.0, the default evaluation metric used with the objective 'binary:logistic' was changed from 'error' to 'logloss'. Explicitly set eval_metric if you'd like to restore the old behavior.\n",
      "Scores:\n",
      "-------------------------\n",
      "ROC-AUC : 0.6319\n",
      "Accuracy : 0.8985\n",
      "Recall   : 0.3265\n",
      "Precision: 0.2614\n",
      "F2 Score : 0.3110\n"
     ]
    },
    {
     "data": {
      "image/png": "[encoded data removed]",
      "text/plain": [
       "<Figure size 432x288 with 2 Axes>"
      ]
     },
     "metadata": {},
     "output_type": "display_data"
    }
   ],
   "source": [
    "clf = XGBClassifier()\n",
    "clf.fit(X_train, y_train)\n",
    "\n",
    "# predict the target variable using the trained model\n",
    "y_test_pred = clf.predict(X_test)\n",
    "\n",
    "# calculate the different metrics for the model\n",
    "print('Scores:')\n",
    "print('-------------------------')\n",
    "print(\"ROC-AUC : {:.4f}\".format(roc_auc_score(y_test, y_test_pred)))\n",
    "print(\"Accuracy : {:.4f}\".format(accuracy_score(y_test, y_test_pred)))\n",
    "print(\"Recall   : {:.4f}\".format(recall_score(y_test, y_test_pred)))\n",
    "print(\"Precision: {:.4f}\".format(precision_score(y_test, y_test_pred)))\n",
    "print(\"F2 Score : {:.4f}\".format(fbeta_score(y_test, y_test_pred, beta=2)))\n",
    "\n",
    "# create the confusion matrix\n",
    "confusion_matrix(y_test, y_test_pred)\n",
    "\n",
    "# plot the confusion matrix\n",
    "cm = confusion_matrix(y_test, y_test_pred)\n",
    "sns.heatmap(cm, annot=True, fmt='d', linewidths=.5);"
   ]
  }
 ],
 "metadata": {
  "interpreter": {
   "hash": "18b7fd93f04f89540a09f1a4124a169a5d02eeb69aa6f3a46cd6d6bfb2282ed6"
  },
  "kernelspec": {
   "display_name": "Python 3.9.4 ('.venv': venv)",
   "language": "python",
   "name": "python3"
  },
  "language_info": {
   "codemirror_mode": {
    "name": "ipython",
    "version": 3
   },
   "file_extension": ".py",
   "mimetype": "text/x-python",
   "name": "python",
   "nbconvert_exporter": "python",
   "pygments_lexer": "ipython3",
   "version": "3.9.4"
  },
  "orig_nbformat": 4
 },
 "nbformat": 4,
 "nbformat_minor": 2
}
