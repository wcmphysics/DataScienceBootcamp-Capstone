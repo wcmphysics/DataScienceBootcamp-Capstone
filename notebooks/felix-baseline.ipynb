{
 "cells": [
  {
   "cell_type": "markdown",
   "metadata": {},
   "source": [
    "# Guardians of the Memory - Baseline Model - Felix\n",
    "\n",
    "Baseline model for the HHD classification problem. The task is to classify if a certain HDD will fail in the next x days (in the following we try to predict HDD failure two weeks in advance).\n",
    "\n",
    "As a metric, we look at the area under the ROC curve while we monitor the recall. We want to minimize false negatives (predicting that a HDD will not fail, but it fails nevertheless) as this might lead to data loss and maintenance downtime.\n",
    "\n",
    "The dataset we use contains only the one model that failed the most recently (Seagate ST4000DM000) and only drives where we observed the failing in the dataset (2020 untill 2021). We use all available dates for those drives.\n",
    "\n",
    "For the baseline model, we focus on the four most important features that we observed in the EDA: `smart_5_raw`, `smart_183_raw`, `smart_184_raw` and `smart_187_raw`. We calculate the median of those features a certain number of days before the drives fail use this value as threshold. If two (out of the four) of the features of a drive are above the threshold, we predict that the drive will fail in the given time window."
   ]
  },
  {
   "cell_type": "markdown",
   "metadata": {},
   "source": [
    "Import Libraries"
   ]
  },
  {
   "cell_type": "code",
   "execution_count": 1,
   "metadata": {},
   "outputs": [],
   "source": [
    "import pandas as pd\n",
    "import numpy as np\n",
    "import mlflow\n",
    "# Setup MLFlow\n",
    "EXPERIMENT_NAME = \"guardians_of_the_memory_baseline_felix\"\n",
    "TRACKING_URI = open(\"../.mlflow_uri\").read().strip()\n",
    "\n",
    "import seaborn as sns\n",
    "import matplotlib.pyplot as plt\n",
    "plt.style.use('seaborn')\n",
    "\n",
    "from sklearn.model_selection import train_test_split\n",
    "\n",
    "from sklearn.metrics import classification_report, confusion_matrix, roc_auc_score, recall_score\n",
    "\n",
    "RSEED = 42"
   ]
  },
  {
   "cell_type": "markdown",
   "metadata": {},
   "source": [
    "## Preprocessing\n",
    "\n",
    "Load the data"
   ]
  },
  {
   "cell_type": "code",
   "execution_count": 2,
   "metadata": {},
   "outputs": [],
   "source": [
    "df = pd.read_csv(\"../data/interim/ST4000DM000_history.csv\", parse_dates=[\"date\"]) # Full history\n",
    "failure_dates = pd.read_csv(\"../data/interim/ST4000DM000_failure.csv\", parse_dates=[\"date\"]) # Failure dates"
   ]
  },
  {
   "cell_type": "markdown",
   "metadata": {},
   "source": [
    "Merge the failure date"
   ]
  },
  {
   "cell_type": "code",
   "execution_count": 3,
   "metadata": {},
   "outputs": [
    {
     "data": {
      "text/html": [
       "<div>\n",
       "<style scoped>\n",
       "    .dataframe tbody tr th:only-of-type {\n",
       "        vertical-align: middle;\n",
       "    }\n",
       "\n",
       "    .dataframe tbody tr th {\n",
       "        vertical-align: top;\n",
       "    }\n",
       "\n",
       "    .dataframe thead th {\n",
       "        text-align: right;\n",
       "    }\n",
       "</style>\n",
       "<table border=\"1\" class=\"dataframe\">\n",
       "  <thead>\n",
       "    <tr style=\"text-align: right;\">\n",
       "      <th></th>\n",
       "      <th>date</th>\n",
       "      <th>serial_number</th>\n",
       "      <th>model</th>\n",
       "      <th>capacity_bytes</th>\n",
       "      <th>failure</th>\n",
       "      <th>smart_1_normalized</th>\n",
       "      <th>smart_1_raw</th>\n",
       "      <th>smart_2_normalized</th>\n",
       "      <th>smart_2_raw</th>\n",
       "      <th>smart_3_normalized</th>\n",
       "      <th>...</th>\n",
       "      <th>smart_250_raw</th>\n",
       "      <th>smart_251_normalized</th>\n",
       "      <th>smart_251_raw</th>\n",
       "      <th>smart_252_normalized</th>\n",
       "      <th>smart_252_raw</th>\n",
       "      <th>smart_254_normalized</th>\n",
       "      <th>smart_254_raw</th>\n",
       "      <th>smart_255_normalized</th>\n",
       "      <th>smart_255_raw</th>\n",
       "      <th>date_failure</th>\n",
       "    </tr>\n",
       "  </thead>\n",
       "  <tbody>\n",
       "    <tr>\n",
       "      <th>0</th>\n",
       "      <td>2020-09-15</td>\n",
       "      <td>Z304KBK4</td>\n",
       "      <td>ST4000DM000</td>\n",
       "      <td>4000787030016</td>\n",
       "      <td>0</td>\n",
       "      <td>113.0</td>\n",
       "      <td>53991680.0</td>\n",
       "      <td>NaN</td>\n",
       "      <td>NaN</td>\n",
       "      <td>92.0</td>\n",
       "      <td>...</td>\n",
       "      <td>NaN</td>\n",
       "      <td>NaN</td>\n",
       "      <td>NaN</td>\n",
       "      <td>NaN</td>\n",
       "      <td>NaN</td>\n",
       "      <td>NaN</td>\n",
       "      <td>NaN</td>\n",
       "      <td>NaN</td>\n",
       "      <td>NaN</td>\n",
       "      <td>2021-12-16</td>\n",
       "    </tr>\n",
       "    <tr>\n",
       "      <th>1</th>\n",
       "      <td>2020-09-15</td>\n",
       "      <td>Z304JGH0</td>\n",
       "      <td>ST4000DM000</td>\n",
       "      <td>4000787030016</td>\n",
       "      <td>0</td>\n",
       "      <td>111.0</td>\n",
       "      <td>31142392.0</td>\n",
       "      <td>NaN</td>\n",
       "      <td>NaN</td>\n",
       "      <td>91.0</td>\n",
       "      <td>...</td>\n",
       "      <td>NaN</td>\n",
       "      <td>NaN</td>\n",
       "      <td>NaN</td>\n",
       "      <td>NaN</td>\n",
       "      <td>NaN</td>\n",
       "      <td>NaN</td>\n",
       "      <td>NaN</td>\n",
       "      <td>NaN</td>\n",
       "      <td>NaN</td>\n",
       "      <td>2021-01-14</td>\n",
       "    </tr>\n",
       "    <tr>\n",
       "      <th>2</th>\n",
       "      <td>2020-09-15</td>\n",
       "      <td>Z302SYHL</td>\n",
       "      <td>ST4000DM000</td>\n",
       "      <td>4000787030016</td>\n",
       "      <td>0</td>\n",
       "      <td>120.0</td>\n",
       "      <td>238681648.0</td>\n",
       "      <td>NaN</td>\n",
       "      <td>NaN</td>\n",
       "      <td>92.0</td>\n",
       "      <td>...</td>\n",
       "      <td>NaN</td>\n",
       "      <td>NaN</td>\n",
       "      <td>NaN</td>\n",
       "      <td>NaN</td>\n",
       "      <td>NaN</td>\n",
       "      <td>NaN</td>\n",
       "      <td>NaN</td>\n",
       "      <td>NaN</td>\n",
       "      <td>NaN</td>\n",
       "      <td>2021-05-22</td>\n",
       "    </tr>\n",
       "    <tr>\n",
       "      <th>3</th>\n",
       "      <td>2020-09-15</td>\n",
       "      <td>S3010L7K</td>\n",
       "      <td>ST4000DM000</td>\n",
       "      <td>4000787030016</td>\n",
       "      <td>0</td>\n",
       "      <td>118.0</td>\n",
       "      <td>180888736.0</td>\n",
       "      <td>NaN</td>\n",
       "      <td>NaN</td>\n",
       "      <td>94.0</td>\n",
       "      <td>...</td>\n",
       "      <td>NaN</td>\n",
       "      <td>NaN</td>\n",
       "      <td>NaN</td>\n",
       "      <td>NaN</td>\n",
       "      <td>NaN</td>\n",
       "      <td>NaN</td>\n",
       "      <td>NaN</td>\n",
       "      <td>NaN</td>\n",
       "      <td>NaN</td>\n",
       "      <td>2020-12-11</td>\n",
       "    </tr>\n",
       "    <tr>\n",
       "      <th>4</th>\n",
       "      <td>2020-09-15</td>\n",
       "      <td>Z304JM6A</td>\n",
       "      <td>ST4000DM000</td>\n",
       "      <td>4000787030016</td>\n",
       "      <td>0</td>\n",
       "      <td>114.0</td>\n",
       "      <td>59625576.0</td>\n",
       "      <td>NaN</td>\n",
       "      <td>NaN</td>\n",
       "      <td>92.0</td>\n",
       "      <td>...</td>\n",
       "      <td>NaN</td>\n",
       "      <td>NaN</td>\n",
       "      <td>NaN</td>\n",
       "      <td>NaN</td>\n",
       "      <td>NaN</td>\n",
       "      <td>NaN</td>\n",
       "      <td>NaN</td>\n",
       "      <td>NaN</td>\n",
       "      <td>NaN</td>\n",
       "      <td>2021-01-24</td>\n",
       "    </tr>\n",
       "  </tbody>\n",
       "</table>\n",
       "<p>5 rows × 180 columns</p>\n",
       "</div>"
      ],
      "text/plain": [
       "        date serial_number        model  capacity_bytes  failure  \\\n",
       "0 2020-09-15      Z304KBK4  ST4000DM000   4000787030016        0   \n",
       "1 2020-09-15      Z304JGH0  ST4000DM000   4000787030016        0   \n",
       "2 2020-09-15      Z302SYHL  ST4000DM000   4000787030016        0   \n",
       "3 2020-09-15      S3010L7K  ST4000DM000   4000787030016        0   \n",
       "4 2020-09-15      Z304JM6A  ST4000DM000   4000787030016        0   \n",
       "\n",
       "   smart_1_normalized  smart_1_raw  smart_2_normalized  smart_2_raw  \\\n",
       "0               113.0   53991680.0                 NaN          NaN   \n",
       "1               111.0   31142392.0                 NaN          NaN   \n",
       "2               120.0  238681648.0                 NaN          NaN   \n",
       "3               118.0  180888736.0                 NaN          NaN   \n",
       "4               114.0   59625576.0                 NaN          NaN   \n",
       "\n",
       "   smart_3_normalized  ...  smart_250_raw  smart_251_normalized  \\\n",
       "0                92.0  ...            NaN                   NaN   \n",
       "1                91.0  ...            NaN                   NaN   \n",
       "2                92.0  ...            NaN                   NaN   \n",
       "3                94.0  ...            NaN                   NaN   \n",
       "4                92.0  ...            NaN                   NaN   \n",
       "\n",
       "   smart_251_raw  smart_252_normalized  smart_252_raw  smart_254_normalized  \\\n",
       "0            NaN                   NaN            NaN                   NaN   \n",
       "1            NaN                   NaN            NaN                   NaN   \n",
       "2            NaN                   NaN            NaN                   NaN   \n",
       "3            NaN                   NaN            NaN                   NaN   \n",
       "4            NaN                   NaN            NaN                   NaN   \n",
       "\n",
       "   smart_254_raw  smart_255_normalized  smart_255_raw  date_failure  \n",
       "0            NaN                   NaN            NaN    2021-12-16  \n",
       "1            NaN                   NaN            NaN    2021-01-14  \n",
       "2            NaN                   NaN            NaN    2021-05-22  \n",
       "3            NaN                   NaN            NaN    2020-12-11  \n",
       "4            NaN                   NaN            NaN    2021-01-24  \n",
       "\n",
       "[5 rows x 180 columns]"
      ]
     },
     "execution_count": 3,
     "metadata": {},
     "output_type": "execute_result"
    }
   ],
   "source": [
    "df = pd.merge(  left=df, right=failure_dates[[\"serial_number\", \"date\"]],\n",
    "                how=\"left\", on=\"serial_number\", suffixes=(\"\", \"_failure\"),\n",
    "                )\n",
    "df.head()"
   ]
  },
  {
   "cell_type": "markdown",
   "metadata": {},
   "source": [
    "Calculate the days to fail and select all hdds that have a failure date"
   ]
  },
  {
   "cell_type": "code",
   "execution_count": 4,
   "metadata": {},
   "outputs": [
    {
     "data": {
      "text/plain": [
       "(243280, 181)"
      ]
     },
     "execution_count": 4,
     "metadata": {},
     "output_type": "execute_result"
    }
   ],
   "source": [
    "df[\"days_to_fail\"] = (df.date_failure - df.date).dt.days # Days to fail as int\n",
    "df_full = df.copy() # Backup\n",
    "df = df[df.days_to_fail.notna()] # Select all HDDs with failure dates\n",
    "df.shape"
   ]
  },
  {
   "cell_type": "markdown",
   "metadata": {},
   "source": [
    "Drop cols with many missings"
   ]
  },
  {
   "cell_type": "code",
   "execution_count": 5,
   "metadata": {},
   "outputs": [
    {
     "name": "stdout",
     "output_type": "stream",
     "text": [
      "Number of columns to drop: 126\n",
      "Shape of the dataframe (243280, 55)\n"
     ]
    }
   ],
   "source": [
    "cols_to_drop = df.columns[df.notna().sum() < (0.8 * len(df))] # Columns that contain lot of NaNs\n",
    "print(\"Number of columns to drop:\", len(cols_to_drop))\n",
    "df.drop(cols_to_drop, axis=1, inplace=True) # Drop the cols\n",
    "print(\"Shape of the dataframe\", df.shape)"
   ]
  },
  {
   "cell_type": "markdown",
   "metadata": {},
   "source": [
    "Drop unnecessary cols"
   ]
  },
  {
   "cell_type": "code",
   "execution_count": 6,
   "metadata": {},
   "outputs": [
    {
     "name": "stdout",
     "output_type": "stream",
     "text": [
      "Number of columns to drop: 4\n",
      "Shape of the dataframe (243280, 51)\n"
     ]
    }
   ],
   "source": [
    "cols_to_drop = [\"model\", \"capacity_bytes\", \"failure\", \"date_failure\"] # We don't care about them here\n",
    "print(\"Number of columns to drop:\", len(cols_to_drop))\n",
    "df.drop(cols_to_drop, axis=1, inplace=True) # Drop the cols\n",
    "print(\"Shape of the dataframe\", df.shape)"
   ]
  },
  {
   "cell_type": "markdown",
   "metadata": {},
   "source": [
    "Drop cols with constant values (std=0)"
   ]
  },
  {
   "cell_type": "code",
   "execution_count": 7,
   "metadata": {},
   "outputs": [
    {
     "name": "stdout",
     "output_type": "stream",
     "text": [
      "Number of columns to drop: 12\n",
      "Shape of the dataframe (243280, 39)\n"
     ]
    }
   ],
   "source": [
    "mask = np.insert((df.std() == 0).to_numpy(),0,False) # Look std of column is 0\n",
    "cols_to_drop = df.columns[mask]\n",
    "print(\"Number of columns to drop:\", len(cols_to_drop))\n",
    "df.drop(cols_to_drop, axis=1, inplace=True) # Drop the cols\n",
    "print(\"Shape of the dataframe\", df.shape)"
   ]
  },
  {
   "cell_type": "markdown",
   "metadata": {},
   "source": [
    "Drop rows NaNs since we only have 19"
   ]
  },
  {
   "cell_type": "code",
   "execution_count": 8,
   "metadata": {},
   "outputs": [
    {
     "name": "stdout",
     "output_type": "stream",
     "text": [
      "Shape of the dataframe (243280, 39)\n",
      "Max number of NaN rows: 19\n",
      "Shape of the dataframe (243261, 39)\n"
     ]
    }
   ],
   "source": [
    "print(\"Shape of the dataframe\", df.shape)\n",
    "print(\"Max number of NaN rows:\", df.isna().sum().max())\n",
    "df.dropna(inplace=True) # Drop observations with NaNs\n",
    "print(\"Shape of the dataframe\", df.shape)"
   ]
  },
  {
   "cell_type": "markdown",
   "metadata": {},
   "source": [
    "Kick out negative days to fail (repaired HDDs) - this probably needs mor thorough treatment (right now we select a random failure date from multiples, should probably only select the first one)"
   ]
  },
  {
   "cell_type": "code",
   "execution_count": 9,
   "metadata": {},
   "outputs": [
    {
     "name": "stdout",
     "output_type": "stream",
     "text": [
      "Shape of the dataframe (243179, 39)\n"
     ]
    }
   ],
   "source": [
    "df = df.query(\"days_to_fail >= 0\")\n",
    "print(\"Shape of the dataframe\", df.shape)"
   ]
  },
  {
   "cell_type": "markdown",
   "metadata": {},
   "source": [
    "## Statistics of our important features"
   ]
  },
  {
   "cell_type": "code",
   "execution_count": 10,
   "metadata": {},
   "outputs": [
    {
     "data": {
      "text/html": [
       "<div>\n",
       "<style scoped>\n",
       "    .dataframe tbody tr th:only-of-type {\n",
       "        vertical-align: middle;\n",
       "    }\n",
       "\n",
       "    .dataframe tbody tr th {\n",
       "        vertical-align: top;\n",
       "    }\n",
       "\n",
       "    .dataframe thead th {\n",
       "        text-align: right;\n",
       "    }\n",
       "</style>\n",
       "<table border=\"1\" class=\"dataframe\">\n",
       "  <thead>\n",
       "    <tr style=\"text-align: right;\">\n",
       "      <th></th>\n",
       "      <th>count</th>\n",
       "      <th>mean</th>\n",
       "      <th>std</th>\n",
       "      <th>min</th>\n",
       "      <th>25%</th>\n",
       "      <th>50%</th>\n",
       "      <th>75%</th>\n",
       "      <th>max</th>\n",
       "    </tr>\n",
       "  </thead>\n",
       "  <tbody>\n",
       "    <tr>\n",
       "      <th>smart_5_raw</th>\n",
       "      <td>243179.0</td>\n",
       "      <td>226.726420</td>\n",
       "      <td>2632.867959</td>\n",
       "      <td>0.0</td>\n",
       "      <td>0.0</td>\n",
       "      <td>0.0</td>\n",
       "      <td>0.0</td>\n",
       "      <td>65488.0</td>\n",
       "    </tr>\n",
       "    <tr>\n",
       "      <th>smart_183_raw</th>\n",
       "      <td>243179.0</td>\n",
       "      <td>5.062941</td>\n",
       "      <td>28.927995</td>\n",
       "      <td>0.0</td>\n",
       "      <td>0.0</td>\n",
       "      <td>0.0</td>\n",
       "      <td>2.0</td>\n",
       "      <td>720.0</td>\n",
       "    </tr>\n",
       "    <tr>\n",
       "      <th>smart_184_raw</th>\n",
       "      <td>243179.0</td>\n",
       "      <td>0.282738</td>\n",
       "      <td>5.545636</td>\n",
       "      <td>0.0</td>\n",
       "      <td>0.0</td>\n",
       "      <td>0.0</td>\n",
       "      <td>0.0</td>\n",
       "      <td>340.0</td>\n",
       "    </tr>\n",
       "    <tr>\n",
       "      <th>smart_187_raw</th>\n",
       "      <td>243179.0</td>\n",
       "      <td>9.311470</td>\n",
       "      <td>35.394915</td>\n",
       "      <td>0.0</td>\n",
       "      <td>0.0</td>\n",
       "      <td>0.0</td>\n",
       "      <td>4.0</td>\n",
       "      <td>940.0</td>\n",
       "    </tr>\n",
       "  </tbody>\n",
       "</table>\n",
       "</div>"
      ],
      "text/plain": [
       "                  count        mean          std  min  25%  50%  75%      max\n",
       "smart_5_raw    243179.0  226.726420  2632.867959  0.0  0.0  0.0  0.0  65488.0\n",
       "smart_183_raw  243179.0    5.062941    28.927995  0.0  0.0  0.0  2.0    720.0\n",
       "smart_184_raw  243179.0    0.282738     5.545636  0.0  0.0  0.0  0.0    340.0\n",
       "smart_187_raw  243179.0    9.311470    35.394915  0.0  0.0  0.0  4.0    940.0"
      ]
     },
     "execution_count": 10,
     "metadata": {},
     "output_type": "execute_result"
    }
   ],
   "source": [
    "feats_bl = [\"smart_5_raw\",\n",
    "            \"smart_183_raw\",\n",
    "            \"smart_184_raw\",\n",
    "            \"smart_187_raw\",\n",
    "            ]\n",
    "\n",
    "df[feats_bl].describe().T"
   ]
  },
  {
   "cell_type": "markdown",
   "metadata": {},
   "source": [
    "Plots of features over time\n",
    "\n",
    "We plot the median of the features over time to see if they change gradually towards failure"
   ]
  },
  {
   "cell_type": "code",
   "execution_count": 11,
   "metadata": {},
   "outputs": [
    {
     "data": {
      "image/png": "[encoded data removed]",
      "text/plain": [
       "<Figure size 1152x1152 with 4 Axes>"
      ]
     },
     "metadata": {},
     "output_type": "display_data"
    }
   ],
   "source": [
    "time_window = 30 # Line for plotting\n",
    "plt.figure(figsize=(16,16))\n",
    "for num, feat in enumerate(feats_bl):\n",
    "    plt.subplot(4,1,num+1)\n",
    "    sns.lineplot(x=df.days_to_fail, y=df[feat], estimator=np.median)\n",
    "    plt.axvline(x=time_window, c='k')"
   ]
  },
  {
   "cell_type": "markdown",
   "metadata": {},
   "source": [
    "`smart_183_raw` and `smart_187_raw` seem to be very good indicators. `smart_5_raw` and `smart_184_raw` are also good indicators (check mean plots), but only for a small fraction of HDDs.\n",
    "\n",
    "Towards large values of days_to_fail, we observe some fluctuations. The come from the fact, that we have only very limited statistics available. The number of HDDs in the dataset decreases as a function of days_to_fail, since a rather constant fail rate \"takes them out day by day\". This can be seen in the following histogram."
   ]
  },
  {
   "cell_type": "code",
   "execution_count": 12,
   "metadata": {},
   "outputs": [
    {
     "data": {
      "image/png": "[encoded data removed]",
      "text/plain": [
       "<Figure size 1152x576 with 1 Axes>"
      ]
     },
     "metadata": {},
     "output_type": "display_data"
    }
   ],
   "source": [
    "plt.figure(figsize=(16,8))\n",
    "# sns.lineplot(x=df.groupby(\"days_to_fail\").count().index, y=df.groupby(\"days_to_fail\").count().date)\n",
    "sns.lineplot(data=df.groupby(\"days_to_fail\").count().date)\n",
    "plt.ylabel(\"number of HDDs\");"
   ]
  },
  {
   "cell_type": "markdown",
   "metadata": {},
   "source": [
    "Next, we look at how the distribution of smart_5 evolves over time"
   ]
  },
  {
   "cell_type": "code",
   "execution_count": 13,
   "metadata": {},
   "outputs": [
    {
     "data": {
      "text/plain": [
       "<Figure size 1152x576 with 0 Axes>"
      ]
     },
     "metadata": {},
     "output_type": "display_data"
    },
    {
     "data": {
      "image/png": "[encoded data removed]",
      "text/plain": [
       "<Figure size 1152x576 with 2 Axes>"
      ]
     },
     "metadata": {},
     "output_type": "display_data"
    }
   ],
   "source": [
    "plt.figure(figsize=(16,8))\n",
    "sns.displot(x=df.days_to_fail, y=df.smart_5_raw, binwidth=(1, 1000), cbar=True, height=8, aspect=2)\n",
    "plt.axvline(x=time_window, c='k');"
   ]
  },
  {
   "cell_type": "markdown",
   "metadata": {},
   "source": [
    "Most of the drives show a value of `0` all the time. Individual drives show an increase quite early without imminent failure. Those will be falsely classified by our baseline model, but their number is rather small."
   ]
  },
  {
   "cell_type": "markdown",
   "metadata": {},
   "source": [
    "## Baseline Model"
   ]
  },
  {
   "cell_type": "markdown",
   "metadata": {},
   "source": [
    "### Train-test split\n",
    "\n",
    "We have to split by drive serial numbers (all time data for one drive stays in one set). This cannot be done by stratify, so we write our own function."
   ]
  },
  {
   "cell_type": "code",
   "execution_count": 14,
   "metadata": {},
   "outputs": [],
   "source": [
    "drives = pd.Series(df.serial_number.unique(), name=\"HDD\") # All the unique serial numbers\n",
    "test_size = 0.3\n",
    "time_window = 14\n",
    "drives_test = drives.sample(int(test_size * len(drives)), random_state=RSEED) # Random sampling of drives\n",
    "drives_train = drives.drop(drives_test.index, axis=0) # Remaining drives end up in the train set\n",
    "df_train = df[df.serial_number.isin(drives_train)]\n",
    "df_test = df[df.serial_number.isin(drives_test)]"
   ]
  },
  {
   "cell_type": "markdown",
   "metadata": {},
   "source": [
    "Generate dataframes from the drive lists"
   ]
  },
  {
   "cell_type": "code",
   "execution_count": 15,
   "metadata": {},
   "outputs": [
    {
     "name": "stdout",
     "output_type": "stream",
     "text": [
      "Shape train set: (169566, 4) \n",
      "Shape test set: (73613, 4)\n"
     ]
    }
   ],
   "source": [
    "X_train = df_train[feats_bl]\n",
    "X_test = df_test[feats_bl]\n",
    "print(\"Shape train set:\", X_train.shape, \"\\nShape test set:\", X_test.shape)"
   ]
  },
  {
   "cell_type": "markdown",
   "metadata": {},
   "source": [
    "Generate targets: `True` if `days_to_fail` is smaller than our time window, `False` otherwise."
   ]
  },
  {
   "cell_type": "code",
   "execution_count": 16,
   "metadata": {},
   "outputs": [],
   "source": [
    "y_train = df_train.days_to_fail <= time_window\n",
    "y_test = df_test.days_to_fail <= time_window"
   ]
  },
  {
   "cell_type": "markdown",
   "metadata": {},
   "source": [
    "Now we check if our sampling is stratified:"
   ]
  },
  {
   "cell_type": "code",
   "execution_count": 17,
   "metadata": {},
   "outputs": [
    {
     "data": {
      "text/plain": [
       "(0.03756649328285151, 0.036433782076535394)"
      ]
     },
     "execution_count": 17,
     "metadata": {},
     "output_type": "execute_result"
    }
   ],
   "source": [
    "y_train.sum()/len(y_train), y_test.sum()/len(y_test)"
   ]
  },
  {
   "cell_type": "markdown",
   "metadata": {},
   "source": [
    "I would say it looks ok. Perhaps stratify can be included later.\n",
    "\n",
    "Now lets setup MLFlow:"
   ]
  },
  {
   "cell_type": "code",
   "execution_count": 18,
   "metadata": {},
   "outputs": [
    {
     "name": "stderr",
     "output_type": "stream",
     "text": [
      "2022/03/10 16:21:27 INFO mlflow.tracking.fluent: Experiment with name 'guardians_of_the_memory_baseline_felix' does not exist. Creating a new experiment.\n"
     ]
    },
    {
     "name": "stdout",
     "output_type": "stream",
     "text": [
      "Active run_id: 57bb7e96368c4a8ab6643a77bca6e427\n"
     ]
    }
   ],
   "source": [
    "# setting the MLFlow connection and experiment\n",
    "mlflow.set_tracking_uri(TRACKING_URI)\n",
    "mlflow.set_experiment(EXPERIMENT_NAME)\n",
    "mlflow.start_run()\n",
    "run = mlflow.active_run()\n",
    "print(\"Active run_id: {}\".format(run.info.run_id))"
   ]
  },
  {
   "cell_type": "markdown",
   "metadata": {},
   "source": [
    "### Train the baseline model\n",
    "\n",
    "Therefore we have to calculate the thresholds."
   ]
  },
  {
   "cell_type": "code",
   "execution_count": 19,
   "metadata": {},
   "outputs": [
    {
     "data": {
      "text/plain": [
       "smart_5_raw      0.0\n",
       "smart_183_raw    1.0\n",
       "smart_184_raw    0.0\n",
       "smart_187_raw    3.0\n",
       "Name: Threshold, dtype: float64"
      ]
     },
     "execution_count": 19,
     "metadata": {},
     "output_type": "execute_result"
    }
   ],
   "source": [
    "threshold = pd.Series(name=\"Threshold\")\n",
    "# Dataframe with all train drives exactly time_window days before failure\n",
    "df_time_window = df[df.serial_number.isin(drives_train)].query(\"days_to_fail ==@ time_window\")\n",
    "for feat in feats_bl:\n",
    "    threshold[feat] = df_time_window[feat].median()\n",
    "threshold"
   ]
  },
  {
   "cell_type": "markdown",
   "metadata": {},
   "source": [
    "### Make predictions\n",
    "\n",
    "If at least three features are above threshold, predict failure of the drive in the next (30) days"
   ]
  },
  {
   "cell_type": "code",
   "execution_count": 20,
   "metadata": {},
   "outputs": [],
   "source": [
    "num_above_threshold = 3\n",
    "y_pred = (X_test > threshold).sum(axis=1) > (num_above_threshold-1)\n",
    "y_pred_train = (X_train > threshold).sum(axis=1) > (num_above_threshold-1)\n",
    "#y_pred = [0 for k in range(len(y_test))]"
   ]
  },
  {
   "cell_type": "markdown",
   "metadata": {},
   "source": [
    "## Metrics and Error Analysis\n",
    "\n",
    "We focus on the area under the roc curve and the recall. We print the classification report and the confusion matrix, as well as the AUC score."
   ]
  },
  {
   "cell_type": "code",
   "execution_count": 21,
   "metadata": {},
   "outputs": [
    {
     "name": "stdout",
     "output_type": "stream",
     "text": [
      "Train: Area under the ROC curve: 0.58\n",
      "Train: Recall: 0.21\n"
     ]
    }
   ],
   "source": [
    "auc_train = roc_auc_score(y_train, y_pred_train).round(2)\n",
    "recall_train = recall_score(y_train, y_pred_train).round(2)\n",
    "print(\"Train: Area under the ROC curve:\", auc_train)\n",
    "print(\"Train: Recall:\", recall_train)"
   ]
  },
  {
   "cell_type": "code",
   "execution_count": 22,
   "metadata": {},
   "outputs": [
    {
     "name": "stdout",
     "output_type": "stream",
     "text": [
      "Test: Area under the ROC curve: 0.6\n",
      "Test: Recall: 0.22\n",
      "              precision    recall  f1-score   support\n",
      "\n",
      "       False       0.97      0.98      0.97     70931\n",
      "        True       0.29      0.22      0.25      2682\n",
      "\n",
      "    accuracy                           0.95     73613\n",
      "   macro avg       0.63      0.60      0.61     73613\n",
      "weighted avg       0.95      0.95      0.95     73613\n",
      "\n"
     ]
    },
    {
     "data": {
      "image/png": "[encoded data removed]",
      "text/plain": [
       "<Figure size 576x396 with 2 Axes>"
      ]
     },
     "metadata": {},
     "output_type": "display_data"
    }
   ],
   "source": [
    "auc_test = roc_auc_score(y_test, y_pred).round(2)\n",
    "recall_test = recall_score(y_test, y_pred).round(2)\n",
    "print(\"Test: Area under the ROC curve:\", auc_test)\n",
    "print(\"Test: Recall:\", recall_test)\n",
    "print(classification_report(y_test, y_pred))\n",
    "sns.heatmap(confusion_matrix(y_test, y_pred), annot=True)\n",
    "plt.xlabel(\"Prediction Baseline Model\")\n",
    "plt.ylabel(\"True\");"
   ]
  },
  {
   "cell_type": "markdown",
   "metadata": {},
   "source": [
    "An AUC of 0.60 and a recall of 0.22, there is definitely room for improvement with real models!\n",
    "\n",
    "How are the predictions scattered over time?"
   ]
  },
  {
   "cell_type": "code",
   "execution_count": 23,
   "metadata": {},
   "outputs": [
    {
     "data": {
      "image/png": "[encoded data removed]",
      "text/plain": [
       "<Figure size 576x396 with 1 Axes>"
      ]
     },
     "metadata": {},
     "output_type": "display_data"
    }
   ],
   "source": [
    "plotdata_pred = pd.DataFrame({\"y\": y_pred, \"days\": df_test.days_to_fail}).query(\"y == 1\")\n",
    "plotdata_test = pd.DataFrame({\"y\": y_test, \"days\": df_test.days_to_fail}).query(\"y == 1\")\n",
    "sns.histplot(data=plotdata_test, x=\"days\", bins=time_window+1, color='r', alpha=0.2)\n",
    "sns.histplot(data=plotdata_pred, x=\"days\", bins=400)\n",
    "plt.axvline(x=time_window, c='k')\n",
    "plt.legend([\"time window\", \"y_test\", \"y_pred\"]);"
   ]
  },
  {
   "cell_type": "markdown",
   "metadata": {},
   "source": [
    "We gradually classify HDDs as failing with substantial amount of HDDs classified around 100 and 50 days before failure. The day before failure we classify a lot of HDDs."
   ]
  },
  {
   "cell_type": "markdown",
   "metadata": {},
   "source": [
    "Plot ROC curve for understanding\n",
    "\n",
    "We use probabilities of 0 or 1 since our baseline model cannot output probabilities. How does this influence the ROC curve? Will we obtain a straight line? Almost..."
   ]
  },
  {
   "cell_type": "code",
   "execution_count": 24,
   "metadata": {},
   "outputs": [
    {
     "data": {
      "image/png": "[encoded data removed]",
      "text/plain": [
       "<Figure size 576x396 with 1 Axes>"
      ]
     },
     "metadata": {},
     "output_type": "display_data"
    }
   ],
   "source": [
    "from sklearn.metrics import roc_curve\n",
    "\n",
    "fpr, tpr, _ = roc_curve(y_test, y_pred)\n",
    "base = np.linspace(0,1,100)\n",
    "sns.lineplot(fpr, tpr)\n",
    "sns.lineplot(base, base)\n",
    "plt.xlabel(\"False Positive Rate\")\n",
    "plt.ylabel(\"True Positive Rate\")\n",
    "plt.legend([\"Baseline Model\", \"No Failure\"]);"
   ]
  },
  {
   "cell_type": "markdown",
   "metadata": {},
   "source": [
    "To sum up, our baseline model seems to be able to make an educated guess on our classification problem. Nevertheless, we are optimistic, that we can beat the baseline model in the course of this project."
   ]
  },
  {
   "cell_type": "markdown",
   "metadata": {},
   "source": [
    "## Logging on MLFlow"
   ]
  },
  {
   "cell_type": "code",
   "execution_count": 25,
   "metadata": {},
   "outputs": [],
   "source": [
    "#seting parameters that should be logged on MLFlow\n",
    "#these parameters were used in feature engineering (inputing missing values)\n",
    "#or parameters of the model (fit_intercept for Linear Regression model)\n",
    "params = {\n",
    "      \"thresholds\": threshold,\n",
    "      \"time_to_fail\": time_window,\n",
    "      \"features_above_threshold\": num_above_threshold,\n",
    "  }"
   ]
  },
  {
   "cell_type": "code",
   "execution_count": 26,
   "metadata": {},
   "outputs": [],
   "source": [
    "#logging params to mlflow\n",
    "mlflow.log_params(params)\n",
    "#setting tags\n",
    "mlflow.set_tag(\"running_from_jupyter\", \"True\")\n",
    "#logging metrics\n",
    "mlflow.log_metric(\"train_\" + \"recall\", recall_train)\n",
    "mlflow.log_metric(\"train_\" + \"area under roc curve\", auc_train)\n",
    "mlflow.log_metric(\"test_\" + \"recall\", recall_test)\n",
    "mlflow.log_metric(\"test_\" + \"area under roc curve\", auc_test)\n",
    "# logging the model to mlflow will not work without a AWS Connection setup.. too complex for now\n",
    "# but possible if running mlflow locally\n",
    "# mlflow.log_artifact(\"../models\")\n",
    "# mlflow.sklearn.log_model(reg, \"model\")\n",
    "mlflow.end_run()"
   ]
  },
  {
   "cell_type": "code",
   "execution_count": 27,
   "metadata": {},
   "outputs": [
    {
     "data": {
      "text/plain": [
       "<Run: data=<RunData: metrics={'test_area under roc curve': 0.6,\n",
       " 'test_recall': 0.22,\n",
       " 'train_area under roc curve': 0.58,\n",
       " 'train_recall': 0.21}, params={'features_above_threshold': '3',\n",
       " 'thresholds': 'smart_5_raw      0.0\\n'\n",
       "               'smart_183_raw    1.0\\n'\n",
       "               'smart_184_raw    0.0\\n'\n",
       "               'smart_187_raw    3.0\\n'\n",
       "               'Name: Threshold, dtype: float64',\n",
       " 'time_to_fail': '14'}, tags={'mlflow.source.git.commit': 'b28587a04b1dfd2b73c4ccd91abb9005dfc5e2dd',\n",
       " 'mlflow.source.name': '/Users/felix/neuefische/hdd-anomaly-detection/.venv/lib/python3.9/site-packages/ipykernel_launcher.py',\n",
       " 'mlflow.source.type': 'LOCAL',\n",
       " 'mlflow.user': 'felix',\n",
       " 'running_from_jupyter': 'True'}>, info=<RunInfo: artifact_uri='s3://neuefische-mlflow/mlflow-artifacts/44/57bb7e96368c4a8ab6643a77bca6e427/artifacts', end_time=1646925689888, experiment_id='44', lifecycle_stage='active', run_id='57bb7e96368c4a8ab6643a77bca6e427', run_uuid='57bb7e96368c4a8ab6643a77bca6e427', start_time=1646925687810, status='FINISHED', user_id='felix'>>"
      ]
     },
     "execution_count": 27,
     "metadata": {},
     "output_type": "execute_result"
    }
   ],
   "source": [
    "mlflow.get_run(run_id=run.info.run_id)"
   ]
  },
  {
   "cell_type": "code",
   "execution_count": 28,
   "metadata": {},
   "outputs": [
    {
     "name": "stdout",
     "output_type": "stream",
     "text": [
      "[2022-03-10 16:21:31 +0100] [28506] [INFO] Starting gunicorn 20.1.0\n",
      "[2022-03-10 16:21:31 +0100] [28506] [INFO] Listening at: http://127.0.0.1:5000 (28506)\n",
      "[2022-03-10 16:21:31 +0100] [28506] [INFO] Using worker: sync\n",
      "[2022-03-10 16:21:31 +0100] [28508] [INFO] Booting worker with pid: 28508\n",
      "^C\n",
      "[2022-03-10 16:22:14 +0100] [28506] [INFO] Handling signal: int\n",
      "[2022-03-10 16:22:14 +0100] [28508] [INFO] Worker exiting (pid: 28508)\n"
     ]
    }
   ],
   "source": [
    "#!mlflow ui"
   ]
  }
 ],
 "metadata": {
  "interpreter": {
   "hash": "154c2bf59eb31e71df54e9263924a6ea5cd0235545ed5cc0de50040e78b9c3e1"
  },
  "kernelspec": {
   "display_name": "Python 3.9.4 ('.venv': venv)",
   "language": "python",
   "name": "python3"
  },
  "language_info": {
   "codemirror_mode": {
    "name": "ipython",
    "version": 3
   },
   "file_extension": ".py",
   "mimetype": "text/x-python",
   "name": "python",
   "nbconvert_exporter": "python",
   "pygments_lexer": "ipython3",
   "version": "3.9.4"
  },
  "orig_nbformat": 4
 },
 "nbformat": 4,
 "nbformat_minor": 2
}
