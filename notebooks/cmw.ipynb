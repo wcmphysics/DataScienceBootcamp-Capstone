{
 "cells": [
  {
   "cell_type": "code",
   "execution_count": 1,
   "id": "fdf28a81-8405-4de6-82d3-de0842c6bd8d",
   "metadata": {},
   "outputs": [],
   "source": [
    "import pandas as pd\n",
    "import numpy as np\n",
    "import matplotlib.pyplot as plt\n",
    "import seaborn as sns"
   ]
  },
  {
   "cell_type": "code",
   "execution_count": 2,
   "id": "035a72ee-28fc-4c84-945b-469fa6702678",
   "metadata": {},
   "outputs": [
    {
     "name": "stdout",
     "output_type": "stream",
     "text": [
      "0          5396.0\n",
      "1         44577.0\n",
      "2          5796.0\n",
      "3         18657.0\n",
      "4          1509.0\n",
      "           ...   \n",
      "165571    16508.0\n",
      "165572    36201.0\n",
      "165573    33651.0\n",
      "165574    33649.0\n",
      "165575     1893.0\n",
      "Name: smart_9_raw, Length: 165576, dtype: float64\n",
      "0        NaN\n",
      "1        NaN\n",
      "2        NaN\n",
      "3        NaN\n",
      "4        NaN\n",
      "          ..\n",
      "165571   NaN\n",
      "165572   NaN\n",
      "165573   NaN\n",
      "165574   NaN\n",
      "165575   NaN\n",
      "Name: smart_231_raw, Length: 165576, dtype: float64\n",
      "0         30.0\n",
      "1         22.0\n",
      "2         40.0\n",
      "3         34.0\n",
      "4         28.0\n",
      "          ... \n",
      "165571    21.0\n",
      "165572    36.0\n",
      "165573    28.0\n",
      "165574    28.0\n",
      "165575    41.0\n",
      "Name: smart_194_raw, Length: 165576, dtype: float64\n"
     ]
    }
   ],
   "source": [
    "df_source = pd.read_csv(\"data_Q1_2021/2021-01-15.csv\", parse_dates=[\"date\"])\n",
    "df_source.head()\n",
    "print(df_source[\"smart_9_raw\"]) # power-on hours\n",
    "print(df_source[\"smart_231_raw\"]) # life left\n",
    "print(df_source[\"smart_194_raw\"]) # temperature"
   ]
  },
  {
   "cell_type": "code",
   "execution_count": 3,
   "id": "e49c8b56-3298-48e2-be45-c5725da92af9",
   "metadata": {},
   "outputs": [
    {
     "name": "stdout",
     "output_type": "stream",
     "text": [
      "<class 'pandas.core.frame.DataFrame'>\n",
      "RangeIndex: 165576 entries, 0 to 165575\n",
      "Columns: 149 entries, date to smart_255_raw\n",
      "dtypes: datetime64[ns](1), float64(144), int64(2), object(2)\n",
      "memory usage: 188.2+ MB\n"
     ]
    }
   ],
   "source": [
    "df_source.info()"
   ]
  },
  {
   "cell_type": "code",
   "execution_count": 4,
   "id": "fb13a365-5deb-48c3-957f-71a7de275aaf",
   "metadata": {},
   "outputs": [
    {
     "name": "stdout",
     "output_type": "stream",
     "text": [
      "Index(['date', 'serial_number', 'model', 'capacity_bytes', 'failure'], dtype='object')\n",
      "Index(['smart_1_raw', 'smart_2_raw', 'smart_3_raw', 'smart_4_raw',\n",
      "       'smart_5_raw', 'smart_7_raw', 'smart_8_raw', 'smart_9_raw',\n",
      "       'smart_10_raw', 'smart_11_raw', 'smart_12_raw', 'smart_13_raw',\n",
      "       'smart_15_raw', 'smart_16_raw', 'smart_17_raw', 'smart_18_raw',\n",
      "       'smart_22_raw', 'smart_23_raw', 'smart_24_raw', 'smart_168_raw',\n",
      "       'smart_170_raw', 'smart_173_raw', 'smart_174_raw', 'smart_175_raw',\n",
      "       'smart_177_raw', 'smart_179_raw', 'smart_180_raw', 'smart_181_raw',\n",
      "       'smart_182_raw', 'smart_183_raw', 'smart_184_raw', 'smart_187_raw',\n",
      "       'smart_188_raw', 'smart_189_raw', 'smart_190_raw', 'smart_191_raw',\n",
      "       'smart_192_raw', 'smart_193_raw', 'smart_194_raw', 'smart_195_raw',\n",
      "       'smart_196_raw', 'smart_197_raw', 'smart_198_raw', 'smart_199_raw',\n",
      "       'smart_200_raw', 'smart_201_raw', 'smart_202_raw', 'smart_206_raw',\n",
      "       'smart_210_raw', 'smart_218_raw', 'smart_220_raw', 'smart_222_raw',\n",
      "       'smart_223_raw', 'smart_224_raw', 'smart_225_raw', 'smart_226_raw',\n",
      "       'smart_231_raw', 'smart_232_raw', 'smart_233_raw', 'smart_234_raw',\n",
      "       'smart_235_raw', 'smart_240_raw', 'smart_241_raw', 'smart_242_raw',\n",
      "       'smart_245_raw', 'smart_247_raw', 'smart_248_raw', 'smart_250_raw',\n",
      "       'smart_251_raw', 'smart_252_raw', 'smart_254_raw', 'smart_255_raw'],\n",
      "      dtype='object')\n",
      "Index(['smart_1_normalized', 'smart_2_normalized', 'smart_3_normalized',\n",
      "       'smart_4_normalized', 'smart_5_normalized', 'smart_7_normalized',\n",
      "       'smart_8_normalized', 'smart_9_normalized', 'smart_10_normalized',\n",
      "       'smart_11_normalized', 'smart_12_normalized', 'smart_13_normalized',\n",
      "       'smart_15_normalized', 'smart_16_normalized', 'smart_17_normalized',\n",
      "       'smart_18_normalized', 'smart_22_normalized', 'smart_23_normalized',\n",
      "       'smart_24_normalized', 'smart_168_normalized', 'smart_170_normalized',\n",
      "       'smart_173_normalized', 'smart_174_normalized', 'smart_175_normalized',\n",
      "       'smart_177_normalized', 'smart_179_normalized', 'smart_180_normalized',\n",
      "       'smart_181_normalized', 'smart_182_normalized', 'smart_183_normalized',\n",
      "       'smart_184_normalized', 'smart_187_normalized', 'smart_188_normalized',\n",
      "       'smart_189_normalized', 'smart_190_normalized', 'smart_191_normalized',\n",
      "       'smart_192_normalized', 'smart_193_normalized', 'smart_194_normalized',\n",
      "       'smart_195_normalized', 'smart_196_normalized', 'smart_197_normalized',\n",
      "       'smart_198_normalized', 'smart_199_normalized', 'smart_200_normalized',\n",
      "       'smart_201_normalized', 'smart_202_normalized', 'smart_206_normalized',\n",
      "       'smart_210_normalized', 'smart_218_normalized', 'smart_220_normalized',\n",
      "       'smart_222_normalized', 'smart_223_normalized', 'smart_224_normalized',\n",
      "       'smart_225_normalized', 'smart_226_normalized', 'smart_231_normalized',\n",
      "       'smart_232_normalized', 'smart_233_normalized', 'smart_234_normalized',\n",
      "       'smart_235_normalized', 'smart_240_normalized', 'smart_241_normalized',\n",
      "       'smart_242_normalized', 'smart_245_normalized', 'smart_247_normalized',\n",
      "       'smart_248_normalized', 'smart_250_normalized', 'smart_251_normalized',\n",
      "       'smart_252_normalized', 'smart_254_normalized', 'smart_255_normalized'],\n",
      "      dtype='object')\n"
     ]
    }
   ],
   "source": [
    "# specify commonly used column names\n",
    "column_name_all = df_source.columns\n",
    "column_name_basic, column_name_smart = column_name_all[:5], column_name_all[5:]\n",
    "column_name_smart_raw = pd.Index([c for c in column_name_smart if \"raw\" in c ])\n",
    "column_name_smart_normalized = pd.Index([c for c in column_name_smart if \"normalized\" in c ])\n",
    "print(column_name_basic)\n",
    "print(column_name_smart_raw)\n",
    "print(column_name_smart_normalized)"
   ]
  },
  {
   "cell_type": "code",
   "execution_count": 5,
   "id": "7b791214-4293-4053-a63f-b9e13c1c62ee",
   "metadata": {},
   "outputs": [
    {
     "data": {
      "text/html": [
       "<div>\n",
       "<style scoped>\n",
       "    .dataframe tbody tr th:only-of-type {\n",
       "        vertical-align: middle;\n",
       "    }\n",
       "\n",
       "    .dataframe tbody tr th {\n",
       "        vertical-align: top;\n",
       "    }\n",
       "\n",
       "    .dataframe thead th {\n",
       "        text-align: right;\n",
       "    }\n",
       "</style>\n",
       "<table border=\"1\" class=\"dataframe\">\n",
       "  <thead>\n",
       "    <tr style=\"text-align: right;\">\n",
       "      <th></th>\n",
       "      <th>date</th>\n",
       "      <th>serial_number</th>\n",
       "      <th>model</th>\n",
       "      <th>capacity_bytes</th>\n",
       "      <th>failure</th>\n",
       "    </tr>\n",
       "  </thead>\n",
       "  <tbody>\n",
       "    <tr>\n",
       "      <th>0</th>\n",
       "      <td>2021-01-15</td>\n",
       "      <td>ZLW0EGC6</td>\n",
       "      <td>ST12000NM001G</td>\n",
       "      <td>12000138625024</td>\n",
       "      <td>0</td>\n",
       "    </tr>\n",
       "    <tr>\n",
       "      <th>1</th>\n",
       "      <td>2021-01-15</td>\n",
       "      <td>Z305B2QN</td>\n",
       "      <td>ST4000DM000</td>\n",
       "      <td>4000787030016</td>\n",
       "      <td>0</td>\n",
       "    </tr>\n",
       "    <tr>\n",
       "      <th>2</th>\n",
       "      <td>2021-01-15</td>\n",
       "      <td>ZLW0C6NE</td>\n",
       "      <td>ST12000NM001G</td>\n",
       "      <td>12000138625024</td>\n",
       "      <td>0</td>\n",
       "    </tr>\n",
       "    <tr>\n",
       "      <th>3</th>\n",
       "      <td>2021-01-15</td>\n",
       "      <td>ZJV0XJQ3</td>\n",
       "      <td>ST12000NM0007</td>\n",
       "      <td>12000138625024</td>\n",
       "      <td>0</td>\n",
       "    </tr>\n",
       "    <tr>\n",
       "      <th>4</th>\n",
       "      <td>2021-01-15</td>\n",
       "      <td>ZLW18MKT</td>\n",
       "      <td>ST14000NM001G</td>\n",
       "      <td>14000519643136</td>\n",
       "      <td>0</td>\n",
       "    </tr>\n",
       "  </tbody>\n",
       "</table>\n",
       "</div>"
      ],
      "text/plain": [
       "        date serial_number          model  capacity_bytes  failure\n",
       "0 2021-01-15      ZLW0EGC6  ST12000NM001G  12000138625024        0\n",
       "1 2021-01-15      Z305B2QN    ST4000DM000   4000787030016        0\n",
       "2 2021-01-15      ZLW0C6NE  ST12000NM001G  12000138625024        0\n",
       "3 2021-01-15      ZJV0XJQ3  ST12000NM0007  12000138625024        0\n",
       "4 2021-01-15      ZLW18MKT  ST14000NM001G  14000519643136        0"
      ]
     },
     "execution_count": 5,
     "metadata": {},
     "output_type": "execute_result"
    }
   ],
   "source": [
    "df = df_source[column_name_basic]\n",
    "df.head()"
   ]
  },
  {
   "cell_type": "code",
   "execution_count": 6,
   "id": "5544e37d-7c10-4cfe-a08e-d83f3a6fb546",
   "metadata": {},
   "outputs": [
    {
     "name": "stdout",
     "output_type": "stream",
     "text": [
      "<class 'pandas.core.frame.DataFrame'>\n",
      "RangeIndex: 165576 entries, 0 to 165575\n",
      "Data columns (total 5 columns):\n",
      " #   Column          Non-Null Count   Dtype         \n",
      "---  ------          --------------   -----         \n",
      " 0   date            165576 non-null  datetime64[ns]\n",
      " 1   serial_number   165576 non-null  object        \n",
      " 2   model           165576 non-null  object        \n",
      " 3   capacity_bytes  165576 non-null  int64         \n",
      " 4   failure         165576 non-null  int64         \n",
      "dtypes: datetime64[ns](1), int64(2), object(2)\n",
      "memory usage: 6.3+ MB\n"
     ]
    }
   ],
   "source": [
    "df.info()"
   ]
  },
  {
   "cell_type": "code",
   "execution_count": 7,
   "id": "1f559606-0637-4c5e-9798-c5afa1150646",
   "metadata": {},
   "outputs": [
    {
     "data": {
      "text/plain": [
       "date                   1\n",
       "serial_number     165576\n",
       "model                 59\n",
       "capacity_bytes        16\n",
       "failure                2\n",
       "dtype: int64"
      ]
     },
     "execution_count": 7,
     "metadata": {},
     "output_type": "execute_result"
    }
   ],
   "source": [
    "df.nunique()"
   ]
  },
  {
   "cell_type": "code",
   "execution_count": 8,
   "id": "91d7e2f9-c3e5-4042-b1aa-0c3f3078c279",
   "metadata": {},
   "outputs": [
    {
     "data": {
      "text/html": [
       "<div>\n",
       "<style scoped>\n",
       "    .dataframe tbody tr th:only-of-type {\n",
       "        vertical-align: middle;\n",
       "    }\n",
       "\n",
       "    .dataframe tbody tr th {\n",
       "        vertical-align: top;\n",
       "    }\n",
       "\n",
       "    .dataframe thead th {\n",
       "        text-align: right;\n",
       "    }\n",
       "</style>\n",
       "<table border=\"1\" class=\"dataframe\">\n",
       "  <thead>\n",
       "    <tr style=\"text-align: right;\">\n",
       "      <th></th>\n",
       "      <th>date</th>\n",
       "      <th>serial_number</th>\n",
       "      <th>model</th>\n",
       "      <th>capacity_bytes</th>\n",
       "    </tr>\n",
       "    <tr>\n",
       "      <th>failure</th>\n",
       "      <th></th>\n",
       "      <th></th>\n",
       "      <th></th>\n",
       "      <th></th>\n",
       "    </tr>\n",
       "  </thead>\n",
       "  <tbody>\n",
       "    <tr>\n",
       "      <th>0</th>\n",
       "      <td>165571</td>\n",
       "      <td>165571</td>\n",
       "      <td>165571</td>\n",
       "      <td>165571</td>\n",
       "    </tr>\n",
       "    <tr>\n",
       "      <th>1</th>\n",
       "      <td>5</td>\n",
       "      <td>5</td>\n",
       "      <td>5</td>\n",
       "      <td>5</td>\n",
       "    </tr>\n",
       "  </tbody>\n",
       "</table>\n",
       "</div>"
      ],
      "text/plain": [
       "           date  serial_number   model  capacity_bytes\n",
       "failure                                               \n",
       "0        165571         165571  165571          165571\n",
       "1             5              5       5               5"
      ]
     },
     "execution_count": 8,
     "metadata": {},
     "output_type": "execute_result"
    }
   ],
   "source": [
    "df.groupby(\"failure\").count()"
   ]
  },
  {
   "cell_type": "code",
   "execution_count": 9,
   "id": "ab31203a-7d67-4eac-995e-d04d47886725",
   "metadata": {},
   "outputs": [
    {
     "name": "stderr",
     "output_type": "stream",
     "text": [
      "/var/folders/4f/mz1b5sg57p7324fdvfrshs1c0000gn/T/ipykernel_9831/1743067324.py:2: SettingWithCopyWarning: \n",
      "A value is trying to be set on a copy of a slice from a DataFrame.\n",
      "Try using .loc[row_indexer,col_indexer] = value instead\n",
      "\n",
      "See the caveats in the documentation: https://pandas.pydata.org/pandas-docs/stable/user_guide/indexing.html#returning-a-view-versus-a-copy\n",
      "  df[\"capacity_gb\"] = df[\"capacity_bytes\"].apply(lambda x : x/gb2byte)\n"
     ]
    },
    {
     "data": {
      "text/html": [
       "<div>\n",
       "<style scoped>\n",
       "    .dataframe tbody tr th:only-of-type {\n",
       "        vertical-align: middle;\n",
       "    }\n",
       "\n",
       "    .dataframe tbody tr th {\n",
       "        vertical-align: top;\n",
       "    }\n",
       "\n",
       "    .dataframe thead th {\n",
       "        text-align: right;\n",
       "    }\n",
       "</style>\n",
       "<table border=\"1\" class=\"dataframe\">\n",
       "  <thead>\n",
       "    <tr style=\"text-align: right;\">\n",
       "      <th></th>\n",
       "      <th>date</th>\n",
       "      <th>serial_number</th>\n",
       "      <th>model</th>\n",
       "      <th>capacity_bytes</th>\n",
       "      <th>failure</th>\n",
       "      <th>capacity_gb</th>\n",
       "    </tr>\n",
       "  </thead>\n",
       "  <tbody>\n",
       "    <tr>\n",
       "      <th>0</th>\n",
       "      <td>2021-01-15</td>\n",
       "      <td>ZLW0EGC6</td>\n",
       "      <td>ST12000NM001G</td>\n",
       "      <td>12000138625024</td>\n",
       "      <td>0</td>\n",
       "      <td>11176.000000</td>\n",
       "    </tr>\n",
       "    <tr>\n",
       "      <th>1</th>\n",
       "      <td>2021-01-15</td>\n",
       "      <td>Z305B2QN</td>\n",
       "      <td>ST4000DM000</td>\n",
       "      <td>4000787030016</td>\n",
       "      <td>0</td>\n",
       "      <td>3726.023277</td>\n",
       "    </tr>\n",
       "    <tr>\n",
       "      <th>2</th>\n",
       "      <td>2021-01-15</td>\n",
       "      <td>ZLW0C6NE</td>\n",
       "      <td>ST12000NM001G</td>\n",
       "      <td>12000138625024</td>\n",
       "      <td>0</td>\n",
       "      <td>11176.000000</td>\n",
       "    </tr>\n",
       "    <tr>\n",
       "      <th>3</th>\n",
       "      <td>2021-01-15</td>\n",
       "      <td>ZJV0XJQ3</td>\n",
       "      <td>ST12000NM0007</td>\n",
       "      <td>12000138625024</td>\n",
       "      <td>0</td>\n",
       "      <td>11176.000000</td>\n",
       "    </tr>\n",
       "    <tr>\n",
       "      <th>4</th>\n",
       "      <td>2021-01-15</td>\n",
       "      <td>ZLW18MKT</td>\n",
       "      <td>ST14000NM001G</td>\n",
       "      <td>14000519643136</td>\n",
       "      <td>0</td>\n",
       "      <td>13039.000000</td>\n",
       "    </tr>\n",
       "  </tbody>\n",
       "</table>\n",
       "</div>"
      ],
      "text/plain": [
       "        date serial_number          model  capacity_bytes  failure  \\\n",
       "0 2021-01-15      ZLW0EGC6  ST12000NM001G  12000138625024        0   \n",
       "1 2021-01-15      Z305B2QN    ST4000DM000   4000787030016        0   \n",
       "2 2021-01-15      ZLW0C6NE  ST12000NM001G  12000138625024        0   \n",
       "3 2021-01-15      ZJV0XJQ3  ST12000NM0007  12000138625024        0   \n",
       "4 2021-01-15      ZLW18MKT  ST14000NM001G  14000519643136        0   \n",
       "\n",
       "    capacity_gb  \n",
       "0  11176.000000  \n",
       "1   3726.023277  \n",
       "2  11176.000000  \n",
       "3  11176.000000  \n",
       "4  13039.000000  "
      ]
     },
     "execution_count": 9,
     "metadata": {},
     "output_type": "execute_result"
    }
   ],
   "source": [
    "gb2byte = 1024**3\n",
    "df[\"capacity_gb\"] = df[\"capacity_bytes\"].apply(lambda x : x/gb2byte)\n",
    "df.head()"
   ]
  },
  {
   "cell_type": "code",
   "execution_count": 10,
   "id": "f1b10700-17ee-4da9-abae-0cb4f16529aa",
   "metadata": {},
   "outputs": [
    {
     "data": {
      "image/png": "[encoded data removed]",
      "text/plain": [
       "<Figure size 432x288 with 1 Axes>"
      ]
     },
     "metadata": {},
     "output_type": "display_data"
    }
   ],
   "source": [
    "sns.set(rc={'figure.facecolor': \"lightgray\"})\n",
    "ax = sns.scatterplot(data=df, x=\"capacity_gb\", y=\"failure\")"
   ]
  },
  {
   "cell_type": "code",
   "execution_count": 11,
   "id": "7bc0cdb7-fef3-4498-b113-047188351aaf",
   "metadata": {},
   "outputs": [
    {
     "data": {
      "text/html": [
       "<div>\n",
       "<style scoped>\n",
       "    .dataframe tbody tr th:only-of-type {\n",
       "        vertical-align: middle;\n",
       "    }\n",
       "\n",
       "    .dataframe tbody tr th {\n",
       "        vertical-align: top;\n",
       "    }\n",
       "\n",
       "    .dataframe thead th {\n",
       "        text-align: right;\n",
       "    }\n",
       "</style>\n",
       "<table border=\"1\" class=\"dataframe\">\n",
       "  <thead>\n",
       "    <tr style=\"text-align: right;\">\n",
       "      <th></th>\n",
       "      <th>date</th>\n",
       "      <th>serial_number</th>\n",
       "      <th>model</th>\n",
       "      <th>capacity_bytes</th>\n",
       "      <th>failure</th>\n",
       "      <th>capacity_gb</th>\n",
       "    </tr>\n",
       "  </thead>\n",
       "  <tbody>\n",
       "    <tr>\n",
       "      <th>11388</th>\n",
       "      <td>2021-01-15</td>\n",
       "      <td>ZLW0GGTP</td>\n",
       "      <td>ST12000NM001G</td>\n",
       "      <td>12000138625024</td>\n",
       "      <td>1</td>\n",
       "      <td>11176.000000</td>\n",
       "    </tr>\n",
       "    <tr>\n",
       "      <th>30706</th>\n",
       "      <td>2021-01-15</td>\n",
       "      <td>S300Z7MC</td>\n",
       "      <td>ST4000DM000</td>\n",
       "      <td>4000787030016</td>\n",
       "      <td>1</td>\n",
       "      <td>3726.023277</td>\n",
       "    </tr>\n",
       "    <tr>\n",
       "      <th>105299</th>\n",
       "      <td>2021-01-15</td>\n",
       "      <td>ZA1261TF</td>\n",
       "      <td>ST8000DM002</td>\n",
       "      <td>8001563222016</td>\n",
       "      <td>1</td>\n",
       "      <td>7452.036461</td>\n",
       "    </tr>\n",
       "    <tr>\n",
       "      <th>131001</th>\n",
       "      <td>2021-01-15</td>\n",
       "      <td>ZR501221</td>\n",
       "      <td>ST18000NM000J</td>\n",
       "      <td>18000207937536</td>\n",
       "      <td>1</td>\n",
       "      <td>16764.000000</td>\n",
       "    </tr>\n",
       "    <tr>\n",
       "      <th>144717</th>\n",
       "      <td>2021-01-15</td>\n",
       "      <td>ZLW0C6YV</td>\n",
       "      <td>ST12000NM001G</td>\n",
       "      <td>12000138625024</td>\n",
       "      <td>1</td>\n",
       "      <td>11176.000000</td>\n",
       "    </tr>\n",
       "  </tbody>\n",
       "</table>\n",
       "</div>"
      ],
      "text/plain": [
       "             date serial_number          model  capacity_bytes  failure  \\\n",
       "11388  2021-01-15      ZLW0GGTP  ST12000NM001G  12000138625024        1   \n",
       "30706  2021-01-15      S300Z7MC    ST4000DM000   4000787030016        1   \n",
       "105299 2021-01-15      ZA1261TF    ST8000DM002   8001563222016        1   \n",
       "131001 2021-01-15      ZR501221  ST18000NM000J  18000207937536        1   \n",
       "144717 2021-01-15      ZLW0C6YV  ST12000NM001G  12000138625024        1   \n",
       "\n",
       "         capacity_gb  \n",
       "11388   11176.000000  \n",
       "30706    3726.023277  \n",
       "105299   7452.036461  \n",
       "131001  16764.000000  \n",
       "144717  11176.000000  "
      ]
     },
     "execution_count": 11,
     "metadata": {},
     "output_type": "execute_result"
    }
   ],
   "source": [
    "df.query(\"failure==1\")"
   ]
  },
  {
   "cell_type": "code",
   "execution_count": 12,
   "id": "946801e5",
   "metadata": {},
   "outputs": [],
   "source": [
    "# setup for reading time series\n",
    "#serials = ['ZLW0EGC6', 'Z305B2QN', 'ZLW0C6NE', 'ZJV0XJQ3', 'ZLW18MKT', 'ZLW0GGTP']\n",
    "serials = ['ZLW0EGC6', 'ZLW0GGTP']\n",
    "start_date = \"2021-01-11\"\n",
    "end_date = \"2021-01-16\"\n",
    "days = pd.Period(end_date).dayofyear - pd.Period(start_date).dayofyear + 1\n",
    "column_to_save = ['date', 'serial_number', 'model', 'capacity_bytes', 'failure', 'smart_1_normalized']\n",
    "#column_to_save = ['date', 'capacity_bytes', 'failure', 'smart_1_normalized']\n",
    "#column_to_save = column_name_all"
   ]
  },
  {
   "cell_type": "markdown",
   "id": "414a96c1",
   "metadata": {},
   "source": [
    "# Prepare the DataFrame for Time Series"
   ]
  },
  {
   "cell_type": "code",
   "execution_count": 13,
   "id": "860e6e5b-408f-4896-ba25-823f5c3bf742",
   "metadata": {},
   "outputs": [
    {
     "name": "stdout",
     "output_type": "stream",
     "text": [
      "Read files for building time series from 2021-01-11 to 2021-01-16; totally 6 days; 2 serials\n",
      "  reading data for the date 2021-01-11; progress: 1/6\n",
      "  reading data for the date 2021-01-12; progress: 2/6\n",
      "  reading data for the date 2021-01-13; progress: 3/6\n",
      "  reading data for the date 2021-01-14; progress: 4/6\n",
      "  reading data for the date 2021-01-15; progress: 5/6\n",
      "  reading data for the date 2021-01-16; progress: 6/6\n",
      "Time series was read successfully\n",
      "Memory used for dataframe: 0.0 GB\n"
     ]
    }
   ],
   "source": [
    "# create a list of empty dataframes for concatenation later\n",
    "time_series_dataset = []\n",
    "for serial in serials:\n",
    "    time_series_dataset.append(pd.DataFrame([], columns=column_to_save))\n",
    "\n",
    "memory_used = 0\n",
    "memory_warning_displayed = False\n",
    "print(f\"Read files for building time series from {start_date} to {end_date}; totally {days} days; {len(serials)} serials\")\n",
    "for day in range(days):\n",
    "    date = pd.Period(start_date) + day\n",
    "    print(f\"  reading data for the date {date}; progress: {day+1}/{days}\")\n",
    "    file_path = \"data_Q1_2021/\" + str(date) + \".csv\"\n",
    "    df_tmp = pd.read_csv(file_path, parse_dates=[\"date\"])\n",
    "    for i, serial in enumerate(serials):\n",
    "        df_tmp_serial = df_tmp.query(\"serial_number == @serial\")[column_to_save]\n",
    "        time_series_dataset[i] = pd.concat([time_series_dataset[i], df_tmp_serial], ignore_index=True)\n",
    "        memory_used += time_series_dataset[i].memory_usage(deep=True).sum()\n",
    "    if memory_used/1024**3 > 1 and not memory_warning_displayed:\n",
    "        print(\" ### Warning: memory used for time-series dataframe > 1 GB ###\")\n",
    "        memory_warning_displayed = True\n",
    "\n",
    "print(\"Time series was read successfully\")\n",
    "print(f\"Memory used for dataframe: {(memory_used/1024**3).round(3)} GB\")"
   ]
  },
  {
   "cell_type": "code",
   "execution_count": 14,
   "id": "bb47dec7",
   "metadata": {},
   "outputs": [
    {
     "data": {
      "text/html": [
       "<div>\n",
       "<style scoped>\n",
       "    .dataframe tbody tr th:only-of-type {\n",
       "        vertical-align: middle;\n",
       "    }\n",
       "\n",
       "    .dataframe tbody tr th {\n",
       "        vertical-align: top;\n",
       "    }\n",
       "\n",
       "    .dataframe thead th {\n",
       "        text-align: right;\n",
       "    }\n",
       "</style>\n",
       "<table border=\"1\" class=\"dataframe\">\n",
       "  <thead>\n",
       "    <tr style=\"text-align: right;\">\n",
       "      <th></th>\n",
       "      <th>date</th>\n",
       "      <th>serial_number</th>\n",
       "      <th>model</th>\n",
       "      <th>capacity_bytes</th>\n",
       "      <th>failure</th>\n",
       "      <th>smart_1_normalized</th>\n",
       "    </tr>\n",
       "  </thead>\n",
       "  <tbody>\n",
       "    <tr>\n",
       "      <th>0</th>\n",
       "      <td>2021-01-11</td>\n",
       "      <td>ZLW0GGTP</td>\n",
       "      <td>ST12000NM001G</td>\n",
       "      <td>12000138625024</td>\n",
       "      <td>0</td>\n",
       "      <td>83.0</td>\n",
       "    </tr>\n",
       "    <tr>\n",
       "      <th>1</th>\n",
       "      <td>2021-01-12</td>\n",
       "      <td>ZLW0GGTP</td>\n",
       "      <td>ST12000NM001G</td>\n",
       "      <td>12000138625024</td>\n",
       "      <td>0</td>\n",
       "      <td>83.0</td>\n",
       "    </tr>\n",
       "    <tr>\n",
       "      <th>2</th>\n",
       "      <td>2021-01-13</td>\n",
       "      <td>ZLW0GGTP</td>\n",
       "      <td>ST12000NM001G</td>\n",
       "      <td>12000138625024</td>\n",
       "      <td>0</td>\n",
       "      <td>100.0</td>\n",
       "    </tr>\n",
       "    <tr>\n",
       "      <th>3</th>\n",
       "      <td>2021-01-14</td>\n",
       "      <td>ZLW0GGTP</td>\n",
       "      <td>ST12000NM001G</td>\n",
       "      <td>12000138625024</td>\n",
       "      <td>0</td>\n",
       "      <td>84.0</td>\n",
       "    </tr>\n",
       "    <tr>\n",
       "      <th>4</th>\n",
       "      <td>2021-01-15</td>\n",
       "      <td>ZLW0GGTP</td>\n",
       "      <td>ST12000NM001G</td>\n",
       "      <td>12000138625024</td>\n",
       "      <td>1</td>\n",
       "      <td>81.0</td>\n",
       "    </tr>\n",
       "  </tbody>\n",
       "</table>\n",
       "</div>"
      ],
      "text/plain": [
       "        date serial_number          model  capacity_bytes failure  \\\n",
       "0 2021-01-11      ZLW0GGTP  ST12000NM001G  12000138625024       0   \n",
       "1 2021-01-12      ZLW0GGTP  ST12000NM001G  12000138625024       0   \n",
       "2 2021-01-13      ZLW0GGTP  ST12000NM001G  12000138625024       0   \n",
       "3 2021-01-14      ZLW0GGTP  ST12000NM001G  12000138625024       0   \n",
       "4 2021-01-15      ZLW0GGTP  ST12000NM001G  12000138625024       1   \n",
       "\n",
       "   smart_1_normalized  \n",
       "0                83.0  \n",
       "1                83.0  \n",
       "2               100.0  \n",
       "3                84.0  \n",
       "4                81.0  "
      ]
     },
     "execution_count": 14,
     "metadata": {},
     "output_type": "execute_result"
    }
   ],
   "source": [
    "# check the dataframe of a HDD specified by choice\n",
    "choice = 1\n",
    "time_series_dataset[choice].head(5)"
   ]
  },
  {
   "cell_type": "code",
   "execution_count": 15,
   "id": "74916c7a",
   "metadata": {},
   "outputs": [
    {
     "name": "stdout",
     "output_type": "stream",
     "text": [
      "<class 'pandas.core.frame.DataFrame'>\n",
      "RangeIndex: 5 entries, 0 to 4\n",
      "Data columns (total 6 columns):\n",
      " #   Column              Non-Null Count  Dtype         \n",
      "---  ------              --------------  -----         \n",
      " 0   date                5 non-null      datetime64[ns]\n",
      " 1   serial_number       5 non-null      object        \n",
      " 2   model               5 non-null      object        \n",
      " 3   capacity_bytes      5 non-null      object        \n",
      " 4   failure             5 non-null      object        \n",
      " 5   smart_1_normalized  5 non-null      float64       \n",
      "dtypes: datetime64[ns](1), float64(1), object(4)\n",
      "memory usage: 368.0+ bytes\n"
     ]
    }
   ],
   "source": [
    "time_series_dataset[choice].info()"
   ]
  },
  {
   "cell_type": "code",
   "execution_count": 16,
   "id": "f86b9104",
   "metadata": {},
   "outputs": [
    {
     "data": {
      "image/png": "[encoded data removed]",
      "text/plain": [
       "<Figure size 432x288 with 1 Axes>"
      ]
     },
     "metadata": {},
     "output_type": "display_data"
    }
   ],
   "source": [
    "sns.set(rc={'figure.facecolor': \"lightgray\"})\n",
    "ax = sns.lineplot(data=time_series_dataset[choice], x=\"date\", y=\"smart_1_normalized\")"
   ]
  },
  {
   "cell_type": "code",
   "execution_count": 17,
   "id": "b33fba51",
   "metadata": {},
   "outputs": [
    {
     "name": "stdout",
     "output_type": "stream",
     "text": [
      "Save read time series to csv files\n",
      "  save to \"time_series/ZLW0EGC6_2021-01-11_to_2021-01-16.csv\"; progress 0/2\n",
      "  save to \"time_series/ZLW0GGTP_2021-01-11_to_2021-01-16.csv\"; progress 1/2\n",
      "Time series are saved successfully\n"
     ]
    }
   ],
   "source": [
    "print(\"Save read time series to csv files\")\n",
    "for i, serial in enumerate(serials):\n",
    "    file_path = \"time_series/\" + serial + \"_\" + start_date + \"_to_\" + end_date + \".csv\" \n",
    "    time_series_dataset[i].to_csv(file_path)\n",
    "    print(f\"  save to \\\"{file_path}\\\"; progress {i}/{len(serials)}\")\n",
    "print(\"Time series are saved successfully\")"
   ]
  },
  {
   "cell_type": "code",
   "execution_count": 18,
   "id": "ed6c11f5",
   "metadata": {},
   "outputs": [
    {
     "data": {
      "image/png": "[encoded data removed]",
      "text/plain": [
       "<Figure size 432x288 with 1 Axes>"
      ]
     },
     "metadata": {},
     "output_type": "display_data"
    }
   ],
   "source": [
    "sns.set(rc={'figure.facecolor': \"lightgray\"})\n",
    "for i, serial in enumerate(serials):\n",
    "    ax = sns.lineplot(data=time_series_dataset[i], x=\"date\", y=\"smart_1_normalized\")"
   ]
  },
  {
   "cell_type": "code",
   "execution_count": null,
   "id": "0b41271e",
   "metadata": {},
   "outputs": [],
   "source": []
  }
 ],
 "metadata": {
  "kernelspec": {
   "display_name": "Python 3 (ipykernel)",
   "language": "python",
   "name": "python3"
  },
  "language_info": {
   "codemirror_mode": {
    "name": "ipython",
    "version": 3
   },
   "file_extension": ".py",
   "mimetype": "text/x-python",
   "name": "python",
   "nbconvert_exporter": "python",
   "pygments_lexer": "ipython3",
   "version": "3.9.4"
  }
 },
 "nbformat": 4,
 "nbformat_minor": 5
}
