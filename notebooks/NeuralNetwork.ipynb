{
 "cells": [
  {
   "cell_type": "code",
   "execution_count": 1,
   "metadata": {},
   "outputs": [],
   "source": [
    "import pandas as pd\n",
    "import numpy as np\n",
    "import matplotlib.pyplot as plt\n",
    "import seaborn as sns\n",
    "plt.style.use('seaborn')\n",
    "\n",
    "from sklearn.model_selection import train_test_split\n",
    "from sklearn.preprocessing import MinMaxScaler\n",
    "from sklearn.metrics import roc_auc_score, RocCurveDisplay, fbeta_score, accuracy_score, precision_score, recall_score, precision_recall_curve, confusion_matrix\n",
    "\n",
    "\n",
    "import tensorflow as tf\n",
    "from tensorflow.keras.utils import plot_model\n",
    "\n",
    "import keras \n",
    "from keras.models import Sequential # intitialize the ANN\n",
    "from keras.layers import Dense, Activation, Dropout      # create layers\n",
    "from keras.metrics import CategoricalAccuracy, Recall, Precision, AUC\n",
    "\n",
    "\n",
    "import os\n",
    "import sys\n",
    "sys.path.append(\"..\")\n",
    "from src.data.preprocessing import load_preprocess_data\n",
    "from src.features.feature_engineering import create_features, unwrap_smart_7"
   ]
  },
  {
   "cell_type": "markdown",
   "metadata": {},
   "source": [
    "# Read Data"
   ]
  },
  {
   "cell_type": "code",
   "execution_count": 2,
   "metadata": {},
   "outputs": [
    {
     "name": "stderr",
     "output_type": "stream",
     "text": [
      "  0%|          | 0/608 [00:00<?, ?it/s]../src/features/feature_engineering.py:117: SettingWithCopyWarning: \n",
      "A value is trying to be set on a copy of a slice from a DataFrame\n",
      "\n",
      "See the caveats in the documentation: https://pandas.pydata.org/pandas-docs/stable/user_guide/indexing.html#returning-a-view-versus-a-copy\n",
      "  df.smart_7_mod[temp_data.index] = temp_data.smart_7_raw\n",
      "100%|██████████| 608/608 [00:12<00:00, 47.74it/s]\n",
      "100%|██████████| 608/608 [00:13<00:00, 45.54it/s]\n"
     ]
    }
   ],
   "source": [
    "# read data\n",
    "repo_path = os.getcwd() + \"/../\"\n",
    "df_source = load_preprocess_data(path=repo_path)\n",
    "df = create_features(df_source, interval=30, trigger_percentage=0.05)\n",
    "df = unwrap_smart_7(df)"
   ]
  },
  {
   "cell_type": "markdown",
   "metadata": {},
   "source": [
    "# Check Duplicates"
   ]
  },
  {
   "cell_type": "code",
   "execution_count": 3,
   "metadata": {},
   "outputs": [
    {
     "name": "stdout",
     "output_type": "stream",
     "text": [
      "Number of failed days: 610\n",
      "Number of unique serial number on the failed day: 608\n",
      "There 2 duplicates\n",
      "   duplicated serial numbers ['Z302SQFX', 'Z303VDR4']\n",
      "Number of rows before drop: 462966\n",
      "Number of rows after drop: 462964\n"
     ]
    }
   ],
   "source": [
    "serials_failed = df_source.query(\"failure == 1\")[\"serial_number\"].to_list()\n",
    "serials_failed_unique = set(serials_failed)\n",
    "print(\"Number of failed days:\", len(serials_failed))\n",
    "print(\"Number of unique serial number on the failed day:\", len(serials_failed_unique))\n",
    "tmp = serials_failed[:]\n",
    "for serial in serials_failed_unique:\n",
    "    tmp.remove(serial)\n",
    "\n",
    "if len(tmp) == 0:\n",
    "    print(\"There is no duplicate\")\n",
    "else:\n",
    "    print(f\"There {len(tmp)} duplicates\")\n",
    "    print(\"   duplicated serial numbers\",tmp)\n",
    "    df.drop(298155, inplace=True)\n",
    "    df.drop(309081, inplace=True)\n",
    "    df.reset_index(inplace=True)\n",
    "    print(\"Number of rows before drop:\", len(df_source))\n",
    "    print(\"Number of rows after drop:\", len(df))   "
   ]
  },
  {
   "cell_type": "markdown",
   "metadata": {},
   "source": [
    "# Create Target and Features"
   ]
  },
  {
   "cell_type": "code",
   "execution_count": 4,
   "metadata": {},
   "outputs": [],
   "source": [
    "def get_smart_999_accumulated(df_in):\n",
    "    df_tmp = df_in.drop([\"index\"], axis=1).copy()\n",
    "    serials = df_tmp['serial_number'].unique()\n",
    "    #serials = serials[0:2]\n",
    "    #print(serials)\n",
    "    for i, serial in enumerate(serials):\n",
    "        df_serial = df_tmp.query('serial_number == @serial').sort_values(by='date').reset_index(drop=True)\n",
    "        df_serial['smart_999_accumulated'] = df_serial['smart_999'].cumsum()\n",
    "        if i == 0:\n",
    "            df = df_serial.copy()\n",
    "        else:\n",
    "            df = pd.concat([df, df_serial], ignore_index=True)\n",
    "    return df"
   ]
  },
  {
   "cell_type": "code",
   "execution_count": 5,
   "metadata": {},
   "outputs": [
    {
     "data": {
      "text/html": [
       "<div>\n",
       "<style scoped>\n",
       "    .dataframe tbody tr th:only-of-type {\n",
       "        vertical-align: middle;\n",
       "    }\n",
       "\n",
       "    .dataframe tbody tr th {\n",
       "        vertical-align: top;\n",
       "    }\n",
       "\n",
       "    .dataframe thead th {\n",
       "        text-align: right;\n",
       "    }\n",
       "</style>\n",
       "<table border=\"1\" class=\"dataframe\">\n",
       "  <thead>\n",
       "    <tr style=\"text-align: right;\">\n",
       "      <th></th>\n",
       "      <th>date</th>\n",
       "      <th>serial_number</th>\n",
       "      <th>model</th>\n",
       "      <th>failure</th>\n",
       "      <th>smart_1_raw</th>\n",
       "      <th>smart_4_raw</th>\n",
       "      <th>smart_5_raw</th>\n",
       "      <th>smart_7_raw</th>\n",
       "      <th>smart_9_raw</th>\n",
       "      <th>smart_12_raw</th>\n",
       "      <th>...</th>\n",
       "      <th>smart_188_raw_trigger</th>\n",
       "      <th>smart_189_raw_trigger</th>\n",
       "      <th>smart_193_raw_trigger</th>\n",
       "      <th>smart_192_raw_trigger</th>\n",
       "      <th>smart_197_raw_trigger</th>\n",
       "      <th>smart_198_raw_trigger</th>\n",
       "      <th>smart_199_raw_trigger</th>\n",
       "      <th>smart_999</th>\n",
       "      <th>smart_999_accumulated</th>\n",
       "      <th>failure_in_30_days</th>\n",
       "    </tr>\n",
       "  </thead>\n",
       "  <tbody>\n",
       "    <tr>\n",
       "      <th>0</th>\n",
       "      <td>2019-01-01</td>\n",
       "      <td>Z304JG86</td>\n",
       "      <td>ST4000DM000</td>\n",
       "      <td>0</td>\n",
       "      <td>168829568.0</td>\n",
       "      <td>10.0</td>\n",
       "      <td>0.0</td>\n",
       "      <td>257899631.0</td>\n",
       "      <td>27368.0</td>\n",
       "      <td>10.0</td>\n",
       "      <td>...</td>\n",
       "      <td>False</td>\n",
       "      <td>False</td>\n",
       "      <td>False</td>\n",
       "      <td>False</td>\n",
       "      <td>False</td>\n",
       "      <td>False</td>\n",
       "      <td>False</td>\n",
       "      <td>0</td>\n",
       "      <td>0</td>\n",
       "      <td>0</td>\n",
       "    </tr>\n",
       "    <tr>\n",
       "      <th>1</th>\n",
       "      <td>2019-01-02</td>\n",
       "      <td>Z304JG86</td>\n",
       "      <td>ST4000DM000</td>\n",
       "      <td>0</td>\n",
       "      <td>50913560.0</td>\n",
       "      <td>10.0</td>\n",
       "      <td>0.0</td>\n",
       "      <td>259688596.0</td>\n",
       "      <td>27392.0</td>\n",
       "      <td>10.0</td>\n",
       "      <td>...</td>\n",
       "      <td>False</td>\n",
       "      <td>False</td>\n",
       "      <td>False</td>\n",
       "      <td>False</td>\n",
       "      <td>False</td>\n",
       "      <td>False</td>\n",
       "      <td>False</td>\n",
       "      <td>0</td>\n",
       "      <td>0</td>\n",
       "      <td>0</td>\n",
       "    </tr>\n",
       "    <tr>\n",
       "      <th>2</th>\n",
       "      <td>2019-01-03</td>\n",
       "      <td>Z304JG86</td>\n",
       "      <td>ST4000DM000</td>\n",
       "      <td>0</td>\n",
       "      <td>176805800.0</td>\n",
       "      <td>10.0</td>\n",
       "      <td>0.0</td>\n",
       "      <td>261018343.0</td>\n",
       "      <td>27416.0</td>\n",
       "      <td>10.0</td>\n",
       "      <td>...</td>\n",
       "      <td>False</td>\n",
       "      <td>False</td>\n",
       "      <td>False</td>\n",
       "      <td>False</td>\n",
       "      <td>False</td>\n",
       "      <td>False</td>\n",
       "      <td>False</td>\n",
       "      <td>0</td>\n",
       "      <td>0</td>\n",
       "      <td>0</td>\n",
       "    </tr>\n",
       "    <tr>\n",
       "      <th>3</th>\n",
       "      <td>2019-01-04</td>\n",
       "      <td>Z304JG86</td>\n",
       "      <td>ST4000DM000</td>\n",
       "      <td>0</td>\n",
       "      <td>217666344.0</td>\n",
       "      <td>10.0</td>\n",
       "      <td>0.0</td>\n",
       "      <td>261751900.0</td>\n",
       "      <td>27440.0</td>\n",
       "      <td>10.0</td>\n",
       "      <td>...</td>\n",
       "      <td>False</td>\n",
       "      <td>False</td>\n",
       "      <td>False</td>\n",
       "      <td>False</td>\n",
       "      <td>False</td>\n",
       "      <td>False</td>\n",
       "      <td>False</td>\n",
       "      <td>0</td>\n",
       "      <td>0</td>\n",
       "      <td>0</td>\n",
       "    </tr>\n",
       "    <tr>\n",
       "      <th>4</th>\n",
       "      <td>2019-01-05</td>\n",
       "      <td>Z304JG86</td>\n",
       "      <td>ST4000DM000</td>\n",
       "      <td>0</td>\n",
       "      <td>218092400.0</td>\n",
       "      <td>10.0</td>\n",
       "      <td>0.0</td>\n",
       "      <td>263166092.0</td>\n",
       "      <td>27464.0</td>\n",
       "      <td>10.0</td>\n",
       "      <td>...</td>\n",
       "      <td>False</td>\n",
       "      <td>False</td>\n",
       "      <td>False</td>\n",
       "      <td>False</td>\n",
       "      <td>False</td>\n",
       "      <td>False</td>\n",
       "      <td>False</td>\n",
       "      <td>0</td>\n",
       "      <td>0</td>\n",
       "      <td>0</td>\n",
       "    </tr>\n",
       "  </tbody>\n",
       "</table>\n",
       "<p>5 rows × 66 columns</p>\n",
       "</div>"
      ],
      "text/plain": [
       "        date serial_number        model  failure  smart_1_raw  smart_4_raw  \\\n",
       "0 2019-01-01      Z304JG86  ST4000DM000        0  168829568.0         10.0   \n",
       "1 2019-01-02      Z304JG86  ST4000DM000        0   50913560.0         10.0   \n",
       "2 2019-01-03      Z304JG86  ST4000DM000        0  176805800.0         10.0   \n",
       "3 2019-01-04      Z304JG86  ST4000DM000        0  217666344.0         10.0   \n",
       "4 2019-01-05      Z304JG86  ST4000DM000        0  218092400.0         10.0   \n",
       "\n",
       "   smart_5_raw  smart_7_raw  smart_9_raw  smart_12_raw  ...  \\\n",
       "0          0.0  257899631.0      27368.0          10.0  ...   \n",
       "1          0.0  259688596.0      27392.0          10.0  ...   \n",
       "2          0.0  261018343.0      27416.0          10.0  ...   \n",
       "3          0.0  261751900.0      27440.0          10.0  ...   \n",
       "4          0.0  263166092.0      27464.0          10.0  ...   \n",
       "\n",
       "   smart_188_raw_trigger  smart_189_raw_trigger  smart_193_raw_trigger  \\\n",
       "0                  False                  False                  False   \n",
       "1                  False                  False                  False   \n",
       "2                  False                  False                  False   \n",
       "3                  False                  False                  False   \n",
       "4                  False                  False                  False   \n",
       "\n",
       "   smart_192_raw_trigger  smart_197_raw_trigger  smart_198_raw_trigger  \\\n",
       "0                  False                  False                  False   \n",
       "1                  False                  False                  False   \n",
       "2                  False                  False                  False   \n",
       "3                  False                  False                  False   \n",
       "4                  False                  False                  False   \n",
       "\n",
       "   smart_199_raw_trigger  smart_999  smart_999_accumulated  failure_in_30_days  \n",
       "0                  False          0                      0                   0  \n",
       "1                  False          0                      0                   0  \n",
       "2                  False          0                      0                   0  \n",
       "3                  False          0                      0                   0  \n",
       "4                  False          0                      0                   0  \n",
       "\n",
       "[5 rows x 66 columns]"
      ]
     },
     "execution_count": 5,
     "metadata": {},
     "output_type": "execute_result"
    }
   ],
   "source": [
    "# select features\n",
    "\"\"\"\n",
    "cols = ['date', 'serial_number', 'model', 'failure', 'smart_1_raw',\n",
    "       'smart_4_raw', 'smart_5_raw', 'smart_7_mod', 'smart_9_raw',\n",
    "       'smart_12_raw', 'smart_183_raw', 'smart_184_raw', 'smart_187_raw',\n",
    "       'smart_188_raw', 'smart_189_raw', 'smart_190_raw', 'smart_192_raw',\n",
    "       'smart_193_raw', 'smart_194_raw', 'smart_197_raw', 'smart_198_raw',\n",
    "       'smart_199_raw', 'smart_240_raw', 'smart_241_raw', 'smart_242_raw',\n",
    "       'date_failure', 'countdown','smart_999']\n",
    "df = df[pd.Index(cols)]\n",
    "\"\"\"\n",
    "\n",
    "# create smart_999_accumulated\n",
    "df = get_smart_999_accumulated(df)\n",
    "\n",
    "# create target\n",
    "df['failure_in_30_days'] = df['countdown'].apply(lambda x : 1 if x <= 30 else 0)\n",
    "df.head(5)"
   ]
  },
  {
   "cell_type": "markdown",
   "metadata": {},
   "source": [
    "# Split Data"
   ]
  },
  {
   "cell_type": "code",
   "execution_count": 6,
   "metadata": {},
   "outputs": [
    {
     "name": "stdout",
     "output_type": "stream",
     "text": [
      "number of unique disk in data: 608\n",
      "number of unique disk in train: 121\n",
      "number of unique disk in test: 487\n"
     ]
    }
   ],
   "source": [
    "# split data\n",
    "RSEED = 200\n",
    "serial_train, serial_test, dummy1, dummy2 = train_test_split(df['serial_number'].unique(), df['serial_number'].unique(), test_size=0.8, random_state=RSEED)\n",
    "df_train = df[df['serial_number'].isin(serial_train)]\n",
    "df_test = df[df['serial_number'].isin(serial_test)]\n",
    "\n",
    "print(\"number of unique disk in data:\", df[\"serial_number\"].nunique())\n",
    "print(\"number of unique disk in train:\", df_train[\"serial_number\"].nunique())\n",
    "print(\"number of unique disk in test:\", df_test[\"serial_number\"].nunique())"
   ]
  },
  {
   "cell_type": "code",
   "execution_count": 7,
   "metadata": {},
   "outputs": [
    {
     "data": {
      "text/plain": [
       "Index(['date', 'serial_number', 'model', 'failure', 'smart_1_raw',\n",
       "       'smart_4_raw', 'smart_5_raw', 'smart_7_raw', 'smart_9_raw',\n",
       "       'smart_12_raw', 'smart_183_raw', 'smart_184_raw', 'smart_187_raw',\n",
       "       'smart_188_raw', 'smart_189_raw', 'smart_190_raw', 'smart_192_raw',\n",
       "       'smart_193_raw', 'smart_194_raw', 'smart_197_raw', 'smart_198_raw',\n",
       "       'smart_199_raw', 'smart_240_raw', 'smart_241_raw', 'smart_242_raw',\n",
       "       'date_failure', 'countdown', 'smart_7_mod', 'smart_1_raw_ema',\n",
       "       'smart_4_raw_ema', 'smart_5_raw_ema', 'smart_7_raw_ema',\n",
       "       'smart_9_raw_ema', 'smart_12_raw_ema', 'smart_183_raw_ema',\n",
       "       'smart_184_raw_ema', 'smart_187_raw_ema', 'smart_188_raw_ema',\n",
       "       'smart_189_raw_ema', 'smart_190_raw_ema', 'smart_192_raw_ema',\n",
       "       'smart_193_raw_ema', 'smart_194_raw_ema', 'smart_197_raw_ema',\n",
       "       'smart_198_raw_ema', 'smart_199_raw_ema', 'smart_240_raw_ema',\n",
       "       'smart_241_raw_ema', 'smart_242_raw_ema', 'smart_7_mod_ema',\n",
       "       'smart_4_raw_trigger', 'smart_5_raw_trigger', 'smart_12_raw_trigger',\n",
       "       'smart_183_raw_trigger', 'smart_184_raw_trigger',\n",
       "       'smart_187_raw_trigger', 'smart_188_raw_trigger',\n",
       "       'smart_189_raw_trigger', 'smart_193_raw_trigger',\n",
       "       'smart_192_raw_trigger', 'smart_197_raw_trigger',\n",
       "       'smart_198_raw_trigger', 'smart_199_raw_trigger', 'smart_999',\n",
       "       'smart_999_accumulated', 'failure_in_30_days'],\n",
       "      dtype='object')"
      ]
     },
     "execution_count": 7,
     "metadata": {},
     "output_type": "execute_result"
    }
   ],
   "source": [
    "df.columns"
   ]
  },
  {
   "cell_type": "markdown",
   "metadata": {},
   "source": [
    "# Set X and y"
   ]
  },
  {
   "cell_type": "code",
   "execution_count": 8,
   "metadata": {},
   "outputs": [],
   "source": [
    "# set X and y\n",
    "\n",
    "cols_feature = [\n",
    "    'smart_1_raw', 'smart_4_raw', 'smart_5_raw', 'smart_7_mod', 'smart_9_raw',\n",
    "    'smart_12_raw', 'smart_183_raw', 'smart_184_raw', 'smart_187_raw',\n",
    "    'smart_188_raw', 'smart_189_raw', 'smart_190_raw', 'smart_192_raw',\n",
    "    'smart_193_raw', 'smart_194_raw', 'smart_197_raw', 'smart_198_raw',\n",
    "    'smart_199_raw', 'smart_240_raw', 'smart_241_raw', 'smart_242_raw',\n",
    "    'smart_999', 'smart_999_accumulated']\n",
    "\n",
    "\"\"\"\n",
    "cols_feature =['smart_1_raw',\n",
    "       'smart_4_raw', 'smart_5_raw', 'smart_7_mod', 'smart_9_raw',\n",
    "       'smart_12_raw', 'smart_183_raw', 'smart_184_raw', 'smart_187_raw',\n",
    "       'smart_188_raw', 'smart_189_raw', 'smart_190_raw', 'smart_192_raw',\n",
    "       'smart_193_raw', 'smart_194_raw', 'smart_197_raw', 'smart_198_raw',\n",
    "       'smart_199_raw', 'smart_240_raw', 'smart_241_raw', 'smart_242_raw',\n",
    "       'smart_999', 'smart_999_accumulated',\n",
    "       'smart_4_raw_trigger', 'smart_5_raw_trigger', 'smart_12_raw_trigger',\n",
    "       'smart_183_raw_trigger', 'smart_184_raw_trigger',\n",
    "       'smart_187_raw_trigger', 'smart_188_raw_trigger',\n",
    "       'smart_189_raw_trigger', 'smart_193_raw_trigger',\n",
    "       'smart_192_raw_trigger', 'smart_197_raw_trigger',\n",
    "       'smart_198_raw_trigger', 'smart_199_raw_trigger']\n",
    "\"\"\"\n",
    "\n",
    "X_train = df_train[cols_feature]\n",
    "y_train = df_train['failure_in_30_days']\n",
    "\n",
    "X_test = df_test[cols_feature]\n",
    "y_test = df_test['failure_in_30_days']"
   ]
  },
  {
   "cell_type": "markdown",
   "metadata": {},
   "source": [
    "# Log and Scale"
   ]
  },
  {
   "cell_type": "code",
   "execution_count": 9,
   "metadata": {},
   "outputs": [
    {
     "data": {
      "text/html": [
       "<div>\n",
       "<style scoped>\n",
       "    .dataframe tbody tr th:only-of-type {\n",
       "        vertical-align: middle;\n",
       "    }\n",
       "\n",
       "    .dataframe tbody tr th {\n",
       "        vertical-align: top;\n",
       "    }\n",
       "\n",
       "    .dataframe thead th {\n",
       "        text-align: right;\n",
       "    }\n",
       "</style>\n",
       "<table border=\"1\" class=\"dataframe\">\n",
       "  <thead>\n",
       "    <tr style=\"text-align: right;\">\n",
       "      <th></th>\n",
       "      <th>smart_1_raw</th>\n",
       "      <th>smart_4_raw</th>\n",
       "      <th>smart_5_raw</th>\n",
       "      <th>smart_7_mod</th>\n",
       "      <th>smart_9_raw</th>\n",
       "      <th>smart_12_raw</th>\n",
       "      <th>smart_183_raw</th>\n",
       "      <th>smart_184_raw</th>\n",
       "      <th>smart_187_raw</th>\n",
       "      <th>smart_188_raw</th>\n",
       "      <th>...</th>\n",
       "      <th>smart_193_raw</th>\n",
       "      <th>smart_194_raw</th>\n",
       "      <th>smart_197_raw</th>\n",
       "      <th>smart_198_raw</th>\n",
       "      <th>smart_199_raw</th>\n",
       "      <th>smart_240_raw</th>\n",
       "      <th>smart_241_raw</th>\n",
       "      <th>smart_242_raw</th>\n",
       "      <th>smart_999</th>\n",
       "      <th>smart_999_accumulated</th>\n",
       "    </tr>\n",
       "  </thead>\n",
       "  <tbody>\n",
       "    <tr>\n",
       "      <th>count</th>\n",
       "      <td>94697.000000</td>\n",
       "      <td>94697.000000</td>\n",
       "      <td>94697.000000</td>\n",
       "      <td>94697.000000</td>\n",
       "      <td>94697.000000</td>\n",
       "      <td>94697.000000</td>\n",
       "      <td>94697.000000</td>\n",
       "      <td>94697.000000</td>\n",
       "      <td>94697.000000</td>\n",
       "      <td>94697.000000</td>\n",
       "      <td>...</td>\n",
       "      <td>94697.000000</td>\n",
       "      <td>94697.000000</td>\n",
       "      <td>94697.000000</td>\n",
       "      <td>94697.000000</td>\n",
       "      <td>94697.000000</td>\n",
       "      <td>94697.000000</td>\n",
       "      <td>94697.000000</td>\n",
       "      <td>94697.000000</td>\n",
       "      <td>94697.000000</td>\n",
       "      <td>94697.000000</td>\n",
       "    </tr>\n",
       "    <tr>\n",
       "      <th>mean</th>\n",
       "      <td>0.948204</td>\n",
       "      <td>0.472718</td>\n",
       "      <td>0.022794</td>\n",
       "      <td>0.621281</td>\n",
       "      <td>0.707580</td>\n",
       "      <td>0.459828</td>\n",
       "      <td>0.081761</td>\n",
       "      <td>0.004035</td>\n",
       "      <td>0.095341</td>\n",
       "      <td>0.000550</td>\n",
       "      <td>...</td>\n",
       "      <td>0.584355</td>\n",
       "      <td>0.276573</td>\n",
       "      <td>0.041045</td>\n",
       "      <td>0.041045</td>\n",
       "      <td>0.005559</td>\n",
       "      <td>0.706257</td>\n",
       "      <td>0.795086</td>\n",
       "      <td>0.408038</td>\n",
       "      <td>0.060578</td>\n",
       "      <td>0.382207</td>\n",
       "    </tr>\n",
       "    <tr>\n",
       "      <th>std</th>\n",
       "      <td>0.052039</td>\n",
       "      <td>0.141462</td>\n",
       "      <td>0.114512</td>\n",
       "      <td>0.097827</td>\n",
       "      <td>0.133220</td>\n",
       "      <td>0.145687</td>\n",
       "      <td>0.151043</td>\n",
       "      <td>0.052058</td>\n",
       "      <td>0.184981</td>\n",
       "      <td>0.018728</td>\n",
       "      <td>...</td>\n",
       "      <td>0.148533</td>\n",
       "      <td>0.101728</td>\n",
       "      <td>0.115089</td>\n",
       "      <td>0.115089</td>\n",
       "      <td>0.051389</td>\n",
       "      <td>0.133807</td>\n",
       "      <td>0.122291</td>\n",
       "      <td>0.133298</td>\n",
       "      <td>0.174366</td>\n",
       "      <td>0.314086</td>\n",
       "    </tr>\n",
       "    <tr>\n",
       "      <th>min</th>\n",
       "      <td>0.000000</td>\n",
       "      <td>0.000000</td>\n",
       "      <td>0.000000</td>\n",
       "      <td>0.000000</td>\n",
       "      <td>0.000000</td>\n",
       "      <td>0.000000</td>\n",
       "      <td>0.000000</td>\n",
       "      <td>0.000000</td>\n",
       "      <td>0.000000</td>\n",
       "      <td>0.000000</td>\n",
       "      <td>...</td>\n",
       "      <td>0.000000</td>\n",
       "      <td>0.000000</td>\n",
       "      <td>0.000000</td>\n",
       "      <td>0.000000</td>\n",
       "      <td>0.000000</td>\n",
       "      <td>0.000000</td>\n",
       "      <td>0.000000</td>\n",
       "      <td>0.000000</td>\n",
       "      <td>0.000000</td>\n",
       "      <td>0.000000</td>\n",
       "    </tr>\n",
       "    <tr>\n",
       "      <th>25%</th>\n",
       "      <td>0.928609</td>\n",
       "      <td>0.372090</td>\n",
       "      <td>0.000000</td>\n",
       "      <td>0.561697</td>\n",
       "      <td>0.618812</td>\n",
       "      <td>0.366339</td>\n",
       "      <td>0.000000</td>\n",
       "      <td>0.000000</td>\n",
       "      <td>0.000000</td>\n",
       "      <td>0.000000</td>\n",
       "      <td>...</td>\n",
       "      <td>0.525919</td>\n",
       "      <td>0.202956</td>\n",
       "      <td>0.000000</td>\n",
       "      <td>0.000000</td>\n",
       "      <td>0.000000</td>\n",
       "      <td>0.616876</td>\n",
       "      <td>0.758890</td>\n",
       "      <td>0.300465</td>\n",
       "      <td>0.000000</td>\n",
       "      <td>0.000000</td>\n",
       "    </tr>\n",
       "    <tr>\n",
       "      <th>50%</th>\n",
       "      <td>0.964231</td>\n",
       "      <td>0.480920</td>\n",
       "      <td>0.000000</td>\n",
       "      <td>0.631594</td>\n",
       "      <td>0.713176</td>\n",
       "      <td>0.450492</td>\n",
       "      <td>0.000000</td>\n",
       "      <td>0.000000</td>\n",
       "      <td>0.000000</td>\n",
       "      <td>0.000000</td>\n",
       "      <td>...</td>\n",
       "      <td>0.566907</td>\n",
       "      <td>0.270698</td>\n",
       "      <td>0.000000</td>\n",
       "      <td>0.000000</td>\n",
       "      <td>0.000000</td>\n",
       "      <td>0.711810</td>\n",
       "      <td>0.818334</td>\n",
       "      <td>0.403724</td>\n",
       "      <td>0.000000</td>\n",
       "      <td>0.466492</td>\n",
       "    </tr>\n",
       "    <tr>\n",
       "      <th>75%</th>\n",
       "      <td>0.985138</td>\n",
       "      <td>0.558135</td>\n",
       "      <td>0.000000</td>\n",
       "      <td>0.688609</td>\n",
       "      <td>0.807072</td>\n",
       "      <td>0.549508</td>\n",
       "      <td>0.186036</td>\n",
       "      <td>0.000000</td>\n",
       "      <td>0.112735</td>\n",
       "      <td>0.000000</td>\n",
       "      <td>...</td>\n",
       "      <td>0.621168</td>\n",
       "      <td>0.367314</td>\n",
       "      <td>0.000000</td>\n",
       "      <td>0.000000</td>\n",
       "      <td>0.000000</td>\n",
       "      <td>0.806308</td>\n",
       "      <td>0.867679</td>\n",
       "      <td>0.506019</td>\n",
       "      <td>0.000000</td>\n",
       "      <td>0.636274</td>\n",
       "    </tr>\n",
       "    <tr>\n",
       "      <th>max</th>\n",
       "      <td>1.000000</td>\n",
       "      <td>1.000000</td>\n",
       "      <td>1.000000</td>\n",
       "      <td>1.000000</td>\n",
       "      <td>1.000000</td>\n",
       "      <td>1.000000</td>\n",
       "      <td>1.000000</td>\n",
       "      <td>1.000000</td>\n",
       "      <td>1.000000</td>\n",
       "      <td>1.000000</td>\n",
       "      <td>...</td>\n",
       "      <td>1.000000</td>\n",
       "      <td>1.000000</td>\n",
       "      <td>1.000000</td>\n",
       "      <td>1.000000</td>\n",
       "      <td>1.000000</td>\n",
       "      <td>1.000000</td>\n",
       "      <td>1.000000</td>\n",
       "      <td>1.000000</td>\n",
       "      <td>1.000000</td>\n",
       "      <td>1.000000</td>\n",
       "    </tr>\n",
       "  </tbody>\n",
       "</table>\n",
       "<p>8 rows × 23 columns</p>\n",
       "</div>"
      ],
      "text/plain": [
       "        smart_1_raw   smart_4_raw   smart_5_raw   smart_7_mod   smart_9_raw  \\\n",
       "count  94697.000000  94697.000000  94697.000000  94697.000000  94697.000000   \n",
       "mean       0.948204      0.472718      0.022794      0.621281      0.707580   \n",
       "std        0.052039      0.141462      0.114512      0.097827      0.133220   \n",
       "min        0.000000      0.000000      0.000000      0.000000      0.000000   \n",
       "25%        0.928609      0.372090      0.000000      0.561697      0.618812   \n",
       "50%        0.964231      0.480920      0.000000      0.631594      0.713176   \n",
       "75%        0.985138      0.558135      0.000000      0.688609      0.807072   \n",
       "max        1.000000      1.000000      1.000000      1.000000      1.000000   \n",
       "\n",
       "       smart_12_raw  smart_183_raw  smart_184_raw  smart_187_raw  \\\n",
       "count  94697.000000   94697.000000   94697.000000   94697.000000   \n",
       "mean       0.459828       0.081761       0.004035       0.095341   \n",
       "std        0.145687       0.151043       0.052058       0.184981   \n",
       "min        0.000000       0.000000       0.000000       0.000000   \n",
       "25%        0.366339       0.000000       0.000000       0.000000   \n",
       "50%        0.450492       0.000000       0.000000       0.000000   \n",
       "75%        0.549508       0.186036       0.000000       0.112735   \n",
       "max        1.000000       1.000000       1.000000       1.000000   \n",
       "\n",
       "       smart_188_raw  ...  smart_193_raw  smart_194_raw  smart_197_raw  \\\n",
       "count   94697.000000  ...   94697.000000   94697.000000   94697.000000   \n",
       "mean        0.000550  ...       0.584355       0.276573       0.041045   \n",
       "std         0.018728  ...       0.148533       0.101728       0.115089   \n",
       "min         0.000000  ...       0.000000       0.000000       0.000000   \n",
       "25%         0.000000  ...       0.525919       0.202956       0.000000   \n",
       "50%         0.000000  ...       0.566907       0.270698       0.000000   \n",
       "75%         0.000000  ...       0.621168       0.367314       0.000000   \n",
       "max         1.000000  ...       1.000000       1.000000       1.000000   \n",
       "\n",
       "       smart_198_raw  smart_199_raw  smart_240_raw  smart_241_raw  \\\n",
       "count   94697.000000   94697.000000   94697.000000   94697.000000   \n",
       "mean        0.041045       0.005559       0.706257       0.795086   \n",
       "std         0.115089       0.051389       0.133807       0.122291   \n",
       "min         0.000000       0.000000       0.000000       0.000000   \n",
       "25%         0.000000       0.000000       0.616876       0.758890   \n",
       "50%         0.000000       0.000000       0.711810       0.818334   \n",
       "75%         0.000000       0.000000       0.806308       0.867679   \n",
       "max         1.000000       1.000000       1.000000       1.000000   \n",
       "\n",
       "       smart_242_raw     smart_999  smart_999_accumulated  \n",
       "count   94697.000000  94697.000000           94697.000000  \n",
       "mean        0.408038      0.060578               0.382207  \n",
       "std         0.133298      0.174366               0.314086  \n",
       "min         0.000000      0.000000               0.000000  \n",
       "25%         0.300465      0.000000               0.000000  \n",
       "50%         0.403724      0.000000               0.466492  \n",
       "75%         0.506019      0.000000               0.636274  \n",
       "max         1.000000      1.000000               1.000000  \n",
       "\n",
       "[8 rows x 23 columns]"
      ]
     },
     "execution_count": 9,
     "metadata": {},
     "output_type": "execute_result"
    }
   ],
   "source": [
    "# log \n",
    "X_train_log = X_train.apply(lambda x : np.log10(x+1))\n",
    "X_test_log = X_test.apply(lambda x : np.log10(x+1))\n",
    "\n",
    "# scale\n",
    "scaler = MinMaxScaler()\n",
    "scaler.fit(X_train_log)\n",
    "\n",
    "X_train_log_scaled = pd.DataFrame(scaler.transform(X_train_log), columns=X_train_log.columns)\n",
    "X_test_log_scaled = pd.DataFrame(scaler.transform(X_test_log), columns=X_test_log.columns)\n",
    "X_train_log_scaled.describe()"
   ]
  },
  {
   "cell_type": "markdown",
   "metadata": {},
   "source": [
    "# Function for Printing Metrics"
   ]
  },
  {
   "cell_type": "code",
   "execution_count": 10,
   "metadata": {},
   "outputs": [],
   "source": [
    "def show_metrics(y_train, y_train_pred, y_test, y_test_pred, digit=20):\n",
    "    for data in [\"train\", \"test\"]:\n",
    "        print(\"=======================================\")\n",
    "        print(f\"# For {data} data:\")\n",
    "        if data == \"train\":\n",
    "            y_true = y_train\n",
    "            y_pred = y_train_pred\n",
    "        else:\n",
    "            y_true = y_test\n",
    "            y_pred = y_test_pred\n",
    "        f2 = fbeta_score(y_true, y_pred, beta=2)\n",
    "        pre = precision_score(y_true, y_pred)\n",
    "        rec = recall_score(y_true, y_pred)\n",
    "        acc = accuracy_score(y_true, y_pred)\n",
    "        print(\"  f2-score  :\", (f2*100).round(digit), \"%\")\n",
    "        print(\"  precision :\", (pre*100).round(digit), \"%\")\n",
    "        print(\"  recall    :\", (rec*100).round(digit), \"%\")\n",
    "        print(\"  accuracy  :\", (acc*100).round(digit), \"%\")\n",
    "\n",
    "    fig, axes = plt.subplots(2,2,figsize=(6, 6))\n",
    "    fig.suptitle(\"Confusion Matrix\")\n",
    "    for i in range(4):\n",
    "        if i//2 == 0:\n",
    "            train_or_test = \"Train\"\n",
    "            y_true = y_train\n",
    "            y_pred = y_train_pred\n",
    "        else:\n",
    "            train_or_test = \"Test\"\n",
    "            y_true = y_test\n",
    "            y_pred = y_test_pred\n",
    "        if i%2 == 0:\n",
    "            scale = \" (log scale)\"\n",
    "            data = np.log10(confusion_matrix(y_true, y_pred))\n",
    "        else:\n",
    "            data = confusion_matrix(y_true, y_pred)\n",
    "            scale = \"\"\n",
    "        sns.heatmap(data, annot=True, ax=axes[i//2, i%2])\n",
    "        axes[i//2,i%2].set_title(f\"{train_or_test}{scale}\")\n",
    "        axes[i//2,i%2].set_ylabel(\"Truth\", fontsize=25)\n",
    "        axes[i//2,i%2].set_xlabel(\"Prediction\", fontsize=25)\n",
    "\n",
    "    fig.tight_layout()\n",
    "    plt.show()\n",
    "\n",
    "def show_roc_curve(y_train, y_train_score, y_test, y_test_score):\n",
    "    RocCurveDisplay.from_predictions(y_train, y_train_score)\n",
    "    RocCurveDisplay.from_predictions(y_test, y_test_score)\n"
   ]
  },
  {
   "cell_type": "markdown",
   "metadata": {},
   "source": [
    "# Neural Network"
   ]
  },
  {
   "cell_type": "markdown",
   "metadata": {},
   "source": [
    "Check again the shape and features in X:"
   ]
  },
  {
   "cell_type": "code",
   "execution_count": 11,
   "metadata": {},
   "outputs": [
    {
     "name": "stdout",
     "output_type": "stream",
     "text": [
      "(94697, 23)\n"
     ]
    },
    {
     "data": {
      "text/plain": [
       "Index(['smart_1_raw', 'smart_4_raw', 'smart_5_raw', 'smart_7_mod',\n",
       "       'smart_9_raw', 'smart_12_raw', 'smart_183_raw', 'smart_184_raw',\n",
       "       'smart_187_raw', 'smart_188_raw', 'smart_189_raw', 'smart_190_raw',\n",
       "       'smart_192_raw', 'smart_193_raw', 'smart_194_raw', 'smart_197_raw',\n",
       "       'smart_198_raw', 'smart_199_raw', 'smart_240_raw', 'smart_241_raw',\n",
       "       'smart_242_raw', 'smart_999', 'smart_999_accumulated'],\n",
       "      dtype='object')"
      ]
     },
     "execution_count": 11,
     "metadata": {},
     "output_type": "execute_result"
    }
   ],
   "source": [
    "print(X_train.shape)\n",
    "X_train.columns"
   ]
  },
  {
   "cell_type": "markdown",
   "metadata": {},
   "source": [
    "Construct layers and compile:"
   ]
  },
  {
   "cell_type": "code",
   "execution_count": 11,
   "metadata": {},
   "outputs": [
    {
     "name": "stdout",
     "output_type": "stream",
     "text": [
      "Metal device set to: Apple M1\n",
      "\n",
      "systemMemory: 8.00 GB\n",
      "maxCacheSize: 2.67 GB\n",
      "\n"
     ]
    },
    {
     "name": "stderr",
     "output_type": "stream",
     "text": [
      "2022-03-21 14:02:00.846785: I tensorflow/core/common_runtime/pluggable_device/pluggable_device_factory.cc:305] Could not identify NUMA node of platform GPU ID 0, defaulting to 0. Your kernel may not have been built with NUMA support.\n",
      "2022-03-21 14:02:00.848438: I tensorflow/core/common_runtime/pluggable_device/pluggable_device_factory.cc:271] Created TensorFlow device (/job:localhost/replica:0/task:0/device:GPU:0 with 0 MB memory) -> physical PluggableDevice (device: 0, name: METAL, pci bus id: <undefined>)\n"
     ]
    },
    {
     "name": "stdout",
     "output_type": "stream",
     "text": [
      "Model: \"sequential\"\n",
      "_________________________________________________________________\n",
      " Layer (type)                Output Shape              Param #   \n",
      "=================================================================\n",
      " dense (Dense)               (None, 15)                360       \n",
      "                                                                 \n",
      " dense_1 (Dense)             (None, 15)                240       \n",
      "                                                                 \n",
      " dense_2 (Dense)             (None, 1)                 16        \n",
      "                                                                 \n",
      "=================================================================\n",
      "Total params: 616\n",
      "Trainable params: 616\n",
      "Non-trainable params: 0\n",
      "_________________________________________________________________\n",
      "None\n"
     ]
    },
    {
     "data": {
      "image/png": "[encoded data removed]",
      "text/plain": [
       "<IPython.core.display.Image object>"
      ]
     },
     "execution_count": 11,
     "metadata": {},
     "output_type": "execute_result"
    }
   ],
   "source": [
    "# Initialising the NN\n",
    "model = Sequential()\n",
    "\n",
    "# layers\n",
    "model.add(Dense(units = 15, kernel_initializer = 'uniform', activation = 'relu', input_dim = X_train.shape[1]))\n",
    "model.add(Dense(units = 15, kernel_initializer = 'uniform', activation = 'relu'))\n",
    "#model.add(Dense(units = 15, kernel_initializer = 'uniform', activation = 'relu'))\n",
    "#model.add(Dense(units = 15, kernel_initializer = 'uniform', activation = 'relu'))\n",
    "#model.add(Dropout(0.2))\n",
    "model.add(Dense(units = 1, kernel_initializer = 'uniform', activation = 'sigmoid'))\n",
    "\n",
    "# Compiling the ANN\n",
    "model.compile(optimizer = 'adam', loss = 'binary_crossentropy', metrics = ['AUC', 'Recall', 'Precision', 'accuracy'])\n",
    "print(model.summary())\n",
    "plot_model(model, show_shapes=True, show_layer_names=True, dpi=96)"
   ]
  },
  {
   "cell_type": "markdown",
   "metadata": {},
   "source": [
    "Train the network:"
   ]
  },
  {
   "cell_type": "code",
   "execution_count": 14,
   "metadata": {},
   "outputs": [
    {
     "name": "stdout",
     "output_type": "stream",
     "text": [
      "Epoch 1/10\n",
      "379/379 [==============================] - 5s 13ms/step - loss: 2.2364 - auc: 0.4945 - recall: 1.0000 - precision: 0.0349 - accuracy: 0.0359 - val_loss: 1.3754 - val_auc: 0.5000 - val_recall: 1.0000 - val_precision: 0.0589 - val_accuracy: 0.0589\n",
      "Epoch 2/10\n",
      "379/379 [==============================] - 5s 13ms/step - loss: 2.2364 - auc: 0.4983 - recall: 1.0000 - precision: 0.0349 - accuracy: 0.0359 - val_loss: 1.3770 - val_auc: 0.5000 - val_recall: 1.0000 - val_precision: 0.0589 - val_accuracy: 0.0589\n",
      "Epoch 3/10\n",
      "379/379 [==============================] - 5s 13ms/step - loss: 2.2364 - auc: 0.5006 - recall: 1.0000 - precision: 0.0349 - accuracy: 0.0359 - val_loss: 1.3782 - val_auc: 0.5000 - val_recall: 1.0000 - val_precision: 0.0589 - val_accuracy: 0.0589\n",
      "Epoch 4/10\n",
      "379/379 [==============================] - 5s 13ms/step - loss: 2.2364 - auc: 0.4975 - recall: 1.0000 - precision: 0.0349 - accuracy: 0.0359 - val_loss: 1.3788 - val_auc: 0.5000 - val_recall: 1.0000 - val_precision: 0.0589 - val_accuracy: 0.0589\n",
      "Epoch 5/10\n",
      "379/379 [==============================] - 5s 13ms/step - loss: 2.2364 - auc: 0.5016 - recall: 1.0000 - precision: 0.0349 - accuracy: 0.0359 - val_loss: 1.3800 - val_auc: 0.5000 - val_recall: 1.0000 - val_precision: 0.0589 - val_accuracy: 0.0589\n",
      "Epoch 6/10\n",
      "379/379 [==============================] - 5s 13ms/step - loss: 2.2365 - auc: 0.4942 - recall: 1.0000 - precision: 0.0349 - accuracy: 0.0359 - val_loss: 1.3804 - val_auc: 0.5000 - val_recall: 1.0000 - val_precision: 0.0589 - val_accuracy: 0.0589\n",
      "Epoch 7/10\n",
      "379/379 [==============================] - 5s 13ms/step - loss: 2.2364 - auc: 0.5006 - recall: 1.0000 - precision: 0.0349 - accuracy: 0.0359 - val_loss: 1.3822 - val_auc: 0.5000 - val_recall: 1.0000 - val_precision: 0.0589 - val_accuracy: 0.0589\n",
      "Epoch 8/10\n",
      "379/379 [==============================] - 5s 13ms/step - loss: 2.2364 - auc: 0.4983 - recall: 1.0000 - precision: 0.0349 - accuracy: 0.0359 - val_loss: 1.3827 - val_auc: 0.5000 - val_recall: 1.0000 - val_precision: 0.0589 - val_accuracy: 0.0589\n",
      "Epoch 9/10\n",
      "379/379 [==============================] - 5s 13ms/step - loss: 2.2364 - auc: 0.5006 - recall: 1.0000 - precision: 0.0349 - accuracy: 0.0359 - val_loss: 1.3781 - val_auc: 0.5000 - val_recall: 1.0000 - val_precision: 0.0589 - val_accuracy: 0.0589\n",
      "Epoch 10/10\n",
      "379/379 [==============================] - 5s 12ms/step - loss: 2.2364 - auc: 0.4966 - recall: 1.0000 - precision: 0.0349 - accuracy: 0.0359 - val_loss: 1.3793 - val_auc: 0.5000 - val_recall: 1.0000 - val_precision: 0.0589 - val_accuracy: 0.0589\n"
     ]
    },
    {
     "data": {
      "image/png": "[encoded data removed]",
      "text/plain": [
       "<Figure size 576x396 with 1 Axes>"
      ]
     },
     "metadata": {},
     "output_type": "display_data"
    },
    {
     "name": "stdout",
     "output_type": "stream",
     "text": [
      "=======================================\n",
      "# For train data:\n",
      "  f2-score  : 17.128785114921563 %\n",
      "  precision : 3.9697302781770523 %\n",
      "  recall    : 100.0 %\n",
      "  accuracy  : 4.0518707034013755 %\n",
      "=======================================\n",
      "# For test data:\n",
      "  f2-score  : 17.412725126103474 %\n",
      "  precision : 4.057250520247969 %\n",
      "  recall    : 98.3429442566448 %\n",
      "  accuracy  : 4.660477316729438 %\n"
     ]
    },
    {
     "name": "stderr",
     "output_type": "stream",
     "text": [
      "/var/folders/4f/mz1b5sg57p7324fdvfrshs1c0000gn/T/ipykernel_55521/3583009762.py:33: RuntimeWarning: divide by zero encountered in log10\n",
      "  data = np.log10(confusion_matrix(y_true, y_pred))\n"
     ]
    },
    {
     "data": {
      "image/png": "[encoded data removed]",
      "text/plain": [
       "<Figure size 432x432 with 8 Axes>"
      ]
     },
     "metadata": {},
     "output_type": "display_data"
    }
   ],
   "source": [
    "# Train the ANN\n",
    "training = model.fit(X_train, y_train, batch_size = 200, validation_split=0.2, epochs = 10, class_weight={0:1.0, 1:90.0})\n",
    "\n",
    "# summarize history for accuracy\n",
    "plt.plot(training.history['loss'])\n",
    "plt.plot(training.history['val_loss'])\n",
    "plt.title('model accuracy')\n",
    "plt.ylabel('loss')\n",
    "plt.xlabel('epoch')\n",
    "plt.legend(['train', 'validation'], loc='upper left')\n",
    "plt.show()\n",
    "\n",
    "\n",
    "\n",
    "y_train_pred = model.predict(X_train)\n",
    "y_test_pred = model.predict(X_test)\n",
    "\n",
    "show_metrics(y_train, y_train_pred.round(), y_test, y_test_pred.round(), digit=20)"
   ]
  },
  {
   "cell_type": "code",
   "execution_count": null,
   "metadata": {},
   "outputs": [
    {
     "data": {
      "image/png": "[encoded data removed]",
      "text/plain": [
       "<Figure size 576x396 with 1 Axes>"
      ]
     },
     "metadata": {},
     "output_type": "display_data"
    }
   ],
   "source": [
    "# summarize history for accuracy\n",
    "plt.plot(training.history['loss'])\n",
    "plt.plot(training.history['val_loss'])\n",
    "plt.title('model accuracy')\n",
    "plt.ylabel('loss')\n",
    "plt.xlabel('epoch')\n",
    "plt.legend(['train', 'validation'], loc='upper left')\n",
    "plt.show()"
   ]
  },
  {
   "cell_type": "markdown",
   "metadata": {},
   "source": [
    "Make predictions:"
   ]
  },
  {
   "cell_type": "code",
   "execution_count": null,
   "metadata": {},
   "outputs": [
    {
     "name": "stdout",
     "output_type": "stream",
     "text": [
      "=======================================\n",
      "# For train data:\n",
      "  f2-score  : 17.37090825265099 %\n",
      "  precision : 4.034900780689448 %\n",
      "  recall    : 100.0 %\n",
      "  accuracy  : 4.053138894019331 %\n",
      "=======================================\n",
      "# For test data:\n",
      "  f2-score  : 18.053893648590435 %\n",
      "  precision : 4.220325139577296 %\n",
      "  recall    : 100.0 %\n",
      "  accuracy  : 4.220325139577296 %\n"
     ]
    },
    {
     "name": "stderr",
     "output_type": "stream",
     "text": [
      "/var/folders/4f/mz1b5sg57p7324fdvfrshs1c0000gn/T/ipykernel_54321/3583009762.py:33: RuntimeWarning: divide by zero encountered in log10\n",
      "  data = np.log10(confusion_matrix(y_true, y_pred))\n",
      "/var/folders/4f/mz1b5sg57p7324fdvfrshs1c0000gn/T/ipykernel_54321/3583009762.py:33: RuntimeWarning: divide by zero encountered in log10\n",
      "  data = np.log10(confusion_matrix(y_true, y_pred))\n"
     ]
    },
    {
     "data": {
      "image/png": "[encoded data removed]",
      "text/plain": [
       "<Figure size 432x432 with 8 Axes>"
      ]
     },
     "metadata": {},
     "output_type": "display_data"
    }
   ],
   "source": [
    "y_train_pred = model.predict(X_train)\n",
    "y_test_pred = model.predict(X_test)\n",
    "\n",
    "\n",
    "show_metrics(y_train, y_train_pred.round(), y_test, y_test_pred.round(), digit=20)"
   ]
  },
  {
   "cell_type": "markdown",
   "metadata": {},
   "source": [
    "        3, 3; w90\n",
    "        =======================================\n",
    "        # For train data:\n",
    "        f2-score  : 17.310091811460605 %\n",
    "        precision : 4.018503707226389 %\n",
    "        recall    : 100.0 %\n",
    "        accuracy  : 4.018503707226389 %\n",
    "        =======================================\n",
    "        # For test data:\n",
    "        f2-score  : 17.508329185092773 %\n",
    "        precision : 4.073233142321692 %\n",
    "        recall    : 99.81747527084315 %\n",
    "        accuracy  : 4.180435466027363 %\n",
    "\n",
    "        15, 15; w90\n",
    "        =======================================\n",
    "        # For train data:\n",
    "          f2-score  : 26.163055699048893 %\n",
    "          precision : 6.7600989282769985 %\n",
    "          recall    : 92.63044647660033 %\n",
    "          accuracy  : 48.362551609346966 %\n",
    "        =======================================\n",
    "        # For test data:\n",
    "          f2-score  : 24.17316637767213 %\n",
    "          precision : 6.177189525919506 %\n",
    "          recall    : 88.97786151672162 %\n",
    "          accuracy  : 44.46836235880231 %\n",
    "\n",
    "        30, 30; w90\n",
    "        =======================================\n",
    "        # For train data:\n",
    "          f2-score  : 3.89937106918239 %\n",
    "          precision : 12.06225680933852 %\n",
    "          recall    : 3.335126412049489 %\n",
    "          accuracy  : 95.13845355699185 %\n",
    "        =======================================\n",
    "        # For test data:\n",
    "          f2-score  : 4.348298728122622 %\n",
    "          precision : 11.315417256011315 %\n",
    "          recall    : 3.7682524729156857 %\n",
    "          accuracy  : 94.87404698310307 %\n",
    "\n",
    "        45, 45; w90\n",
    "        =======================================\n",
    "        # For train data:\n",
    "          f2-score  : 21.642955270449622 %\n",
    "          precision : 5.234997606375489 %\n",
    "          recall    : 100.0 %\n",
    "          accuracy  : 27.256220142236447 %\n",
    "        =======================================\n",
    "        # For test data:\n",
    "          f2-score  : 21.3348321986586 %\n",
    "          precision : 5.150967159572943 %\n",
    "          recall    : 99.45242581252943 %\n",
    "          accuracy  : 25.337470572566072 %\n",
    "          "
   ]
  },
  {
   "cell_type": "markdown",
   "metadata": {},
   "source": [
    "        15, 15; w90\n",
    "        =======================================\n",
    "        # For train data:\n",
    "          f2-score  : 26.163055699048893 %\n",
    "          precision : 6.7600989282769985 %\n",
    "          recall    : 92.63044647660033 %\n",
    "          accuracy  : 48.362551609346966 %\n",
    "        =======================================\n",
    "        # For test data:\n",
    "          f2-score  : 24.17316637767213 %\n",
    "          precision : 6.177189525919506 %\n",
    "          recall    : 88.97786151672162 %\n",
    "          accuracy  : 44.46836235880231 %\n",
    "\n",
    "\n",
    "\n",
    "        15, 15, 15, 15; w90\n",
    "        =======================================\n",
    "        # For train data:\n",
    "        f2-score  : 29.467831612390796 %\n",
    "        precision : 8.363390441839496 %\n",
    "        recall    : 79.82786444324907 %\n",
    "        accuracy  : 64.04098484684724 %\n",
    "        =======================================\n",
    "        # For test data:\n",
    "        f2-score  : 28.570077587589278 %\n",
    "        precision : 7.928773969750047 %\n",
    "        recall    : 81.82406971267075 %\n",
    "        accuracy  : 60.532321581558094 %"
   ]
  },
  {
   "cell_type": "code",
   "execution_count": null,
   "metadata": {},
   "outputs": [
    {
     "data": {
      "text/plain": [
       "array([[0.7648418],\n",
       "       [0.7648418],\n",
       "       [0.7648418],\n",
       "       ...,\n",
       "       [0.7648418],\n",
       "       [0.7648418],\n",
       "       [0.7648418]], dtype=float32)"
      ]
     },
     "execution_count": 16,
     "metadata": {},
     "output_type": "execute_result"
    }
   ],
   "source": [
    "y_test_pred"
   ]
  },
  {
   "cell_type": "code",
   "execution_count": null,
   "metadata": {},
   "outputs": [
    {
     "data": {
      "image/png": "[encoded data removed]",
      "text/plain": [
       "<Figure size 576x396 with 1 Axes>"
      ]
     },
     "metadata": {},
     "output_type": "display_data"
    },
    {
     "data": {
      "image/png": "[encoded data removed]",
      "text/plain": [
       "<Figure size 576x396 with 1 Axes>"
      ]
     },
     "metadata": {},
     "output_type": "display_data"
    }
   ],
   "source": [
    "show_roc_curve(y_train, y_train_pred, y_test, y_test_pred)"
   ]
  },
  {
   "cell_type": "code",
   "execution_count": null,
   "metadata": {},
   "outputs": [],
   "source": []
  }
 ],
 "metadata": {
  "interpreter": {
   "hash": "9b9d5440833ed335e3c19c91f1119a68ae0361108b34514e151e8a05b830b3b7"
  },
  "kernelspec": {
   "display_name": "Python 3.9.4 ('.venv': venv)",
   "language": "python",
   "name": "python3"
  },
  "language_info": {
   "codemirror_mode": {
    "name": "ipython",
    "version": 3
   },
   "file_extension": ".py",
   "mimetype": "text/x-python",
   "name": "python",
   "nbconvert_exporter": "python",
   "pygments_lexer": "ipython3",
   "version": "3.9.4"
  },
  "orig_nbformat": 4
 },
 "nbformat": 4,
 "nbformat_minor": 2
}
